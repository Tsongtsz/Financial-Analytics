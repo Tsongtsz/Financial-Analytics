{
 "cells": [
  {
   "cell_type": "markdown",
   "metadata": {},
   "source": [
    "<center> <h1> Stock Return Analysis and the Efficient Frontier </h1> </center>\n",
    "<center> <h3> Group 12: Congci Hao</h3> </center>\n",
    "\n",
    "<b> Project Scope: </b>\n",
    "\n",
    "The goal of this notebook is to anlayze stock performance of 30 stocks in the Dow Jones list over the past 10 years from 1/1/2010 to 1/1/2019 by comparing expected returns and realized returns through the application of Captial Asset Pricing Model (CAPM). Later, I selected three top performers based on alpha, the ability to beat the market, and visualized the portfolio optimization by constructing the efficient frontier. In the end, I conducted regression analysis to explore pontential relationships between minimum variance portfolio and other variables. \n",
    " \n",
    "\n",
    "<b> Sections: </b>\n",
    "\n",
    "<ul> I. Analyze the expected returns of 30 stocks in the Dow Jones list by applying CAPM </ul>\n",
    "<ul> II. Measure stock performance by calculating important statistics and comparing the expected returns and realized returns</ul>\n",
    "<ul> III. Interpret and visualize stock returns by companies and industries to conclude investment insights </ul>\n",
    "<ul> IV. Construct the efficient frontier of the portfolio composed of top 3 performers based on alphas </ul>\n",
    "<ul> V. Perform regression analysis on the minimum variance portfolio against the S&P 500 index and Google Trends</ul>\n",
    "<ul> VI. Conclusion </ul>"
   ]
  },
  {
   "cell_type": "markdown",
   "metadata": {},
   "source": [
    "## Section I: Analyze the Expected Return \n",
    "### Retrieve company information of 30 companies in the Dow Jones list\n",
    "\n",
    "I extracted basic company information from the wikipedia page (https://en.wikipedia.org/wiki/Dow_Jones_Industrial_Average) by using BeautifulSoup and built a list company tickers that will be used later to retreive stock prices. Company information includes company name, stock tickers, and industry, which are transformed to a pandas dataframe."
   ]
  },
  {
   "cell_type": "code",
   "execution_count": 1,
   "metadata": {},
   "outputs": [],
   "source": [
    "import warnings\n",
    "warnings.filterwarnings(\"ignore\")\n",
    "\n",
    "import pandas as pd\n",
    "import numpy as np\n",
    "from pandas_datareader import data as wb\n",
    "\n",
    "from scipy import stats\n",
    "import statsmodels.api as sm \n",
    "\n",
    "from datetime import datetime\n",
    "\n",
    "import matplotlib.pyplot as plt\n",
    "%matplotlib inline"
   ]
  },
  {
   "cell_type": "code",
   "execution_count": 2,
   "metadata": {},
   "outputs": [],
   "source": [
    "#Set the maximum number of outputs \n",
    "pd.options.display.max_rows = 20"
   ]
  },
  {
   "cell_type": "code",
   "execution_count": 3,
   "metadata": {},
   "outputs": [
    {
     "name": "stdout",
     "output_type": "stream",
     "text": [
      "[('3M', 'MMM', 'Conglomerate'), ('American Express', 'AXP', 'Financial services'), ('Apple', 'AAPL', 'Information technologies'), ('Boeing', 'BA', 'Aerospace and defense'), ('Caterpillar', 'CAT', 'Construction and mining equipment'), ('Chevron', 'CVX', 'Oil & gas'), ('Cisco Systems', 'CSCO', 'Information technologies'), ('Coca-Cola', 'KO', 'Food'), ('Dow Inc.', 'DOW', 'Chemical industry'), ('ExxonMobil', 'XOM', 'Oil & gas'), ('Goldman Sachs', 'GS', 'Financial services'), ('The Home Depot', 'HD', 'Retail'), ('IBM', 'IBM', 'Information technologies'), ('Intel', 'INTC', 'Information technologies'), ('Johnson & Johnson', 'JNJ', 'Pharmaceuticals'), ('JPMorgan Chase', 'JPM', 'Financial services'), (\"McDonald's\", 'MCD', 'Food'), ('Merck & Company', 'MRK', 'Pharmaceuticals'), ('Microsoft', 'MSFT', 'Information technologies'), ('Nike', 'NKE', 'Apparel'), ('Pfizer', 'PFE', 'Pharmaceuticals'), ('Procter & Gamble', 'PG', 'Consumer goods'), ('Travelers', 'TRV', 'Insurance'), ('UnitedHealth Group', 'UNH', 'Managed health care'), ('United Technologies', 'UTX', 'Conglomerate'), ('Verizon', 'VZ', 'Telecommunication'), ('Visa', 'V', 'Financial services'), ('Walmart', 'WMT', 'Retail'), ('Walgreens Boots Alliance', 'WBA', 'Retail'), ('Walt Disney', 'DIS', 'Broadcasting and entertainment')]\n"
     ]
    },
    {
     "data": {
      "text/plain": [
       "30"
      ]
     },
     "execution_count": 3,
     "metadata": {},
     "output_type": "execute_result"
    }
   ],
   "source": [
    "import re, requests\n",
    "from bs4 import BeautifulSoup\n",
    "\n",
    "url = 'https://en.wikipedia.org/wiki/Dow_Jones_Industrial_Average'\n",
    "req = requests.get(url)\n",
    "html = req.text\n",
    "\n",
    "#content = re.findall('<tbody>.+?</tbody>',html,re.DOTALL)\n",
    "soup = BeautifulSoup(html, 'html.parser')\n",
    "\n",
    "records = []\n",
    "tt = ()\n",
    "table = soup.find('table', attrs={'class':\"wikitable sortable\"})\n",
    "entries = table.find_all('tr')\n",
    "for entry in entries:\n",
    "\n",
    "    columns = entry.find_all('td')\n",
    "    \n",
    "    if len (columns)>5 :\n",
    "\n",
    "        name = columns[0].get_text().strip('\\n')\n",
    "        ticker = columns[2].get_text().strip('\\n')\n",
    "        industry = columns[3].get_text().strip('\\n')\n",
    "\n",
    "        tt = (name,ticker,industry)\n",
    "\n",
    "    records.append(tt)\n",
    "#Need to filter an empty list from the source code\n",
    "records = list(filter(None, records))\n",
    "\n",
    "print(records)\n",
    "len(records)"
   ]
  },
  {
   "cell_type": "code",
   "execution_count": 4,
   "metadata": {},
   "outputs": [],
   "source": [
    "# Transform the list of tuples in the varaible records into a pandas dataframe \n",
    "df = pd.DataFrame(records)\n",
    "\n",
    "# Set column names \n",
    "df.columns=['Company','Ticker','Industry']"
   ]
  },
  {
   "cell_type": "markdown",
   "metadata": {},
   "source": [
    "### Construct the dataframe of stock prices for 30 companies and calculate the stock returns \n",
    "\n",
    "I retreived the daily stock prices of 30 stocks based on the tickers from previous section by using the pandas datareader through Yahoo Finance API. The daily stock prices are used to calculate the stock returns in the logarithm term because it reduces the variation of the time series.\n",
    "\n",
    "Two new dataframes:\n",
    "\n",
    "<b> log_returns: </b> includes S&P 500 ('^GSPC')\n",
    "\n",
    "<b> sec_returns: </b> without S&P 500"
   ]
  },
  {
   "cell_type": "code",
   "execution_count": 5,
   "metadata": {},
   "outputs": [
    {
     "data": {
      "text/html": [
       "<div>\n",
       "<style scoped>\n",
       "    .dataframe tbody tr th:only-of-type {\n",
       "        vertical-align: middle;\n",
       "    }\n",
       "\n",
       "    .dataframe tbody tr th {\n",
       "        vertical-align: top;\n",
       "    }\n",
       "\n",
       "    .dataframe thead th {\n",
       "        text-align: right;\n",
       "    }\n",
       "</style>\n",
       "<table border=\"1\" class=\"dataframe\">\n",
       "  <thead>\n",
       "    <tr style=\"text-align: right;\">\n",
       "      <th></th>\n",
       "      <th>MMM</th>\n",
       "      <th>AXP</th>\n",
       "      <th>AAPL</th>\n",
       "      <th>BA</th>\n",
       "      <th>CAT</th>\n",
       "      <th>CVX</th>\n",
       "      <th>CSCO</th>\n",
       "      <th>KO</th>\n",
       "      <th>DOW</th>\n",
       "      <th>XOM</th>\n",
       "      <th>...</th>\n",
       "      <th>PG</th>\n",
       "      <th>TRV</th>\n",
       "      <th>UNH</th>\n",
       "      <th>UTX</th>\n",
       "      <th>VZ</th>\n",
       "      <th>V</th>\n",
       "      <th>WMT</th>\n",
       "      <th>WBA</th>\n",
       "      <th>DIS</th>\n",
       "      <th>^GSPC</th>\n",
       "    </tr>\n",
       "    <tr>\n",
       "      <th>Date</th>\n",
       "      <th></th>\n",
       "      <th></th>\n",
       "      <th></th>\n",
       "      <th></th>\n",
       "      <th></th>\n",
       "      <th></th>\n",
       "      <th></th>\n",
       "      <th></th>\n",
       "      <th></th>\n",
       "      <th></th>\n",
       "      <th></th>\n",
       "      <th></th>\n",
       "      <th></th>\n",
       "      <th></th>\n",
       "      <th></th>\n",
       "      <th></th>\n",
       "      <th></th>\n",
       "      <th></th>\n",
       "      <th></th>\n",
       "      <th></th>\n",
       "      <th></th>\n",
       "    </tr>\n",
       "  </thead>\n",
       "  <tbody>\n",
       "    <tr>\n",
       "      <th>2019-04-16</th>\n",
       "      <td>216.899994</td>\n",
       "      <td>111.879997</td>\n",
       "      <td>199.250000</td>\n",
       "      <td>381.720001</td>\n",
       "      <td>141.174271</td>\n",
       "      <td>121.169998</td>\n",
       "      <td>56.950001</td>\n",
       "      <td>46.950001</td>\n",
       "      <td>58.500000</td>\n",
       "      <td>81.199997</td>\n",
       "      <td>...</td>\n",
       "      <td>105.673996</td>\n",
       "      <td>138.339996</td>\n",
       "      <td>220.960007</td>\n",
       "      <td>135.339996</td>\n",
       "      <td>58.790001</td>\n",
       "      <td>160.229996</td>\n",
       "      <td>102.930000</td>\n",
       "      <td>54.840000</td>\n",
       "      <td>129.899994</td>\n",
       "      <td>2907.060059</td>\n",
       "    </tr>\n",
       "    <tr>\n",
       "      <th>2019-04-17</th>\n",
       "      <td>217.639999</td>\n",
       "      <td>111.760002</td>\n",
       "      <td>203.130005</td>\n",
       "      <td>377.519989</td>\n",
       "      <td>141.880005</td>\n",
       "      <td>120.269997</td>\n",
       "      <td>56.310001</td>\n",
       "      <td>47.279999</td>\n",
       "      <td>58.320000</td>\n",
       "      <td>81.430000</td>\n",
       "      <td>...</td>\n",
       "      <td>105.849998</td>\n",
       "      <td>135.869995</td>\n",
       "      <td>216.839996</td>\n",
       "      <td>135.789993</td>\n",
       "      <td>57.779999</td>\n",
       "      <td>160.440002</td>\n",
       "      <td>103.160004</td>\n",
       "      <td>55.139999</td>\n",
       "      <td>131.750000</td>\n",
       "      <td>2900.449951</td>\n",
       "    </tr>\n",
       "    <tr>\n",
       "      <th>2019-04-18</th>\n",
       "      <td>218.880005</td>\n",
       "      <td>113.669998</td>\n",
       "      <td>203.860001</td>\n",
       "      <td>380.070007</td>\n",
       "      <td>143.360001</td>\n",
       "      <td>119.860001</td>\n",
       "      <td>56.400002</td>\n",
       "      <td>47.480000</td>\n",
       "      <td>57.770000</td>\n",
       "      <td>81.129997</td>\n",
       "      <td>...</td>\n",
       "      <td>106.050003</td>\n",
       "      <td>138.929993</td>\n",
       "      <td>221.750000</td>\n",
       "      <td>137.000000</td>\n",
       "      <td>58.040001</td>\n",
       "      <td>160.160004</td>\n",
       "      <td>103.180000</td>\n",
       "      <td>54.630001</td>\n",
       "      <td>132.449997</td>\n",
       "      <td>2905.030029</td>\n",
       "    </tr>\n",
       "    <tr>\n",
       "      <th>2019-04-22</th>\n",
       "      <td>218.539993</td>\n",
       "      <td>112.330002</td>\n",
       "      <td>204.529999</td>\n",
       "      <td>375.170013</td>\n",
       "      <td>142.380005</td>\n",
       "      <td>121.900002</td>\n",
       "      <td>56.340000</td>\n",
       "      <td>47.400002</td>\n",
       "      <td>57.889999</td>\n",
       "      <td>82.900002</td>\n",
       "      <td>...</td>\n",
       "      <td>106.010002</td>\n",
       "      <td>136.610001</td>\n",
       "      <td>227.110001</td>\n",
       "      <td>136.910004</td>\n",
       "      <td>58.369999</td>\n",
       "      <td>160.399994</td>\n",
       "      <td>102.370003</td>\n",
       "      <td>54.099998</td>\n",
       "      <td>131.679993</td>\n",
       "      <td>2907.969971</td>\n",
       "    </tr>\n",
       "    <tr>\n",
       "      <th>2019-04-23</th>\n",
       "      <td>219.500000</td>\n",
       "      <td>113.970001</td>\n",
       "      <td>207.479996</td>\n",
       "      <td>374.019989</td>\n",
       "      <td>142.029999</td>\n",
       "      <td>122.019997</td>\n",
       "      <td>56.689999</td>\n",
       "      <td>48.209999</td>\n",
       "      <td>57.639999</td>\n",
       "      <td>83.379997</td>\n",
       "      <td>...</td>\n",
       "      <td>103.160004</td>\n",
       "      <td>138.009995</td>\n",
       "      <td>230.580002</td>\n",
       "      <td>140.020004</td>\n",
       "      <td>57.150002</td>\n",
       "      <td>161.660004</td>\n",
       "      <td>103.070000</td>\n",
       "      <td>53.220001</td>\n",
       "      <td>133.360001</td>\n",
       "      <td>2933.679932</td>\n",
       "    </tr>\n",
       "  </tbody>\n",
       "</table>\n",
       "<p>5 rows × 31 columns</p>\n",
       "</div>"
      ],
      "text/plain": [
       "                   MMM         AXP        AAPL          BA         CAT  \\\n",
       "Date                                                                     \n",
       "2019-04-16  216.899994  111.879997  199.250000  381.720001  141.174271   \n",
       "2019-04-17  217.639999  111.760002  203.130005  377.519989  141.880005   \n",
       "2019-04-18  218.880005  113.669998  203.860001  380.070007  143.360001   \n",
       "2019-04-22  218.539993  112.330002  204.529999  375.170013  142.380005   \n",
       "2019-04-23  219.500000  113.970001  207.479996  374.019989  142.029999   \n",
       "\n",
       "                   CVX       CSCO         KO        DOW        XOM  \\\n",
       "Date                                                                 \n",
       "2019-04-16  121.169998  56.950001  46.950001  58.500000  81.199997   \n",
       "2019-04-17  120.269997  56.310001  47.279999  58.320000  81.430000   \n",
       "2019-04-18  119.860001  56.400002  47.480000  57.770000  81.129997   \n",
       "2019-04-22  121.900002  56.340000  47.400002  57.889999  82.900002   \n",
       "2019-04-23  122.019997  56.689999  48.209999  57.639999  83.379997   \n",
       "\n",
       "               ...               PG         TRV         UNH         UTX  \\\n",
       "Date           ...                                                        \n",
       "2019-04-16     ...       105.673996  138.339996  220.960007  135.339996   \n",
       "2019-04-17     ...       105.849998  135.869995  216.839996  135.789993   \n",
       "2019-04-18     ...       106.050003  138.929993  221.750000  137.000000   \n",
       "2019-04-22     ...       106.010002  136.610001  227.110001  136.910004   \n",
       "2019-04-23     ...       103.160004  138.009995  230.580002  140.020004   \n",
       "\n",
       "                   VZ           V         WMT        WBA         DIS  \\\n",
       "Date                                                                   \n",
       "2019-04-16  58.790001  160.229996  102.930000  54.840000  129.899994   \n",
       "2019-04-17  57.779999  160.440002  103.160004  55.139999  131.750000   \n",
       "2019-04-18  58.040001  160.160004  103.180000  54.630001  132.449997   \n",
       "2019-04-22  58.369999  160.399994  102.370003  54.099998  131.679993   \n",
       "2019-04-23  57.150002  161.660004  103.070000  53.220001  133.360001   \n",
       "\n",
       "                  ^GSPC  \n",
       "Date                     \n",
       "2019-04-16  2907.060059  \n",
       "2019-04-17  2900.449951  \n",
       "2019-04-18  2905.030029  \n",
       "2019-04-22  2907.969971  \n",
       "2019-04-23  2933.679932  \n",
       "\n",
       "[5 rows x 31 columns]"
      ]
     },
     "execution_count": 5,
     "metadata": {},
     "output_type": "execute_result"
    }
   ],
   "source": [
    "tickers = list(df['Ticker'])\n",
    "tickers.append('^GSPC')\n",
    "\n",
    "end = datetime.today()\n",
    "start = datetime(end.year-5,end.month,end.day)\n",
    "\n",
    "sec_data = pd.DataFrame()\n",
    "for t in tickers:\n",
    "    sec_data[t] = wb.DataReader(t,data_source='yahoo',start=start,end=end)['Adj Close']\n",
    "\n",
    "sec_data.tail()"
   ]
  },
  {
   "cell_type": "code",
   "execution_count": 6,
   "metadata": {},
   "outputs": [],
   "source": [
    "#Substitute the missing values with the average of that company's stock prices\n",
    "sec_data = sec_data.apply(lambda x: x.fillna(x.mean()),axis=0)"
   ]
  },
  {
   "cell_type": "code",
   "execution_count": 7,
   "metadata": {},
   "outputs": [],
   "source": [
    "# pct_change(obtains simple returns from a given dataset\n",
    "log_returns = np.log(1 + sec_data.pct_change())"
   ]
  },
  {
   "cell_type": "code",
   "execution_count": 8,
   "metadata": {},
   "outputs": [],
   "source": [
    "#Construct the stock returns without SP500 \n",
    "sec_returns = log_returns.iloc[:,:-1]"
   ]
  },
  {
   "cell_type": "markdown",
   "metadata": {},
   "source": [
    "### Calculate realized returns, variance, volatility, and betas and build new columns into the 'df' dataframe\n",
    "\n",
    "I calculated annual realized returns by multiplying approximate 250 trading days. Similar methods for the volatility. Then I calculated the stock betas by calculating the stock variance and its covariance with S&P 500. \n",
    "\n",
    "With pre-specified risk-free rates based on the yields of U.S T-Bills, I came up with the market preimum by subracting the risk free rate from the market return of S&P 500. In the end, I calculated the expected returns of each stock in the Dow Jones list by applying CAPM."
   ]
  },
  {
   "cell_type": "code",
   "execution_count": 9,
   "metadata": {},
   "outputs": [],
   "source": [
    "# Calculate the annual return based on the mean and 250 trading days each year\n",
    "# Add to the master data frame\n",
    "df['Realized_Return'] = list(sec_returns.mean()*250)"
   ]
  },
  {
   "cell_type": "code",
   "execution_count": 10,
   "metadata": {},
   "outputs": [],
   "source": [
    "# Calculate the volatility which is the standard deviation \n",
    "# Add to the master data frame\n",
    "df['Volatility'] = list(sec_returns.std()*250**0.5)"
   ]
  },
  {
   "cell_type": "code",
   "execution_count": 11,
   "metadata": {},
   "outputs": [],
   "source": [
    "# Compute the variance and compare the covariance with SP500\n",
    "cov = log_returns.cov()*250"
   ]
  },
  {
   "cell_type": "code",
   "execution_count": 12,
   "metadata": {},
   "outputs": [],
   "source": [
    "# Compute the corrleation and compare with SP500\n",
    "corr = log_returns.corr()"
   ]
  },
  {
   "cell_type": "markdown",
   "metadata": {},
   "source": [
    "<b> Beta Formula: </b>\n",
    "### $$ \n",
    "\\beta_{pg} = \\frac{\\sigma_{pg,m}}{\\sigma_{m}^2}\n",
    "$$"
   ]
  },
  {
   "cell_type": "code",
   "execution_count": 13,
   "metadata": {},
   "outputs": [],
   "source": [
    "# Calculate stock betas basd on the formula above\n",
    "\n",
    "betas=[]\n",
    "for num in range(30):\n",
    "    cov_with_market = cov.iloc[30,num]\n",
    "    market_var = log_returns['^GSPC'].var()*250\n",
    "    beta = cov_with_market / market_var\n",
    "    betas.append(beta)"
   ]
  },
  {
   "cell_type": "code",
   "execution_count": 14,
   "metadata": {},
   "outputs": [],
   "source": [
    "df['Beta']=betas"
   ]
  },
  {
   "cell_type": "code",
   "execution_count": 15,
   "metadata": {},
   "outputs": [],
   "source": [
    "# Set the Ticker as the index\n",
    "df = df.set_index('Ticker')"
   ]
  },
  {
   "cell_type": "markdown",
   "metadata": {},
   "source": [
    "**Calculate the expected return (CAPM):**\n",
    "### $$\n",
    "\\overline{r_{s}} = r_f + \\beta_{s}(\\overline{r_{m}} - r_f) \n",
    "$$"
   ]
  },
  {
   "cell_type": "code",
   "execution_count": 16,
   "metadata": {},
   "outputs": [],
   "source": [
    "# I assume that the risk-free rate is 2.5% from government-issued T-bills\n",
    "rf = 0.025\n",
    "# Calculate the Market Preimum by subtracing the risk-free rate from the market return \n",
    "rp = log_returns['^GSPC'].mean()*250 - rf"
   ]
  },
  {
   "cell_type": "code",
   "execution_count": 17,
   "metadata": {},
   "outputs": [],
   "source": [
    "# Calculate the Exptected Return by applying the CAPM forumla above\n",
    "df['Expected_Return'] = df['Beta']*rf +rf"
   ]
  },
  {
   "cell_type": "markdown",
   "metadata": {},
   "source": [
    "## Section II: Measure stock performance by calculating important statistics and comparing the expected returns and realized returns\n",
    "\n",
    "I appended the volatility, realized returns to the original dataframe and and calculated Alpha as the difference between the expected returns and the realized returns.  "
   ]
  },
  {
   "cell_type": "code",
   "execution_count": 18,
   "metadata": {},
   "outputs": [
    {
     "data": {
      "text/html": [
       "<div>\n",
       "<style scoped>\n",
       "    .dataframe tbody tr th:only-of-type {\n",
       "        vertical-align: middle;\n",
       "    }\n",
       "\n",
       "    .dataframe tbody tr th {\n",
       "        vertical-align: top;\n",
       "    }\n",
       "\n",
       "    .dataframe thead th {\n",
       "        text-align: right;\n",
       "    }\n",
       "</style>\n",
       "<table border=\"1\" class=\"dataframe\">\n",
       "  <thead>\n",
       "    <tr style=\"text-align: right;\">\n",
       "      <th></th>\n",
       "      <th>Realized_Return</th>\n",
       "      <th>Volatility</th>\n",
       "      <th>Beta</th>\n",
       "      <th>Expected_Return</th>\n",
       "    </tr>\n",
       "  </thead>\n",
       "  <tbody>\n",
       "    <tr>\n",
       "      <th>count</th>\n",
       "      <td>30.000000</td>\n",
       "      <td>30.000000</td>\n",
       "      <td>30.000000</td>\n",
       "      <td>30.000000</td>\n",
       "    </tr>\n",
       "    <tr>\n",
       "      <th>mean</th>\n",
       "      <td>0.116916</td>\n",
       "      <td>0.196580</td>\n",
       "      <td>0.913524</td>\n",
       "      <td>0.047838</td>\n",
       "    </tr>\n",
       "    <tr>\n",
       "      <th>std</th>\n",
       "      <td>0.082301</td>\n",
       "      <td>0.040464</td>\n",
       "      <td>0.284955</td>\n",
       "      <td>0.007124</td>\n",
       "    </tr>\n",
       "    <tr>\n",
       "      <th>min</th>\n",
       "      <td>-0.027148</td>\n",
       "      <td>0.067406</td>\n",
       "      <td>0.011080</td>\n",
       "      <td>0.025277</td>\n",
       "    </tr>\n",
       "    <tr>\n",
       "      <th>25%</th>\n",
       "      <td>0.066449</td>\n",
       "      <td>0.175056</td>\n",
       "      <td>0.785652</td>\n",
       "      <td>0.044641</td>\n",
       "    </tr>\n",
       "    <tr>\n",
       "      <th>50%</th>\n",
       "      <td>0.094972</td>\n",
       "      <td>0.197953</td>\n",
       "      <td>0.948758</td>\n",
       "      <td>0.048719</td>\n",
       "    </tr>\n",
       "    <tr>\n",
       "      <th>75%</th>\n",
       "      <td>0.187155</td>\n",
       "      <td>0.227220</td>\n",
       "      <td>1.148842</td>\n",
       "      <td>0.053721</td>\n",
       "    </tr>\n",
       "    <tr>\n",
       "      <th>max</th>\n",
       "      <td>0.251930</td>\n",
       "      <td>0.261497</td>\n",
       "      <td>1.329429</td>\n",
       "      <td>0.058236</td>\n",
       "    </tr>\n",
       "  </tbody>\n",
       "</table>\n",
       "</div>"
      ],
      "text/plain": [
       "       Realized_Return  Volatility       Beta  Expected_Return\n",
       "count        30.000000   30.000000  30.000000        30.000000\n",
       "mean          0.116916    0.196580   0.913524         0.047838\n",
       "std           0.082301    0.040464   0.284955         0.007124\n",
       "min          -0.027148    0.067406   0.011080         0.025277\n",
       "25%           0.066449    0.175056   0.785652         0.044641\n",
       "50%           0.094972    0.197953   0.948758         0.048719\n",
       "75%           0.187155    0.227220   1.148842         0.053721\n",
       "max           0.251930    0.261497   1.329429         0.058236"
      ]
     },
     "execution_count": 18,
     "metadata": {},
     "output_type": "execute_result"
    }
   ],
   "source": [
    "df.describe()"
   ]
  },
  {
   "cell_type": "code",
   "execution_count": 19,
   "metadata": {},
   "outputs": [],
   "source": [
    "df = df.sort_values('Expected_Return',ascending=False)"
   ]
  },
  {
   "cell_type": "markdown",
   "metadata": {},
   "source": [
    "***Alpha*** describe an investment strategy to beat the market or its edge, also known as \"excess return\" or \"abnormal rate of return\", which refers to the idea that markets are efficient and there is no way to systemtially earn returns.\n",
    "\n",
    "Alpha is often used to rank actual mutual funds as well as other types of investments."
   ]
  },
  {
   "cell_type": "code",
   "execution_count": 20,
   "metadata": {},
   "outputs": [],
   "source": [
    "#Calculate Alpaha which is the difference between the exptected reutrn and realized returns\n",
    "df['Alpha'] = df['Realized_Return']-df['Expected_Return']"
   ]
  },
  {
   "cell_type": "code",
   "execution_count": 21,
   "metadata": {},
   "outputs": [],
   "source": [
    "df['Min_Return'] = log_returns.min()\n",
    "df['Max_Return'] = log_returns.max()"
   ]
  },
  {
   "cell_type": "code",
   "execution_count": 22,
   "metadata": {},
   "outputs": [
    {
     "data": {
      "text/html": [
       "<style  type=\"text/css\" >\n",
       "</style>  \n",
       "<table id=\"T_66424ea8_662c_11e9_8279_a0a4c505eacd\" > \n",
       "<thead>    <tr> \n",
       "        <th class=\"blank level0\" ></th> \n",
       "        <th class=\"col_heading level0 col0\" >Company</th> \n",
       "        <th class=\"col_heading level0 col1\" >Industry</th> \n",
       "        <th class=\"col_heading level0 col2\" >Realized_Return</th> \n",
       "        <th class=\"col_heading level0 col3\" >Volatility</th> \n",
       "        <th class=\"col_heading level0 col4\" >Beta</th> \n",
       "        <th class=\"col_heading level0 col5\" >Expected_Return</th> \n",
       "        <th class=\"col_heading level0 col6\" >Alpha</th> \n",
       "        <th class=\"col_heading level0 col7\" >Min_Return</th> \n",
       "        <th class=\"col_heading level0 col8\" >Max_Return</th> \n",
       "    </tr>    <tr> \n",
       "        <th class=\"index_name level0\" >Ticker</th> \n",
       "        <th class=\"blank\" ></th> \n",
       "        <th class=\"blank\" ></th> \n",
       "        <th class=\"blank\" ></th> \n",
       "        <th class=\"blank\" ></th> \n",
       "        <th class=\"blank\" ></th> \n",
       "        <th class=\"blank\" ></th> \n",
       "        <th class=\"blank\" ></th> \n",
       "        <th class=\"blank\" ></th> \n",
       "        <th class=\"blank\" ></th> \n",
       "    </tr></thead> \n",
       "<tbody>    <tr> \n",
       "        <th id=\"T_66424ea8_662c_11e9_8279_a0a4c505eacdlevel0_row0\" class=\"row_heading level0 row0\" >CAT</th> \n",
       "        <td id=\"T_66424ea8_662c_11e9_8279_a0a4c505eacdrow0_col0\" class=\"data row0 col0\" >Caterpillar</td> \n",
       "        <td id=\"T_66424ea8_662c_11e9_8279_a0a4c505eacdrow0_col1\" class=\"data row0 col1\" >Construction and mining equipment</td> \n",
       "        <td id=\"T_66424ea8_662c_11e9_8279_a0a4c505eacdrow0_col2\" class=\"data row0 col2\" >9.66%</td> \n",
       "        <td id=\"T_66424ea8_662c_11e9_8279_a0a4c505eacdrow0_col3\" class=\"data row0 col3\" >0.26</td> \n",
       "        <td id=\"T_66424ea8_662c_11e9_8279_a0a4c505eacdrow0_col4\" class=\"data row0 col4\" >1.33</td> \n",
       "        <td id=\"T_66424ea8_662c_11e9_8279_a0a4c505eacdrow0_col5\" class=\"data row0 col5\" >5.82%</td> \n",
       "        <td id=\"T_66424ea8_662c_11e9_8279_a0a4c505eacdrow0_col6\" class=\"data row0 col6\" >3.83%</td> \n",
       "        <td id=\"T_66424ea8_662c_11e9_8279_a0a4c505eacdrow0_col7\" class=\"data row0 col7\" >-9.57%</td> \n",
       "        <td id=\"T_66424ea8_662c_11e9_8279_a0a4c505eacdrow0_col8\" class=\"data row0 col8\" >7.57%</td> \n",
       "    </tr>    <tr> \n",
       "        <th id=\"T_66424ea8_662c_11e9_8279_a0a4c505eacdlevel0_row1\" class=\"row_heading level0 row1\" >MSFT</th> \n",
       "        <td id=\"T_66424ea8_662c_11e9_8279_a0a4c505eacdrow1_col0\" class=\"data row1 col0\" >Microsoft</td> \n",
       "        <td id=\"T_66424ea8_662c_11e9_8279_a0a4c505eacdrow1_col1\" class=\"data row1 col1\" >Information technologies</td> \n",
       "        <td id=\"T_66424ea8_662c_11e9_8279_a0a4c505eacdrow1_col2\" class=\"data row1 col2\" >25.19%</td> \n",
       "        <td id=\"T_66424ea8_662c_11e9_8279_a0a4c505eacdrow1_col3\" class=\"data row1 col3\" >0.23</td> \n",
       "        <td id=\"T_66424ea8_662c_11e9_8279_a0a4c505eacdrow1_col4\" class=\"data row1 col4\" >1.29</td> \n",
       "        <td id=\"T_66424ea8_662c_11e9_8279_a0a4c505eacdrow1_col5\" class=\"data row1 col5\" >5.71%</td> \n",
       "        <td id=\"T_66424ea8_662c_11e9_8279_a0a4c505eacdrow1_col6\" class=\"data row1 col6\" >19.48%</td> \n",
       "        <td id=\"T_66424ea8_662c_11e9_8279_a0a4c505eacdrow1_col7\" class=\"data row1 col7\" >-9.71%</td> \n",
       "        <td id=\"T_66424ea8_662c_11e9_8279_a0a4c505eacdrow1_col8\" class=\"data row1 col8\" >9.94%</td> \n",
       "    </tr>    <tr> \n",
       "        <th id=\"T_66424ea8_662c_11e9_8279_a0a4c505eacdlevel0_row2\" class=\"row_heading level0 row2\" >GS</th> \n",
       "        <td id=\"T_66424ea8_662c_11e9_8279_a0a4c505eacdrow2_col0\" class=\"data row2 col0\" >Goldman Sachs</td> \n",
       "        <td id=\"T_66424ea8_662c_11e9_8279_a0a4c505eacdrow2_col1\" class=\"data row2 col1\" >Financial services</td> \n",
       "        <td id=\"T_66424ea8_662c_11e9_8279_a0a4c505eacdrow2_col2\" class=\"data row2 col2\" >6.15%</td> \n",
       "        <td id=\"T_66424ea8_662c_11e9_8279_a0a4c505eacdrow2_col3\" class=\"data row2 col3\" >0.23</td> \n",
       "        <td id=\"T_66424ea8_662c_11e9_8279_a0a4c505eacdrow2_col4\" class=\"data row2 col4\" >1.27</td> \n",
       "        <td id=\"T_66424ea8_662c_11e9_8279_a0a4c505eacdrow2_col5\" class=\"data row2 col5\" >5.67%</td> \n",
       "        <td id=\"T_66424ea8_662c_11e9_8279_a0a4c505eacdrow2_col6\" class=\"data row2 col6\" >0.48%</td> \n",
       "        <td id=\"T_66424ea8_662c_11e9_8279_a0a4c505eacdrow2_col7\" class=\"data row2 col7\" >-7.75%</td> \n",
       "        <td id=\"T_66424ea8_662c_11e9_8279_a0a4c505eacdrow2_col8\" class=\"data row2 col8\" >9.12%</td> \n",
       "    </tr>    <tr> \n",
       "        <th id=\"T_66424ea8_662c_11e9_8279_a0a4c505eacdlevel0_row3\" class=\"row_heading level0 row3\" >INTC</th> \n",
       "        <td id=\"T_66424ea8_662c_11e9_8279_a0a4c505eacdrow3_col0\" class=\"data row3 col0\" >Intel</td> \n",
       "        <td id=\"T_66424ea8_662c_11e9_8279_a0a4c505eacdrow3_col1\" class=\"data row3 col1\" >Information technologies</td> \n",
       "        <td id=\"T_66424ea8_662c_11e9_8279_a0a4c505eacdrow3_col2\" class=\"data row3 col2\" >18.48%</td> \n",
       "        <td id=\"T_66424ea8_662c_11e9_8279_a0a4c505eacdrow3_col3\" class=\"data row3 col3\" >0.25</td> \n",
       "        <td id=\"T_66424ea8_662c_11e9_8279_a0a4c505eacdrow3_col4\" class=\"data row3 col4\" >1.22</td> \n",
       "        <td id=\"T_66424ea8_662c_11e9_8279_a0a4c505eacdrow3_col5\" class=\"data row3 col5\" >5.56%</td> \n",
       "        <td id=\"T_66424ea8_662c_11e9_8279_a0a4c505eacdrow3_col6\" class=\"data row3 col6\" >12.93%</td> \n",
       "        <td id=\"T_66424ea8_662c_11e9_8279_a0a4c505eacdrow3_col7\" class=\"data row3 col7\" >-9.54%</td> \n",
       "        <td id=\"T_66424ea8_662c_11e9_8279_a0a4c505eacdrow3_col8\" class=\"data row3 col8\" >10.03%</td> \n",
       "    </tr>    <tr> \n",
       "        <th id=\"T_66424ea8_662c_11e9_8279_a0a4c505eacdlevel0_row4\" class=\"row_heading level0 row4\" >AAPL</th> \n",
       "        <td id=\"T_66424ea8_662c_11e9_8279_a0a4c505eacdrow4_col0\" class=\"data row4 col0\" >Apple</td> \n",
       "        <td id=\"T_66424ea8_662c_11e9_8279_a0a4c505eacdrow4_col1\" class=\"data row4 col1\" >Information technologies</td> \n",
       "        <td id=\"T_66424ea8_662c_11e9_8279_a0a4c505eacdrow4_col2\" class=\"data row4 col2\" >22.67%</td> \n",
       "        <td id=\"T_66424ea8_662c_11e9_8279_a0a4c505eacdrow4_col3\" class=\"data row4 col3\" >0.24</td> \n",
       "        <td id=\"T_66424ea8_662c_11e9_8279_a0a4c505eacdrow4_col4\" class=\"data row4 col4\" >1.19</td> \n",
       "        <td id=\"T_66424ea8_662c_11e9_8279_a0a4c505eacdrow4_col5\" class=\"data row4 col5\" >5.48%</td> \n",
       "        <td id=\"T_66424ea8_662c_11e9_8279_a0a4c505eacdrow4_col6\" class=\"data row4 col6\" >17.20%</td> \n",
       "        <td id=\"T_66424ea8_662c_11e9_8279_a0a4c505eacdrow4_col7\" class=\"data row4 col7\" >-10.49%</td> \n",
       "        <td id=\"T_66424ea8_662c_11e9_8279_a0a4c505eacdrow4_col8\" class=\"data row4 col8\" >7.88%</td> \n",
       "    </tr>    <tr> \n",
       "        <th id=\"T_66424ea8_662c_11e9_8279_a0a4c505eacdlevel0_row5\" class=\"row_heading level0 row5\" >JPM</th> \n",
       "        <td id=\"T_66424ea8_662c_11e9_8279_a0a4c505eacdrow5_col0\" class=\"data row5 col0\" >JPMorgan Chase</td> \n",
       "        <td id=\"T_66424ea8_662c_11e9_8279_a0a4c505eacdrow5_col1\" class=\"data row5 col1\" >Financial services</td> \n",
       "        <td id=\"T_66424ea8_662c_11e9_8279_a0a4c505eacdrow5_col2\" class=\"data row5 col2\" >16.77%</td> \n",
       "        <td id=\"T_66424ea8_662c_11e9_8279_a0a4c505eacdrow5_col3\" class=\"data row5 col3\" >0.21</td> \n",
       "        <td id=\"T_66424ea8_662c_11e9_8279_a0a4c505eacdrow5_col4\" class=\"data row5 col4\" >1.18</td> \n",
       "        <td id=\"T_66424ea8_662c_11e9_8279_a0a4c505eacdrow5_col5\" class=\"data row5 col5\" >5.45%</td> \n",
       "        <td id=\"T_66424ea8_662c_11e9_8279_a0a4c505eacdrow5_col6\" class=\"data row5 col6\" >11.32%</td> \n",
       "        <td id=\"T_66424ea8_662c_11e9_8279_a0a4c505eacdrow5_col7\" class=\"data row5 col7\" >-7.20%</td> \n",
       "        <td id=\"T_66424ea8_662c_11e9_8279_a0a4c505eacdrow5_col8\" class=\"data row5 col8\" >8.00%</td> \n",
       "    </tr>    <tr> \n",
       "        <th id=\"T_66424ea8_662c_11e9_8279_a0a4c505eacdlevel0_row6\" class=\"row_heading level0 row6\" >V</th> \n",
       "        <td id=\"T_66424ea8_662c_11e9_8279_a0a4c505eacdrow6_col0\" class=\"data row6 col0\" >Visa</td> \n",
       "        <td id=\"T_66424ea8_662c_11e9_8279_a0a4c505eacdrow6_col1\" class=\"data row6 col1\" >Financial services</td> \n",
       "        <td id=\"T_66424ea8_662c_11e9_8279_a0a4c505eacdrow6_col2\" class=\"data row6 col2\" >23.66%</td> \n",
       "        <td id=\"T_66424ea8_662c_11e9_8279_a0a4c505eacdrow6_col3\" class=\"data row6 col3\" >0.21</td> \n",
       "        <td id=\"T_66424ea8_662c_11e9_8279_a0a4c505eacdrow6_col4\" class=\"data row6 col4\" >1.16</td> \n",
       "        <td id=\"T_66424ea8_662c_11e9_8279_a0a4c505eacdrow6_col5\" class=\"data row6 col5\" >5.39%</td> \n",
       "        <td id=\"T_66424ea8_662c_11e9_8279_a0a4c505eacdrow6_col6\" class=\"data row6 col6\" >18.27%</td> \n",
       "        <td id=\"T_66424ea8_662c_11e9_8279_a0a4c505eacdrow6_col7\" class=\"data row6 col7\" >-5.41%</td> \n",
       "        <td id=\"T_66424ea8_662c_11e9_8279_a0a4c505eacdrow6_col8\" class=\"data row6 col8\" >9.75%</td> \n",
       "    </tr>    <tr> \n",
       "        <th id=\"T_66424ea8_662c_11e9_8279_a0a4c505eacdlevel0_row7\" class=\"row_heading level0 row7\" >BA</th> \n",
       "        <td id=\"T_66424ea8_662c_11e9_8279_a0a4c505eacdrow7_col0\" class=\"data row7 col0\" >Boeing</td> \n",
       "        <td id=\"T_66424ea8_662c_11e9_8279_a0a4c505eacdrow7_col1\" class=\"data row7 col1\" >Aerospace and defense</td> \n",
       "        <td id=\"T_66424ea8_662c_11e9_8279_a0a4c505eacdrow7_col2\" class=\"data row7 col2\" >23.60%</td> \n",
       "        <td id=\"T_66424ea8_662c_11e9_8279_a0a4c505eacdrow7_col3\" class=\"data row7 col3\" >0.24</td> \n",
       "        <td id=\"T_66424ea8_662c_11e9_8279_a0a4c505eacdrow7_col4\" class=\"data row7 col4\" >1.15</td> \n",
       "        <td id=\"T_66424ea8_662c_11e9_8279_a0a4c505eacdrow7_col5\" class=\"data row7 col5\" >5.38%</td> \n",
       "        <td id=\"T_66424ea8_662c_11e9_8279_a0a4c505eacdrow7_col6\" class=\"data row7 col6\" >18.21%</td> \n",
       "        <td id=\"T_66424ea8_662c_11e9_8279_a0a4c505eacdrow7_col7\" class=\"data row7 col7\" >-9.35%</td> \n",
       "        <td id=\"T_66424ea8_662c_11e9_8279_a0a4c505eacdrow7_col8\" class=\"data row7 col8\" >9.42%</td> \n",
       "    </tr>    <tr> \n",
       "        <th id=\"T_66424ea8_662c_11e9_8279_a0a4c505eacdlevel0_row8\" class=\"row_heading level0 row8\" >CSCO</th> \n",
       "        <td id=\"T_66424ea8_662c_11e9_8279_a0a4c505eacdrow8_col0\" class=\"data row8 col0\" >Cisco Systems</td> \n",
       "        <td id=\"T_66424ea8_662c_11e9_8279_a0a4c505eacdrow8_col1\" class=\"data row8 col1\" >Information technologies</td> \n",
       "        <td id=\"T_66424ea8_662c_11e9_8279_a0a4c505eacdrow8_col2\" class=\"data row8 col2\" >20.65%</td> \n",
       "        <td id=\"T_66424ea8_662c_11e9_8279_a0a4c505eacdrow8_col3\" class=\"data row8 col3\" >0.21</td> \n",
       "        <td id=\"T_66424ea8_662c_11e9_8279_a0a4c505eacdrow8_col4\" class=\"data row8 col4\" >1.14</td> \n",
       "        <td id=\"T_66424ea8_662c_11e9_8279_a0a4c505eacdrow8_col5\" class=\"data row8 col5\" >5.34%</td> \n",
       "        <td id=\"T_66424ea8_662c_11e9_8279_a0a4c505eacdrow8_col6\" class=\"data row8 col6\" >15.31%</td> \n",
       "        <td id=\"T_66424ea8_662c_11e9_8279_a0a4c505eacdrow8_col7\" class=\"data row8 col7\" >-7.49%</td> \n",
       "        <td id=\"T_66424ea8_662c_11e9_8279_a0a4c505eacdrow8_col8\" class=\"data row8 col8\" >9.20%</td> \n",
       "    </tr>    <tr> \n",
       "        <th id=\"T_66424ea8_662c_11e9_8279_a0a4c505eacdlevel0_row9\" class=\"row_heading level0 row9\" >CVX</th> \n",
       "        <td id=\"T_66424ea8_662c_11e9_8279_a0a4c505eacdrow9_col0\" class=\"data row9 col0\" >Chevron</td> \n",
       "        <td id=\"T_66424ea8_662c_11e9_8279_a0a4c505eacdrow9_col1\" class=\"data row9 col1\" >Oil & gas</td> \n",
       "        <td id=\"T_66424ea8_662c_11e9_8279_a0a4c505eacdrow9_col2\" class=\"data row9 col2\" >3.56%</td> \n",
       "        <td id=\"T_66424ea8_662c_11e9_8279_a0a4c505eacdrow9_col3\" class=\"data row9 col3\" >0.22</td> \n",
       "        <td id=\"T_66424ea8_662c_11e9_8279_a0a4c505eacdrow9_col4\" class=\"data row9 col4\" >1.05</td> \n",
       "        <td id=\"T_66424ea8_662c_11e9_8279_a0a4c505eacdrow9_col5\" class=\"data row9 col5\" >5.11%</td> \n",
       "        <td id=\"T_66424ea8_662c_11e9_8279_a0a4c505eacdrow9_col6\" class=\"data row9 col6\" >-1.55%</td> \n",
       "        <td id=\"T_66424ea8_662c_11e9_8279_a0a4c505eacdrow9_col7\" class=\"data row9 col7\" >-5.73%</td> \n",
       "        <td id=\"T_66424ea8_662c_11e9_8279_a0a4c505eacdrow9_col8\" class=\"data row9 col8\" >6.14%</td> \n",
       "    </tr>    <tr> \n",
       "        <th id=\"T_66424ea8_662c_11e9_8279_a0a4c505eacdlevel0_row10\" class=\"row_heading level0 row10\" >NKE</th> \n",
       "        <td id=\"T_66424ea8_662c_11e9_8279_a0a4c505eacdrow10_col0\" class=\"data row10 col0\" >Nike</td> \n",
       "        <td id=\"T_66424ea8_662c_11e9_8279_a0a4c505eacdrow10_col1\" class=\"data row10 col1\" >Apparel</td> \n",
       "        <td id=\"T_66424ea8_662c_11e9_8279_a0a4c505eacdrow10_col2\" class=\"data row10 col2\" >18.79%</td> \n",
       "        <td id=\"T_66424ea8_662c_11e9_8279_a0a4c505eacdrow10_col3\" class=\"data row10 col3\" >0.23</td> \n",
       "        <td id=\"T_66424ea8_662c_11e9_8279_a0a4c505eacdrow10_col4\" class=\"data row10 col4\" >0.98</td> \n",
       "        <td id=\"T_66424ea8_662c_11e9_8279_a0a4c505eacdrow10_col5\" class=\"data row10 col5\" >4.95%</td> \n",
       "        <td id=\"T_66424ea8_662c_11e9_8279_a0a4c505eacdrow10_col6\" class=\"data row10 col6\" >13.84%</td> \n",
       "        <td id=\"T_66424ea8_662c_11e9_8279_a0a4c505eacdrow10_col7\" class=\"data row10 col7\" >-7.31%</td> \n",
       "        <td id=\"T_66424ea8_662c_11e9_8279_a0a4c505eacdrow10_col8\" class=\"data row10 col8\" >11.53%</td> \n",
       "    </tr>    <tr> \n",
       "        <th id=\"T_66424ea8_662c_11e9_8279_a0a4c505eacdlevel0_row11\" class=\"row_heading level0 row11\" >MMM</th> \n",
       "        <td id=\"T_66424ea8_662c_11e9_8279_a0a4c505eacdrow11_col0\" class=\"data row11 col0\" >3M</td> \n",
       "        <td id=\"T_66424ea8_662c_11e9_8279_a0a4c505eacdrow11_col1\" class=\"data row11 col1\" >Conglomerate</td> \n",
       "        <td id=\"T_66424ea8_662c_11e9_8279_a0a4c505eacdrow11_col2\" class=\"data row11 col2\" >11.73%</td> \n",
       "        <td id=\"T_66424ea8_662c_11e9_8279_a0a4c505eacdrow11_col3\" class=\"data row11 col3\" >0.18</td> \n",
       "        <td id=\"T_66424ea8_662c_11e9_8279_a0a4c505eacdrow11_col4\" class=\"data row11 col4\" >0.97</td> \n",
       "        <td id=\"T_66424ea8_662c_11e9_8279_a0a4c505eacdrow11_col5\" class=\"data row11 col5\" >4.92%</td> \n",
       "        <td id=\"T_66424ea8_662c_11e9_8279_a0a4c505eacdrow11_col6\" class=\"data row11 col6\" >6.81%</td> \n",
       "        <td id=\"T_66424ea8_662c_11e9_8279_a0a4c505eacdrow11_col7\" class=\"data row11 col7\" >-7.08%</td> \n",
       "        <td id=\"T_66424ea8_662c_11e9_8279_a0a4c505eacdrow11_col8\" class=\"data row11 col8\" >5.74%</td> \n",
       "    </tr>    <tr> \n",
       "        <th id=\"T_66424ea8_662c_11e9_8279_a0a4c505eacdlevel0_row12\" class=\"row_heading level0 row12\" >AXP</th> \n",
       "        <td id=\"T_66424ea8_662c_11e9_8279_a0a4c505eacdrow12_col0\" class=\"data row12 col0\" >American Express</td> \n",
       "        <td id=\"T_66424ea8_662c_11e9_8279_a0a4c505eacdrow12_col1\" class=\"data row12 col1\" >Financial services</td> \n",
       "        <td id=\"T_66424ea8_662c_11e9_8279_a0a4c505eacdrow12_col2\" class=\"data row12 col2\" >6.86%</td> \n",
       "        <td id=\"T_66424ea8_662c_11e9_8279_a0a4c505eacdrow12_col3\" class=\"data row12 col3\" >0.20</td> \n",
       "        <td id=\"T_66424ea8_662c_11e9_8279_a0a4c505eacdrow12_col4\" class=\"data row12 col4\" >0.97</td> \n",
       "        <td id=\"T_66424ea8_662c_11e9_8279_a0a4c505eacdrow12_col5\" class=\"data row12 col5\" >4.91%</td> \n",
       "        <td id=\"T_66424ea8_662c_11e9_8279_a0a4c505eacdrow12_col6\" class=\"data row12 col6\" >1.95%</td> \n",
       "        <td id=\"T_66424ea8_662c_11e9_8279_a0a4c505eacdrow12_col7\" class=\"data row12 col7\" >-12.90%</td> \n",
       "        <td id=\"T_66424ea8_662c_11e9_8279_a0a4c505eacdrow12_col8\" class=\"data row12 col8\" >8.64%</td> \n",
       "    </tr>    <tr> \n",
       "        <th id=\"T_66424ea8_662c_11e9_8279_a0a4c505eacdlevel0_row13\" class=\"row_heading level0 row13\" >UNH</th> \n",
       "        <td id=\"T_66424ea8_662c_11e9_8279_a0a4c505eacdrow13_col0\" class=\"data row13 col0\" >UnitedHealth Group</td> \n",
       "        <td id=\"T_66424ea8_662c_11e9_8279_a0a4c505eacdrow13_col1\" class=\"data row13 col1\" >Managed health care</td> \n",
       "        <td id=\"T_66424ea8_662c_11e9_8279_a0a4c505eacdrow13_col2\" class=\"data row13 col2\" >23.79%</td> \n",
       "        <td id=\"T_66424ea8_662c_11e9_8279_a0a4c505eacdrow13_col3\" class=\"data row13 col3\" >0.21</td> \n",
       "        <td id=\"T_66424ea8_662c_11e9_8279_a0a4c505eacdrow13_col4\" class=\"data row13 col4\" >0.97</td> \n",
       "        <td id=\"T_66424ea8_662c_11e9_8279_a0a4c505eacdrow13_col5\" class=\"data row13 col5\" >4.91%</td> \n",
       "        <td id=\"T_66424ea8_662c_11e9_8279_a0a4c505eacdrow13_col6\" class=\"data row13 col6\" >18.88%</td> \n",
       "        <td id=\"T_66424ea8_662c_11e9_8279_a0a4c505eacdrow13_col7\" class=\"data row13 col7\" >-5.81%</td> \n",
       "        <td id=\"T_66424ea8_662c_11e9_8279_a0a4c505eacdrow13_col8\" class=\"data row13 col8\" >6.68%</td> \n",
       "    </tr>    <tr> \n",
       "        <th id=\"T_66424ea8_662c_11e9_8279_a0a4c505eacdlevel0_row14\" class=\"row_heading level0 row14\" >WBA</th> \n",
       "        <td id=\"T_66424ea8_662c_11e9_8279_a0a4c505eacdrow14_col0\" class=\"data row14 col0\" >Walgreens Boots Alliance</td> \n",
       "        <td id=\"T_66424ea8_662c_11e9_8279_a0a4c505eacdrow14_col1\" class=\"data row14 col1\" >Retail</td> \n",
       "        <td id=\"T_66424ea8_662c_11e9_8279_a0a4c505eacdrow14_col2\" class=\"data row14 col2\" >-2.71%</td> \n",
       "        <td id=\"T_66424ea8_662c_11e9_8279_a0a4c505eacdrow14_col3\" class=\"data row14 col3\" >0.26</td> \n",
       "        <td id=\"T_66424ea8_662c_11e9_8279_a0a4c505eacdrow14_col4\" class=\"data row14 col4\" >0.95</td> \n",
       "        <td id=\"T_66424ea8_662c_11e9_8279_a0a4c505eacdrow14_col5\" class=\"data row14 col5\" >4.88%</td> \n",
       "        <td id=\"T_66424ea8_662c_11e9_8279_a0a4c505eacdrow14_col6\" class=\"data row14 col6\" >-7.59%</td> \n",
       "        <td id=\"T_66424ea8_662c_11e9_8279_a0a4c505eacdrow14_col7\" class=\"data row14 col7\" >-15.48%</td> \n",
       "        <td id=\"T_66424ea8_662c_11e9_8279_a0a4c505eacdrow14_col8\" class=\"data row14 col8\" >6.89%</td> \n",
       "    </tr>    <tr> \n",
       "        <th id=\"T_66424ea8_662c_11e9_8279_a0a4c505eacdlevel0_row15\" class=\"row_heading level0 row15\" >HD</th> \n",
       "        <td id=\"T_66424ea8_662c_11e9_8279_a0a4c505eacdrow15_col0\" class=\"data row15 col0\" >The Home Depot</td> \n",
       "        <td id=\"T_66424ea8_662c_11e9_8279_a0a4c505eacdrow15_col1\" class=\"data row15 col1\" >Retail</td> \n",
       "        <td id=\"T_66424ea8_662c_11e9_8279_a0a4c505eacdrow15_col2\" class=\"data row15 col2\" >21.34%</td> \n",
       "        <td id=\"T_66424ea8_662c_11e9_8279_a0a4c505eacdrow15_col3\" class=\"data row15 col3\" >0.19</td> \n",
       "        <td id=\"T_66424ea8_662c_11e9_8279_a0a4c505eacdrow15_col4\" class=\"data row15 col4\" >0.95</td> \n",
       "        <td id=\"T_66424ea8_662c_11e9_8279_a0a4c505eacdrow15_col5\" class=\"data row15 col5\" >4.86%</td> \n",
       "        <td id=\"T_66424ea8_662c_11e9_8279_a0a4c505eacdrow15_col6\" class=\"data row15 col6\" >16.48%</td> \n",
       "        <td id=\"T_66424ea8_662c_11e9_8279_a0a4c505eacdrow15_col7\" class=\"data row15 col7\" >-5.76%</td> \n",
       "        <td id=\"T_66424ea8_662c_11e9_8279_a0a4c505eacdrow15_col8\" class=\"data row15 col8\" >6.21%</td> \n",
       "    </tr>    <tr> \n",
       "        <th id=\"T_66424ea8_662c_11e9_8279_a0a4c505eacdlevel0_row16\" class=\"row_heading level0 row16\" >IBM</th> \n",
       "        <td id=\"T_66424ea8_662c_11e9_8279_a0a4c505eacdrow16_col0\" class=\"data row16 col0\" >IBM</td> \n",
       "        <td id=\"T_66424ea8_662c_11e9_8279_a0a4c505eacdrow16_col1\" class=\"data row16 col1\" >Information technologies</td> \n",
       "        <td id=\"T_66424ea8_662c_11e9_8279_a0a4c505eacdrow16_col2\" class=\"data row16 col2\" >-2.23%</td> \n",
       "        <td id=\"T_66424ea8_662c_11e9_8279_a0a4c505eacdrow16_col3\" class=\"data row16 col3\" >0.20</td> \n",
       "        <td id=\"T_66424ea8_662c_11e9_8279_a0a4c505eacdrow16_col4\" class=\"data row16 col4\" >0.93</td> \n",
       "        <td id=\"T_66424ea8_662c_11e9_8279_a0a4c505eacdrow16_col5\" class=\"data row16 col5\" >4.84%</td> \n",
       "        <td id=\"T_66424ea8_662c_11e9_8279_a0a4c505eacdrow16_col6\" class=\"data row16 col6\" >-7.07%</td> \n",
       "        <td id=\"T_66424ea8_662c_11e9_8279_a0a4c505eacdrow16_col7\" class=\"data row16 col7\" >-7.93%</td> \n",
       "        <td id=\"T_66424ea8_662c_11e9_8279_a0a4c505eacdrow16_col8\" class=\"data row16 col8\" >8.49%</td> \n",
       "    </tr>    <tr> \n",
       "        <th id=\"T_66424ea8_662c_11e9_8279_a0a4c505eacdlevel0_row17\" class=\"row_heading level0 row17\" >UTX</th> \n",
       "        <td id=\"T_66424ea8_662c_11e9_8279_a0a4c505eacdrow17_col0\" class=\"data row17 col0\" >United Technologies</td> \n",
       "        <td id=\"T_66424ea8_662c_11e9_8279_a0a4c505eacdrow17_col1\" class=\"data row17 col1\" >Conglomerate</td> \n",
       "        <td id=\"T_66424ea8_662c_11e9_8279_a0a4c505eacdrow17_col2\" class=\"data row17 col2\" >5.46%</td> \n",
       "        <td id=\"T_66424ea8_662c_11e9_8279_a0a4c505eacdrow17_col3\" class=\"data row17 col3\" >0.18</td> \n",
       "        <td id=\"T_66424ea8_662c_11e9_8279_a0a4c505eacdrow17_col4\" class=\"data row17 col4\" >0.92</td> \n",
       "        <td id=\"T_66424ea8_662c_11e9_8279_a0a4c505eacdrow17_col5\" class=\"data row17 col5\" >4.81%</td> \n",
       "        <td id=\"T_66424ea8_662c_11e9_8279_a0a4c505eacdrow17_col6\" class=\"data row17 col6\" >0.65%</td> \n",
       "        <td id=\"T_66424ea8_662c_11e9_8279_a0a4c505eacdrow17_col7\" class=\"data row17 col7\" >-7.29%</td> \n",
       "        <td id=\"T_66424ea8_662c_11e9_8279_a0a4c505eacdrow17_col8\" class=\"data row17 col8\" >5.24%</td> \n",
       "    </tr>    <tr> \n",
       "        <th id=\"T_66424ea8_662c_11e9_8279_a0a4c505eacdlevel0_row18\" class=\"row_heading level0 row18\" >XOM</th> \n",
       "        <td id=\"T_66424ea8_662c_11e9_8279_a0a4c505eacdrow18_col0\" class=\"data row18 col0\" >ExxonMobil</td> \n",
       "        <td id=\"T_66424ea8_662c_11e9_8279_a0a4c505eacdrow18_col1\" class=\"data row18 col1\" >Oil & gas</td> \n",
       "        <td id=\"T_66424ea8_662c_11e9_8279_a0a4c505eacdrow18_col2\" class=\"data row18 col2\" >-0.17%</td> \n",
       "        <td id=\"T_66424ea8_662c_11e9_8279_a0a4c505eacdrow18_col3\" class=\"data row18 col3\" >0.19</td> \n",
       "        <td id=\"T_66424ea8_662c_11e9_8279_a0a4c505eacdrow18_col4\" class=\"data row18 col4\" >0.92</td> \n",
       "        <td id=\"T_66424ea8_662c_11e9_8279_a0a4c505eacdrow18_col5\" class=\"data row18 col5\" >4.80%</td> \n",
       "        <td id=\"T_66424ea8_662c_11e9_8279_a0a4c505eacdrow18_col6\" class=\"data row18 col6\" >-4.97%</td> \n",
       "        <td id=\"T_66424ea8_662c_11e9_8279_a0a4c505eacdrow18_col7\" class=\"data row18 col7\" >-5.86%</td> \n",
       "        <td id=\"T_66424ea8_662c_11e9_8279_a0a4c505eacdrow18_col8\" class=\"data row18 col8\" >5.37%</td> \n",
       "    </tr>    <tr> \n",
       "        <th id=\"T_66424ea8_662c_11e9_8279_a0a4c505eacdlevel0_row19\" class=\"row_heading level0 row19\" >DIS</th> \n",
       "        <td id=\"T_66424ea8_662c_11e9_8279_a0a4c505eacdrow19_col0\" class=\"data row19 col0\" >Walt Disney</td> \n",
       "        <td id=\"T_66424ea8_662c_11e9_8279_a0a4c505eacdrow19_col1\" class=\"data row19 col1\" >Broadcasting and entertainment</td> \n",
       "        <td id=\"T_66424ea8_662c_11e9_8279_a0a4c505eacdrow19_col2\" class=\"data row19 col2\" >11.68%</td> \n",
       "        <td id=\"T_66424ea8_662c_11e9_8279_a0a4c505eacdrow19_col3\" class=\"data row19 col3\" >0.19</td> \n",
       "        <td id=\"T_66424ea8_662c_11e9_8279_a0a4c505eacdrow19_col4\" class=\"data row19 col4\" >0.86</td> \n",
       "        <td id=\"T_66424ea8_662c_11e9_8279_a0a4c505eacdrow19_col5\" class=\"data row19 col5\" >4.65%</td> \n",
       "        <td id=\"T_66424ea8_662c_11e9_8279_a0a4c505eacdrow19_col6\" class=\"data row19 col6\" >7.03%</td> \n",
       "        <td id=\"T_66424ea8_662c_11e9_8279_a0a4c505eacdrow19_col7\" class=\"data row19 col7\" >-9.62%</td> \n",
       "        <td id=\"T_66424ea8_662c_11e9_8279_a0a4c505eacdrow19_col8\" class=\"data row19 col8\" >10.92%</td> \n",
       "    </tr>    <tr> \n",
       "        <th id=\"T_66424ea8_662c_11e9_8279_a0a4c505eacdlevel0_row20\" class=\"row_heading level0 row20\" >MRK</th> \n",
       "        <td id=\"T_66424ea8_662c_11e9_8279_a0a4c505eacdrow20_col0\" class=\"data row20 col0\" >Merck & Company</td> \n",
       "        <td id=\"T_66424ea8_662c_11e9_8279_a0a4c505eacdrow20_col1\" class=\"data row20 col1\" >Pharmaceuticals</td> \n",
       "        <td id=\"T_66424ea8_662c_11e9_8279_a0a4c505eacdrow20_col2\" class=\"data row20 col2\" >8.24%</td> \n",
       "        <td id=\"T_66424ea8_662c_11e9_8279_a0a4c505eacdrow20_col3\" class=\"data row20 col3\" >0.19</td> \n",
       "        <td id=\"T_66424ea8_662c_11e9_8279_a0a4c505eacdrow20_col4\" class=\"data row20 col4\" >0.83</td> \n",
       "        <td id=\"T_66424ea8_662c_11e9_8279_a0a4c505eacdrow20_col5\" class=\"data row20 col5\" >4.57%</td> \n",
       "        <td id=\"T_66424ea8_662c_11e9_8279_a0a4c505eacdrow20_col6\" class=\"data row20 col6\" >3.67%</td> \n",
       "        <td id=\"T_66424ea8_662c_11e9_8279_a0a4c505eacdrow20_col7\" class=\"data row20 col7\" >-6.25%</td> \n",
       "        <td id=\"T_66424ea8_662c_11e9_8279_a0a4c505eacdrow20_col8\" class=\"data row20 col8\" >9.90%</td> \n",
       "    </tr>    <tr> \n",
       "        <th id=\"T_66424ea8_662c_11e9_8279_a0a4c505eacdlevel0_row21\" class=\"row_heading level0 row21\" >PFE</th> \n",
       "        <td id=\"T_66424ea8_662c_11e9_8279_a0a4c505eacdrow21_col0\" class=\"data row21 col0\" >Pfizer</td> \n",
       "        <td id=\"T_66424ea8_662c_11e9_8279_a0a4c505eacdrow21_col1\" class=\"data row21 col1\" >Pharmaceuticals</td> \n",
       "        <td id=\"T_66424ea8_662c_11e9_8279_a0a4c505eacdrow21_col2\" class=\"data row21 col2\" >8.38%</td> \n",
       "        <td id=\"T_66424ea8_662c_11e9_8279_a0a4c505eacdrow21_col3\" class=\"data row21 col3\" >0.17</td> \n",
       "        <td id=\"T_66424ea8_662c_11e9_8279_a0a4c505eacdrow21_col4\" class=\"data row21 col4\" >0.80</td> \n",
       "        <td id=\"T_66424ea8_662c_11e9_8279_a0a4c505eacdrow21_col5\" class=\"data row21 col5\" >4.51%</td> \n",
       "        <td id=\"T_66424ea8_662c_11e9_8279_a0a4c505eacdrow21_col6\" class=\"data row21 col6\" >3.87%</td> \n",
       "        <td id=\"T_66424ea8_662c_11e9_8279_a0a4c505eacdrow21_col7\" class=\"data row21 col7\" >-5.44%</td> \n",
       "        <td id=\"T_66424ea8_662c_11e9_8279_a0a4c505eacdrow21_col8\" class=\"data row21 col8\" >6.83%</td> \n",
       "    </tr>    <tr> \n",
       "        <th id=\"T_66424ea8_662c_11e9_8279_a0a4c505eacdlevel0_row22\" class=\"row_heading level0 row22\" >TRV</th> \n",
       "        <td id=\"T_66424ea8_662c_11e9_8279_a0a4c505eacdrow22_col0\" class=\"data row22 col0\" >Travelers</td> \n",
       "        <td id=\"T_66424ea8_662c_11e9_8279_a0a4c505eacdrow22_col1\" class=\"data row22 col1\" >Insurance</td> \n",
       "        <td id=\"T_66424ea8_662c_11e9_8279_a0a4c505eacdrow22_col2\" class=\"data row22 col2\" >11.19%</td> \n",
       "        <td id=\"T_66424ea8_662c_11e9_8279_a0a4c505eacdrow22_col3\" class=\"data row22 col3\" >0.16</td> \n",
       "        <td id=\"T_66424ea8_662c_11e9_8279_a0a4c505eacdrow22_col4\" class=\"data row22 col4\" >0.78</td> \n",
       "        <td id=\"T_66424ea8_662c_11e9_8279_a0a4c505eacdrow22_col5\" class=\"data row22 col5\" >4.45%</td> \n",
       "        <td id=\"T_66424ea8_662c_11e9_8279_a0a4c505eacdrow22_col6\" class=\"data row22 col6\" >6.74%</td> \n",
       "        <td id=\"T_66424ea8_662c_11e9_8279_a0a4c505eacdrow22_col7\" class=\"data row22 col7\" >-6.24%</td> \n",
       "        <td id=\"T_66424ea8_662c_11e9_8279_a0a4c505eacdrow22_col8\" class=\"data row22 col8\" >4.84%</td> \n",
       "    </tr>    <tr> \n",
       "        <th id=\"T_66424ea8_662c_11e9_8279_a0a4c505eacdlevel0_row23\" class=\"row_heading level0 row23\" >JNJ</th> \n",
       "        <td id=\"T_66424ea8_662c_11e9_8279_a0a4c505eacdrow23_col0\" class=\"data row23 col0\" >Johnson & Johnson</td> \n",
       "        <td id=\"T_66424ea8_662c_11e9_8279_a0a4c505eacdrow23_col1\" class=\"data row23 col1\" >Pharmaceuticals</td> \n",
       "        <td id=\"T_66424ea8_662c_11e9_8279_a0a4c505eacdrow23_col2\" class=\"data row23 col2\" >9.34%</td> \n",
       "        <td id=\"T_66424ea8_662c_11e9_8279_a0a4c505eacdrow23_col3\" class=\"data row23 col3\" >0.16</td> \n",
       "        <td id=\"T_66424ea8_662c_11e9_8279_a0a4c505eacdrow23_col4\" class=\"data row23 col4\" >0.73</td> \n",
       "        <td id=\"T_66424ea8_662c_11e9_8279_a0a4c505eacdrow23_col5\" class=\"data row23 col5\" >4.33%</td> \n",
       "        <td id=\"T_66424ea8_662c_11e9_8279_a0a4c505eacdrow23_col6\" class=\"data row23 col6\" >5.00%</td> \n",
       "        <td id=\"T_66424ea8_662c_11e9_8279_a0a4c505eacdrow23_col7\" class=\"data row23 col7\" >-10.58%</td> \n",
       "        <td id=\"T_66424ea8_662c_11e9_8279_a0a4c505eacdrow23_col8\" class=\"data row23 col8\" >4.84%</td> \n",
       "    </tr>    <tr> \n",
       "        <th id=\"T_66424ea8_662c_11e9_8279_a0a4c505eacdlevel0_row24\" class=\"row_heading level0 row24\" >WMT</th> \n",
       "        <td id=\"T_66424ea8_662c_11e9_8279_a0a4c505eacdrow24_col0\" class=\"data row24 col0\" >Walmart</td> \n",
       "        <td id=\"T_66424ea8_662c_11e9_8279_a0a4c505eacdrow24_col1\" class=\"data row24 col1\" >Retail</td> \n",
       "        <td id=\"T_66424ea8_662c_11e9_8279_a0a4c505eacdrow24_col2\" class=\"data row24 col2\" >8.09%</td> \n",
       "        <td id=\"T_66424ea8_662c_11e9_8279_a0a4c505eacdrow24_col3\" class=\"data row24 col3\" >0.19</td> \n",
       "        <td id=\"T_66424ea8_662c_11e9_8279_a0a4c505eacdrow24_col4\" class=\"data row24 col4\" >0.62</td> \n",
       "        <td id=\"T_66424ea8_662c_11e9_8279_a0a4c505eacdrow24_col5\" class=\"data row24 col5\" >4.04%</td> \n",
       "        <td id=\"T_66424ea8_662c_11e9_8279_a0a4c505eacdrow24_col6\" class=\"data row24 col6\" >4.04%</td> \n",
       "        <td id=\"T_66424ea8_662c_11e9_8279_a0a4c505eacdrow24_col7\" class=\"data row24 col7\" >-10.74%</td> \n",
       "        <td id=\"T_66424ea8_662c_11e9_8279_a0a4c505eacdrow24_col8\" class=\"data row24 col8\" >10.34%</td> \n",
       "    </tr>    <tr> \n",
       "        <th id=\"T_66424ea8_662c_11e9_8279_a0a4c505eacdlevel0_row25\" class=\"row_heading level0 row25\" >MCD</th> \n",
       "        <td id=\"T_66424ea8_662c_11e9_8279_a0a4c505eacdrow25_col0\" class=\"data row25 col0\" >McDonald's</td> \n",
       "        <td id=\"T_66424ea8_662c_11e9_8279_a0a4c505eacdrow25_col1\" class=\"data row25 col1\" >Food</td> \n",
       "        <td id=\"T_66424ea8_662c_11e9_8279_a0a4c505eacdrow25_col2\" class=\"data row25 col2\" >16.55%</td> \n",
       "        <td id=\"T_66424ea8_662c_11e9_8279_a0a4c505eacdrow25_col3\" class=\"data row25 col3\" >0.16</td> \n",
       "        <td id=\"T_66424ea8_662c_11e9_8279_a0a4c505eacdrow25_col4\" class=\"data row25 col4\" >0.62</td> \n",
       "        <td id=\"T_66424ea8_662c_11e9_8279_a0a4c505eacdrow25_col5\" class=\"data row25 col5\" >4.04%</td> \n",
       "        <td id=\"T_66424ea8_662c_11e9_8279_a0a4c505eacdrow25_col6\" class=\"data row25 col6\" >12.51%</td> \n",
       "        <td id=\"T_66424ea8_662c_11e9_8279_a0a4c505eacdrow25_col7\" class=\"data row25 col7\" >-4.89%</td> \n",
       "        <td id=\"T_66424ea8_662c_11e9_8279_a0a4c505eacdrow25_col8\" class=\"data row25 col8\" >7.81%</td> \n",
       "    </tr>    <tr> \n",
       "        <th id=\"T_66424ea8_662c_11e9_8279_a0a4c505eacdlevel0_row26\" class=\"row_heading level0 row26\" >VZ</th> \n",
       "        <td id=\"T_66424ea8_662c_11e9_8279_a0a4c505eacdrow26_col0\" class=\"data row26 col0\" >Verizon</td> \n",
       "        <td id=\"T_66424ea8_662c_11e9_8279_a0a4c505eacdrow26_col1\" class=\"data row26 col1\" >Telecommunication</td> \n",
       "        <td id=\"T_66424ea8_662c_11e9_8279_a0a4c505eacdrow26_col2\" class=\"data row26 col2\" >8.24%</td> \n",
       "        <td id=\"T_66424ea8_662c_11e9_8279_a0a4c505eacdrow26_col3\" class=\"data row26 col3\" >0.17</td> \n",
       "        <td id=\"T_66424ea8_662c_11e9_8279_a0a4c505eacdrow26_col4\" class=\"data row26 col4\" >0.57</td> \n",
       "        <td id=\"T_66424ea8_662c_11e9_8279_a0a4c505eacdrow26_col5\" class=\"data row26 col5\" >3.93%</td> \n",
       "        <td id=\"T_66424ea8_662c_11e9_8279_a0a4c505eacdrow26_col6\" class=\"data row26 col6\" >4.30%</td> \n",
       "        <td id=\"T_66424ea8_662c_11e9_8279_a0a4c505eacdrow26_col7\" class=\"data row26 col7\" >-4.79%</td> \n",
       "        <td id=\"T_66424ea8_662c_11e9_8279_a0a4c505eacdrow26_col8\" class=\"data row26 col8\" >7.40%</td> \n",
       "    </tr>    <tr> \n",
       "        <th id=\"T_66424ea8_662c_11e9_8279_a0a4c505eacdlevel0_row27\" class=\"row_heading level0 row27\" >PG</th> \n",
       "        <td id=\"T_66424ea8_662c_11e9_8279_a0a4c505eacdrow27_col0\" class=\"data row27 col0\" >Procter & Gamble</td> \n",
       "        <td id=\"T_66424ea8_662c_11e9_8279_a0a4c505eacdrow27_col1\" class=\"data row27 col1\" >Consumer goods</td> \n",
       "        <td id=\"T_66424ea8_662c_11e9_8279_a0a4c505eacdrow27_col2\" class=\"data row27 col2\" >8.15%</td> \n",
       "        <td id=\"T_66424ea8_662c_11e9_8279_a0a4c505eacdrow27_col3\" class=\"data row27 col3\" >0.15</td> \n",
       "        <td id=\"T_66424ea8_662c_11e9_8279_a0a4c505eacdrow27_col4\" class=\"data row27 col4\" >0.55</td> \n",
       "        <td id=\"T_66424ea8_662c_11e9_8279_a0a4c505eacdrow27_col5\" class=\"data row27 col5\" >3.89%</td> \n",
       "        <td id=\"T_66424ea8_662c_11e9_8279_a0a4c505eacdrow27_col6\" class=\"data row27 col6\" >4.27%</td> \n",
       "        <td id=\"T_66424ea8_662c_11e9_8279_a0a4c505eacdrow27_col7\" class=\"data row27 col7\" >-4.09%</td> \n",
       "        <td id=\"T_66424ea8_662c_11e9_8279_a0a4c505eacdrow27_col8\" class=\"data row27 col8\" >8.43%</td> \n",
       "    </tr>    <tr> \n",
       "        <th id=\"T_66424ea8_662c_11e9_8279_a0a4c505eacdlevel0_row28\" class=\"row_heading level0 row28\" >KO</th> \n",
       "        <td id=\"T_66424ea8_662c_11e9_8279_a0a4c505eacdrow28_col0\" class=\"data row28 col0\" >Coca-Cola</td> \n",
       "        <td id=\"T_66424ea8_662c_11e9_8279_a0a4c505eacdrow28_col1\" class=\"data row28 col1\" >Food</td> \n",
       "        <td id=\"T_66424ea8_662c_11e9_8279_a0a4c505eacdrow28_col2\" class=\"data row28 col2\" >6.57%</td> \n",
       "        <td id=\"T_66424ea8_662c_11e9_8279_a0a4c505eacdrow28_col3\" class=\"data row28 col3\" >0.14</td> \n",
       "        <td id=\"T_66424ea8_662c_11e9_8279_a0a4c505eacdrow28_col4\" class=\"data row28 col4\" >0.51</td> \n",
       "        <td id=\"T_66424ea8_662c_11e9_8279_a0a4c505eacdrow28_col5\" class=\"data row28 col5\" >3.76%</td> \n",
       "        <td id=\"T_66424ea8_662c_11e9_8279_a0a4c505eacdrow28_col6\" class=\"data row28 col6\" >2.81%</td> \n",
       "        <td id=\"T_66424ea8_662c_11e9_8279_a0a4c505eacdrow28_col7\" class=\"data row28 col7\" >-8.81%</td> \n",
       "        <td id=\"T_66424ea8_662c_11e9_8279_a0a4c505eacdrow28_col8\" class=\"data row28 col8\" >2.94%</td> \n",
       "    </tr>    <tr> \n",
       "        <th id=\"T_66424ea8_662c_11e9_8279_a0a4c505eacdlevel0_row29\" class=\"row_heading level0 row29\" >DOW</th> \n",
       "        <td id=\"T_66424ea8_662c_11e9_8279_a0a4c505eacdrow29_col0\" class=\"data row29 col0\" >Dow Inc.</td> \n",
       "        <td id=\"T_66424ea8_662c_11e9_8279_a0a4c505eacdrow29_col1\" class=\"data row29 col1\" >Chemical industry</td> \n",
       "        <td id=\"T_66424ea8_662c_11e9_8279_a0a4c505eacdrow29_col2\" class=\"data row29 col2\" >1.06%</td> \n",
       "        <td id=\"T_66424ea8_662c_11e9_8279_a0a4c505eacdrow29_col3\" class=\"data row29 col3\" >0.07</td> \n",
       "        <td id=\"T_66424ea8_662c_11e9_8279_a0a4c505eacdrow29_col4\" class=\"data row29 col4\" >0.01</td> \n",
       "        <td id=\"T_66424ea8_662c_11e9_8279_a0a4c505eacdrow29_col5\" class=\"data row29 col5\" >2.53%</td> \n",
       "        <td id=\"T_66424ea8_662c_11e9_8279_a0a4c505eacdrow29_col6\" class=\"data row29 col6\" >-1.47%</td> \n",
       "        <td id=\"T_66424ea8_662c_11e9_8279_a0a4c505eacdrow29_col7\" class=\"data row29 col7\" >-9.31%</td> \n",
       "        <td id=\"T_66424ea8_662c_11e9_8279_a0a4c505eacdrow29_col8\" class=\"data row29 col8\" >6.03%</td> \n",
       "    </tr></tbody> \n",
       "</table> "
      ],
      "text/plain": [
       "<pandas.io.formats.style.Styler at 0x20df41b8978>"
      ]
     },
     "execution_count": 22,
     "metadata": {},
     "output_type": "execute_result"
    }
   ],
   "source": [
    "# Dispaly Betas and Volatility as 2 decimals digits \n",
    "# Transform Realized Return and Expected Returns to 2 decimals percentages\n",
    "\n",
    "df.style.format({\n",
    "    'Beta': '{:,.2f}'.format,\n",
    "    'Volatility': '{:,.2f}'.format,\n",
    "    'Realized_Return': '{:,.2%}'.format,\n",
    "    'Expected_Return': '{:,.2%}'.format,\n",
    "    'Expected_Return': '{:,.2%}'.format,\n",
    "    'Alpha': '{:,.2%}'.format,\n",
    "    'Min_Return': '{:,.2%}'.format,\n",
    "    'Max_Return': '{:,.2%}'.format,\n",
    "})"
   ]
  },
  {
   "cell_type": "code",
   "execution_count": 23,
   "metadata": {},
   "outputs": [
    {
     "data": {
      "text/plain": [
       "0.08891910547406275"
      ]
     },
     "execution_count": 23,
     "metadata": {},
     "output_type": "execute_result"
    }
   ],
   "source": [
    "#Calculate the mean of S&P 500 return over the past 10 years\n",
    "log_returns['^GSPC'].mean()*250"
   ]
  },
  {
   "cell_type": "markdown",
   "metadata": {},
   "source": [
    "### Insights:\n",
    "Capital Asset Pricing Model serves as a benchmark for any asset we would need to have a vew of the \"fair\" return given the asset's risk\n",
    "\n",
    "1. Comparing the expected return with the realized return, it does not reflect the whole story behind the relationship between risk and returns. CAPM only takes into account the asset's sensitivity to market risk (systemetic risk). \n",
    "2. The difference between an asset's actual returns and expected returns is alpha, which gauges the performance of an investment against a market index or benchmark. In this case, Boeing outperforms the market most. "
   ]
  },
  {
   "cell_type": "markdown",
   "metadata": {},
   "source": [
    "## Section III: Interpret and Visualize Stock Returns by Companies and Industries to Conclude Investment Insights\n",
    "### Data Visualizations of 30 Companies in Dow Jones List \n",
    "\n",
    "I used the 'plotly' package to visualize the important measures of stock returns of 30 companies based on realized returns, expected returns, alpha, and industries."
   ]
  },
  {
   "cell_type": "code",
   "execution_count": 24,
   "metadata": {},
   "outputs": [
    {
     "data": {
      "text/html": [
       "<script type=\"text/javascript\">window.PlotlyConfig = {MathJaxConfig: 'local'};</script><script type=\"text/javascript\">if (window.MathJax) {MathJax.Hub.Config({SVG: {font: \"STIX-Web\"}});}</script><script>requirejs.config({paths: { 'plotly': ['https://cdn.plot.ly/plotly-latest.min']},});if(!window._Plotly) {require(['plotly'],function(plotly) {window._Plotly=plotly;});}</script>"
      ],
      "text/vnd.plotly.v1+html": [
       "<script type=\"text/javascript\">window.PlotlyConfig = {MathJaxConfig: 'local'};</script><script type=\"text/javascript\">if (window.MathJax) {MathJax.Hub.Config({SVG: {font: \"STIX-Web\"}});}</script><script>requirejs.config({paths: { 'plotly': ['https://cdn.plot.ly/plotly-latest.min']},});if(!window._Plotly) {require(['plotly'],function(plotly) {window._Plotly=plotly;});}</script>"
      ]
     },
     "metadata": {},
     "output_type": "display_data"
    }
   ],
   "source": [
    "from plotly.graph_objs import Scatter, Layout\n",
    "import plotly\n",
    "import plotly.offline as py\n",
    "import plotly.graph_objs as go\n",
    "\n",
    "# setting offline\n",
    "plotly.offline.init_notebook_mode(connected=True)"
   ]
  },
  {
   "cell_type": "code",
   "execution_count": 25,
   "metadata": {},
   "outputs": [
    {
     "data": {
      "application/vnd.plotly.v1+json": {
       "config": {
        "linkText": "Export to plot.ly",
        "plotlyServerURL": "https://plot.ly",
        "showLink": false
       },
       "data": [
        {
         "marker": {
          "color": "rgb(49,130,189)"
         },
         "name": "Realized Return",
         "text": [
          "Caterpillar",
          "Microsoft",
          "Goldman Sachs",
          "Intel",
          "Apple",
          "JPMorgan Chase",
          "Visa",
          "Boeing",
          "Cisco Systems",
          "Chevron",
          "Nike",
          "3M",
          "American Express",
          "UnitedHealth Group",
          "Walgreens Boots Alliance",
          "The Home Depot",
          "IBM",
          "United Technologies",
          "ExxonMobil",
          "Walt Disney",
          "Merck & Company",
          "Pfizer",
          "Travelers",
          "Johnson & Johnson",
          "Walmart",
          "McDonald's",
          "Verizon",
          "Procter & Gamble",
          "Coca-Cola",
          "Dow Inc."
         ],
         "type": "bar",
         "uid": "67c21505-2ee5-485b-ae04-e5e50ae2fc24",
         "x": [
          "CAT",
          "MSFT",
          "GS",
          "INTC",
          "AAPL",
          "JPM",
          "V",
          "BA",
          "CSCO",
          "CVX",
          "NKE",
          "MMM",
          "AXP",
          "UNH",
          "WBA",
          "HD",
          "IBM",
          "UTX",
          "XOM",
          "DIS",
          "MRK",
          "PFE",
          "TRV",
          "JNJ",
          "WMT",
          "MCD",
          "VZ",
          "PG",
          "KO",
          "DOW"
         ],
         "y": [
          0.0965738384493871,
          0.25192968203589794,
          0.06146161781317589,
          0.1848466951933882,
          0.22674926549160157,
          0.16769087408250327,
          0.23664096162269724,
          0.2359596079990644,
          0.2065256623236044,
          0.03562858424733146,
          0.18792429163084848,
          0.11730845772320603,
          0.06862747289446466,
          0.23788860544824733,
          -0.027148481678532416,
          0.2134201174527604,
          -0.022288055967652747,
          0.054631048655061534,
          -0.0016691644296000405,
          0.11683915764138286,
          0.08235624326471658,
          0.08376440244287589,
          0.11188900663307293,
          0.09337027224646582,
          0.08086122205540897,
          0.1655424592632697,
          0.08235093864261679,
          0.08151801747726378,
          0.0657229425630613,
          0.010561520098619843
         ]
        },
        {
         "marker": {
          "color": "rgb(204,204,204)"
         },
         "name": "Expected Return",
         "type": "bar",
         "uid": "8cd42ace-8aea-4a66-b5f6-db2842e54c5b",
         "x": [
          "CAT",
          "MSFT",
          "GS",
          "INTC",
          "AAPL",
          "JPM",
          "V",
          "BA",
          "CSCO",
          "CVX",
          "NKE",
          "MMM",
          "AXP",
          "UNH",
          "WBA",
          "HD",
          "IBM",
          "UTX",
          "XOM",
          "DIS",
          "MRK",
          "PFE",
          "TRV",
          "JNJ",
          "WMT",
          "MCD",
          "VZ",
          "PG",
          "KO",
          "DOW"
         ],
         "y": [
          0.058235719242383924,
          0.05713077639579374,
          0.0566748835383461,
          0.05558918625315777,
          0.05478160327819792,
          0.05450295093816925,
          0.05391224089312388,
          0.05382825418551068,
          0.05339943258176926,
          0.05114242513452416,
          0.04950146277489018,
          0.04922446030908169,
          0.04914506757070329,
          0.04913452515035834,
          0.048798569962280464,
          0.0486393505972215,
          0.04836955614185551,
          0.048103020012026446,
          0.047981295856730596,
          0.04653486106933359,
          0.04567732270144601,
          0.045091246182884945,
          0.044491312900704696,
          0.04332441383192178,
          0.040420649383446666,
          0.04041417016328536,
          0.039314973922302876,
          0.03886446816414928,
          0.037638165065832854,
          0.02527699737827982
         ]
        }
       ],
       "layout": {
        "shapes": [
         {
          "line": {
           "color": "red",
           "dash": "solid",
           "width": 1
          },
          "type": "line",
          "x0": 0,
          "x1": 1,
          "xref": "paper",
          "y0": 0.0797,
          "y1": 0.0797
         }
        ],
        "title": {
         "text": "Realized Returns vs. Expected Returns",
         "x": 0,
         "xref": "paper"
        },
        "xaxis": {
         "tickangle": 45,
         "title": {
          "font": {
           "color": "#7f7f7f",
           "family": "Courier New, monospace",
           "size": 18
          },
          "text": "Company Tickers"
         }
        },
        "yaxis": {
         "tickformat": "%",
         "title": {
          "font": {
           "color": "#7f7f7f",
           "family": "Courier New, monospace",
           "size": 18
          },
          "text": "Stock Returns"
         }
        }
       }
      },
      "text/html": [
       "<div id=\"37c28e99-24dd-41cf-8283-da5d04728738\" style=\"height: 525px; width: 100%;\" class=\"plotly-graph-div\"></div><script type=\"text/javascript\">require([\"plotly\"], function(Plotly) { window.PLOTLYENV=window.PLOTLYENV || {};window.PLOTLYENV.BASE_URL=\"https://plot.ly\";\n",
       "if (document.getElementById(\"37c28e99-24dd-41cf-8283-da5d04728738\")) {\n",
       "    Plotly.newPlot(\"37c28e99-24dd-41cf-8283-da5d04728738\", [{\"marker\": {\"color\": \"rgb(49,130,189)\"}, \"name\": \"Realized Return\", \"text\": [\"Caterpillar\", \"Microsoft\", \"Goldman Sachs\", \"Intel\", \"Apple\", \"JPMorgan Chase\", \"Visa\", \"Boeing\", \"Cisco Systems\", \"Chevron\", \"Nike\", \"3M\", \"American Express\", \"UnitedHealth Group\", \"Walgreens Boots Alliance\", \"The Home Depot\", \"IBM\", \"United Technologies\", \"ExxonMobil\", \"Walt Disney\", \"Merck & Company\", \"Pfizer\", \"Travelers\", \"Johnson & Johnson\", \"Walmart\", \"McDonald's\", \"Verizon\", \"Procter & Gamble\", \"Coca-Cola\", \"Dow Inc.\"], \"x\": [\"CAT\", \"MSFT\", \"GS\", \"INTC\", \"AAPL\", \"JPM\", \"V\", \"BA\", \"CSCO\", \"CVX\", \"NKE\", \"MMM\", \"AXP\", \"UNH\", \"WBA\", \"HD\", \"IBM\", \"UTX\", \"XOM\", \"DIS\", \"MRK\", \"PFE\", \"TRV\", \"JNJ\", \"WMT\", \"MCD\", \"VZ\", \"PG\", \"KO\", \"DOW\"], \"y\": [0.0965738384493871, 0.25192968203589794, 0.06146161781317589, 0.1848466951933882, 0.22674926549160157, 0.16769087408250327, 0.23664096162269724, 0.2359596079990644, 0.2065256623236044, 0.03562858424733146, 0.18792429163084848, 0.11730845772320603, 0.06862747289446466, 0.23788860544824733, -0.027148481678532416, 0.2134201174527604, -0.022288055967652747, 0.054631048655061534, -0.0016691644296000405, 0.11683915764138286, 0.08235624326471658, 0.08376440244287589, 0.11188900663307293, 0.09337027224646582, 0.08086122205540897, 0.1655424592632697, 0.08235093864261679, 0.08151801747726378, 0.0657229425630613, 0.010561520098619843], \"type\": \"bar\", \"uid\": \"67c21505-2ee5-485b-ae04-e5e50ae2fc24\"}, {\"marker\": {\"color\": \"rgb(204,204,204)\"}, \"name\": \"Expected Return\", \"x\": [\"CAT\", \"MSFT\", \"GS\", \"INTC\", \"AAPL\", \"JPM\", \"V\", \"BA\", \"CSCO\", \"CVX\", \"NKE\", \"MMM\", \"AXP\", \"UNH\", \"WBA\", \"HD\", \"IBM\", \"UTX\", \"XOM\", \"DIS\", \"MRK\", \"PFE\", \"TRV\", \"JNJ\", \"WMT\", \"MCD\", \"VZ\", \"PG\", \"KO\", \"DOW\"], \"y\": [0.058235719242383924, 0.05713077639579374, 0.0566748835383461, 0.05558918625315777, 0.05478160327819792, 0.05450295093816925, 0.05391224089312388, 0.05382825418551068, 0.05339943258176926, 0.05114242513452416, 0.04950146277489018, 0.04922446030908169, 0.04914506757070329, 0.04913452515035834, 0.048798569962280464, 0.0486393505972215, 0.04836955614185551, 0.048103020012026446, 0.047981295856730596, 0.04653486106933359, 0.04567732270144601, 0.045091246182884945, 0.044491312900704696, 0.04332441383192178, 0.040420649383446666, 0.04041417016328536, 0.039314973922302876, 0.03886446816414928, 0.037638165065832854, 0.02527699737827982], \"type\": \"bar\", \"uid\": \"8cd42ace-8aea-4a66-b5f6-db2842e54c5b\"}], {\"shapes\": [{\"line\": {\"color\": \"red\", \"dash\": \"solid\", \"width\": 1}, \"type\": \"line\", \"x0\": 0, \"x1\": 1, \"xref\": \"paper\", \"y0\": 0.0797, \"y1\": 0.0797}], \"title\": {\"text\": \"Realized Returns vs. Expected Returns\", \"x\": 0, \"xref\": \"paper\"}, \"xaxis\": {\"tickangle\": 45, \"title\": {\"font\": {\"color\": \"#7f7f7f\", \"family\": \"Courier New, monospace\", \"size\": 18}, \"text\": \"Company Tickers\"}}, \"yaxis\": {\"tickformat\": \"%\", \"title\": {\"font\": {\"color\": \"#7f7f7f\", \"family\": \"Courier New, monospace\", \"size\": 18}, \"text\": \"Stock Returns\"}}}, {\"showLink\": false, \"linkText\": \"Export to plot.ly\", \"plotlyServerURL\": \"https://plot.ly\"}); \n",
       "}\n",
       "});</script><script type=\"text/javascript\">window.addEventListener(\"resize\", function(){if (document.getElementById(\"37c28e99-24dd-41cf-8283-da5d04728738\")) {window._Plotly.Plots.resize(document.getElementById(\"37c28e99-24dd-41cf-8283-da5d04728738\"));};})</script>"
      ],
      "text/vnd.plotly.v1+html": [
       "<div id=\"37c28e99-24dd-41cf-8283-da5d04728738\" style=\"height: 525px; width: 100%;\" class=\"plotly-graph-div\"></div><script type=\"text/javascript\">require([\"plotly\"], function(Plotly) { window.PLOTLYENV=window.PLOTLYENV || {};window.PLOTLYENV.BASE_URL=\"https://plot.ly\";\n",
       "if (document.getElementById(\"37c28e99-24dd-41cf-8283-da5d04728738\")) {\n",
       "    Plotly.newPlot(\"37c28e99-24dd-41cf-8283-da5d04728738\", [{\"marker\": {\"color\": \"rgb(49,130,189)\"}, \"name\": \"Realized Return\", \"text\": [\"Caterpillar\", \"Microsoft\", \"Goldman Sachs\", \"Intel\", \"Apple\", \"JPMorgan Chase\", \"Visa\", \"Boeing\", \"Cisco Systems\", \"Chevron\", \"Nike\", \"3M\", \"American Express\", \"UnitedHealth Group\", \"Walgreens Boots Alliance\", \"The Home Depot\", \"IBM\", \"United Technologies\", \"ExxonMobil\", \"Walt Disney\", \"Merck & Company\", \"Pfizer\", \"Travelers\", \"Johnson & Johnson\", \"Walmart\", \"McDonald's\", \"Verizon\", \"Procter & Gamble\", \"Coca-Cola\", \"Dow Inc.\"], \"x\": [\"CAT\", \"MSFT\", \"GS\", \"INTC\", \"AAPL\", \"JPM\", \"V\", \"BA\", \"CSCO\", \"CVX\", \"NKE\", \"MMM\", \"AXP\", \"UNH\", \"WBA\", \"HD\", \"IBM\", \"UTX\", \"XOM\", \"DIS\", \"MRK\", \"PFE\", \"TRV\", \"JNJ\", \"WMT\", \"MCD\", \"VZ\", \"PG\", \"KO\", \"DOW\"], \"y\": [0.0965738384493871, 0.25192968203589794, 0.06146161781317589, 0.1848466951933882, 0.22674926549160157, 0.16769087408250327, 0.23664096162269724, 0.2359596079990644, 0.2065256623236044, 0.03562858424733146, 0.18792429163084848, 0.11730845772320603, 0.06862747289446466, 0.23788860544824733, -0.027148481678532416, 0.2134201174527604, -0.022288055967652747, 0.054631048655061534, -0.0016691644296000405, 0.11683915764138286, 0.08235624326471658, 0.08376440244287589, 0.11188900663307293, 0.09337027224646582, 0.08086122205540897, 0.1655424592632697, 0.08235093864261679, 0.08151801747726378, 0.0657229425630613, 0.010561520098619843], \"type\": \"bar\", \"uid\": \"67c21505-2ee5-485b-ae04-e5e50ae2fc24\"}, {\"marker\": {\"color\": \"rgb(204,204,204)\"}, \"name\": \"Expected Return\", \"x\": [\"CAT\", \"MSFT\", \"GS\", \"INTC\", \"AAPL\", \"JPM\", \"V\", \"BA\", \"CSCO\", \"CVX\", \"NKE\", \"MMM\", \"AXP\", \"UNH\", \"WBA\", \"HD\", \"IBM\", \"UTX\", \"XOM\", \"DIS\", \"MRK\", \"PFE\", \"TRV\", \"JNJ\", \"WMT\", \"MCD\", \"VZ\", \"PG\", \"KO\", \"DOW\"], \"y\": [0.058235719242383924, 0.05713077639579374, 0.0566748835383461, 0.05558918625315777, 0.05478160327819792, 0.05450295093816925, 0.05391224089312388, 0.05382825418551068, 0.05339943258176926, 0.05114242513452416, 0.04950146277489018, 0.04922446030908169, 0.04914506757070329, 0.04913452515035834, 0.048798569962280464, 0.0486393505972215, 0.04836955614185551, 0.048103020012026446, 0.047981295856730596, 0.04653486106933359, 0.04567732270144601, 0.045091246182884945, 0.044491312900704696, 0.04332441383192178, 0.040420649383446666, 0.04041417016328536, 0.039314973922302876, 0.03886446816414928, 0.037638165065832854, 0.02527699737827982], \"type\": \"bar\", \"uid\": \"8cd42ace-8aea-4a66-b5f6-db2842e54c5b\"}], {\"shapes\": [{\"line\": {\"color\": \"red\", \"dash\": \"solid\", \"width\": 1}, \"type\": \"line\", \"x0\": 0, \"x1\": 1, \"xref\": \"paper\", \"y0\": 0.0797, \"y1\": 0.0797}], \"title\": {\"text\": \"Realized Returns vs. Expected Returns\", \"x\": 0, \"xref\": \"paper\"}, \"xaxis\": {\"tickangle\": 45, \"title\": {\"font\": {\"color\": \"#7f7f7f\", \"family\": \"Courier New, monospace\", \"size\": 18}, \"text\": \"Company Tickers\"}}, \"yaxis\": {\"tickformat\": \"%\", \"title\": {\"font\": {\"color\": \"#7f7f7f\", \"family\": \"Courier New, monospace\", \"size\": 18}, \"text\": \"Stock Returns\"}}}, {\"showLink\": false, \"linkText\": \"Export to plot.ly\", \"plotlyServerURL\": \"https://plot.ly\"}); \n",
       "}\n",
       "});</script><script type=\"text/javascript\">window.addEventListener(\"resize\", function(){if (document.getElementById(\"37c28e99-24dd-41cf-8283-da5d04728738\")) {window._Plotly.Plots.resize(document.getElementById(\"37c28e99-24dd-41cf-8283-da5d04728738\"));};})</script>"
      ]
     },
     "metadata": {},
     "output_type": "display_data"
    }
   ],
   "source": [
    "# Compare the Expected Return and Realized Return\n",
    "\n",
    "trace0 = go.Bar(\n",
    "    x = df.index,\n",
    "    y = df['Realized_Return'],\n",
    "    name = 'Realized Return',\n",
    "    text = df['Company'],\n",
    "    marker = dict(\n",
    "        color='rgb(49,130,189)',\n",
    "    )\n",
    ")\n",
    "\n",
    "trace1 = go.Bar(\n",
    "    x = df.index,\n",
    "    y = df['Expected_Return'],\n",
    "    name = 'Expected Return',\n",
    "    marker = dict(\n",
    "        color='rgb(204,204,204)',\n",
    "    )\n",
    ")\n",
    "\n",
    "\n",
    "\n",
    "layout = go.Layout(\n",
    "    title=go.layout.Title(\n",
    "        text='Realized Returns vs. Expected Returns',\n",
    "        xref='paper',\n",
    "        x=0\n",
    "    ),\n",
    "    xaxis=go.layout.XAxis(\n",
    "        tickangle=45,\n",
    "        title=go.layout.xaxis.Title(\n",
    "            text='Company Tickers',\n",
    "            font=dict(\n",
    "                family='Courier New, monospace',\n",
    "                size=18,\n",
    "                color='#7f7f7f'\n",
    "            )\n",
    "        )\n",
    "    ),\n",
    "    yaxis=go.layout.YAxis(\n",
    "        tickformat = '%',\n",
    "        title=go.layout.yaxis.Title(\n",
    "            text='Stock Returns',\n",
    "            font=dict(\n",
    "                family='Courier New, monospace',\n",
    "                size=18,\n",
    "                color='#7f7f7f'\n",
    "            )\n",
    "        )\n",
    "    ),\n",
    "    shapes=[\n",
    "            {\n",
    "                'type': 'line',\n",
    "                'xref': 'paper',\n",
    "                'x0': 0,\n",
    "                'y0': 0.0797, # use absolute value or variable here\n",
    "                'x1': 1,\n",
    "                'y1': 0.0797, # ditto\n",
    "                'line': {\n",
    "                    'color': 'red',\n",
    "                    'width': 1,\n",
    "                    'dash': 'solid',\n",
    "                },\n",
    "            },\n",
    "        ],\n",
    "    \n",
    ")\n",
    "\n",
    "data = [trace0,trace1]\n",
    "fig = go.Figure(data=data, layout=layout)\n",
    "py.iplot(fig)"
   ]
  },
  {
   "cell_type": "code",
   "execution_count": 26,
   "metadata": {},
   "outputs": [
    {
     "data": {
      "application/vnd.plotly.v1+json": {
       "config": {
        "linkText": "Export to plot.ly",
        "plotlyServerURL": "https://plot.ly",
        "showLink": false
       },
       "data": [
        {
         "marker": {
          "color": "rgb(49,130,189)"
         },
         "name": "Alpha",
         "text": [
          "Microsoft",
          "UnitedHealth Group",
          "Visa",
          "Boeing",
          "Apple",
          "The Home Depot",
          "Cisco Systems",
          "Nike",
          "Intel",
          "McDonald's",
          "JPMorgan Chase",
          "Walt Disney",
          "3M",
          "Travelers",
          "Johnson & Johnson",
          "Verizon",
          "Procter & Gamble",
          "Walmart",
          "Pfizer",
          "Caterpillar",
          "Merck & Company",
          "Coca-Cola",
          "American Express",
          "United Technologies",
          "Goldman Sachs",
          "Dow Inc.",
          "Chevron",
          "ExxonMobil",
          "IBM",
          "Walgreens Boots Alliance"
         ],
         "type": "bar",
         "uid": "b4ebe801-b548-4083-ac1f-40c8c59fc1ae",
         "x": [
          "MSFT",
          "UNH",
          "V",
          "BA",
          "AAPL",
          "HD",
          "CSCO",
          "NKE",
          "INTC",
          "MCD",
          "JPM",
          "DIS",
          "MMM",
          "TRV",
          "JNJ",
          "VZ",
          "PG",
          "WMT",
          "PFE",
          "CAT",
          "MRK",
          "KO",
          "AXP",
          "UTX",
          "GS",
          "DOW",
          "CVX",
          "XOM",
          "IBM",
          "WBA"
         ],
         "y": [
          0.19479890564010421,
          0.18875408029788898,
          0.18272872072957336,
          0.18213135381355372,
          0.17196766221340365,
          0.1647807668555389,
          0.15312622974183512,
          0.1384228288559583,
          0.12925750894023041,
          0.12512828909998433,
          0.11318792314433401,
          0.07030429657204927,
          0.06808399741412434,
          0.06739769373236823,
          0.050045858414544044,
          0.043035964720313916,
          0.042653549313114505,
          0.0404405726719623,
          0.038673156259990946,
          0.03833811920700318,
          0.036678920563270566,
          0.028084777497228444,
          0.019482405323761373,
          0.006528028643035089,
          0.004786734274829792,
          -0.014715477279659977,
          -0.015513840887192702,
          -0.04965046028633064,
          -0.07065761210950826,
          -0.07594705164081288
         ]
        }
       ],
       "layout": {
        "title": {
         "text": "Comparison on Alpha (Difference in Returns) Across 30 Dow Jones Stocks",
         "x": 0,
         "xref": "paper"
        },
        "xaxis": {
         "tickangle": 45,
         "title": {
          "font": {
           "color": "#7f7f7f",
           "family": "Courier New, monospace",
           "size": 18
          },
          "text": "Company Tickers"
         }
        },
        "yaxis": {
         "tickformat": "%",
         "title": {
          "font": {
           "color": "#7f7f7f",
           "family": "Courier New, monospace",
           "size": 18
          },
          "text": "$\\Delta$"
         }
        }
       }
      },
      "text/html": [
       "<div id=\"22a59405-ef93-48c7-84d8-1d993994094b\" style=\"height: 525px; width: 100%;\" class=\"plotly-graph-div\"></div><script type=\"text/javascript\">require([\"plotly\"], function(Plotly) { window.PLOTLYENV=window.PLOTLYENV || {};window.PLOTLYENV.BASE_URL=\"https://plot.ly\";\n",
       "if (document.getElementById(\"22a59405-ef93-48c7-84d8-1d993994094b\")) {\n",
       "    Plotly.newPlot(\"22a59405-ef93-48c7-84d8-1d993994094b\", [{\"marker\": {\"color\": \"rgb(49,130,189)\"}, \"name\": \"Alpha\", \"text\": [\"Microsoft\", \"UnitedHealth Group\", \"Visa\", \"Boeing\", \"Apple\", \"The Home Depot\", \"Cisco Systems\", \"Nike\", \"Intel\", \"McDonald's\", \"JPMorgan Chase\", \"Walt Disney\", \"3M\", \"Travelers\", \"Johnson & Johnson\", \"Verizon\", \"Procter & Gamble\", \"Walmart\", \"Pfizer\", \"Caterpillar\", \"Merck & Company\", \"Coca-Cola\", \"American Express\", \"United Technologies\", \"Goldman Sachs\", \"Dow Inc.\", \"Chevron\", \"ExxonMobil\", \"IBM\", \"Walgreens Boots Alliance\"], \"x\": [\"MSFT\", \"UNH\", \"V\", \"BA\", \"AAPL\", \"HD\", \"CSCO\", \"NKE\", \"INTC\", \"MCD\", \"JPM\", \"DIS\", \"MMM\", \"TRV\", \"JNJ\", \"VZ\", \"PG\", \"WMT\", \"PFE\", \"CAT\", \"MRK\", \"KO\", \"AXP\", \"UTX\", \"GS\", \"DOW\", \"CVX\", \"XOM\", \"IBM\", \"WBA\"], \"y\": [0.19479890564010421, 0.18875408029788898, 0.18272872072957336, 0.18213135381355372, 0.17196766221340365, 0.1647807668555389, 0.15312622974183512, 0.1384228288559583, 0.12925750894023041, 0.12512828909998433, 0.11318792314433401, 0.07030429657204927, 0.06808399741412434, 0.06739769373236823, 0.050045858414544044, 0.043035964720313916, 0.042653549313114505, 0.0404405726719623, 0.038673156259990946, 0.03833811920700318, 0.036678920563270566, 0.028084777497228444, 0.019482405323761373, 0.006528028643035089, 0.004786734274829792, -0.014715477279659977, -0.015513840887192702, -0.04965046028633064, -0.07065761210950826, -0.07594705164081288], \"type\": \"bar\", \"uid\": \"b4ebe801-b548-4083-ac1f-40c8c59fc1ae\"}], {\"title\": {\"text\": \"Comparison on Alpha (Difference in Returns) Across 30 Dow Jones Stocks\", \"x\": 0, \"xref\": \"paper\"}, \"xaxis\": {\"tickangle\": 45, \"title\": {\"font\": {\"color\": \"#7f7f7f\", \"family\": \"Courier New, monospace\", \"size\": 18}, \"text\": \"Company Tickers\"}}, \"yaxis\": {\"tickformat\": \"%\", \"title\": {\"font\": {\"color\": \"#7f7f7f\", \"family\": \"Courier New, monospace\", \"size\": 18}, \"text\": \"$\\\\Delta$\"}}}, {\"showLink\": false, \"linkText\": \"Export to plot.ly\", \"plotlyServerURL\": \"https://plot.ly\"}); \n",
       "}\n",
       "});</script><script type=\"text/javascript\">window.addEventListener(\"resize\", function(){if (document.getElementById(\"22a59405-ef93-48c7-84d8-1d993994094b\")) {window._Plotly.Plots.resize(document.getElementById(\"22a59405-ef93-48c7-84d8-1d993994094b\"));};})</script>"
      ],
      "text/vnd.plotly.v1+html": [
       "<div id=\"22a59405-ef93-48c7-84d8-1d993994094b\" style=\"height: 525px; width: 100%;\" class=\"plotly-graph-div\"></div><script type=\"text/javascript\">require([\"plotly\"], function(Plotly) { window.PLOTLYENV=window.PLOTLYENV || {};window.PLOTLYENV.BASE_URL=\"https://plot.ly\";\n",
       "if (document.getElementById(\"22a59405-ef93-48c7-84d8-1d993994094b\")) {\n",
       "    Plotly.newPlot(\"22a59405-ef93-48c7-84d8-1d993994094b\", [{\"marker\": {\"color\": \"rgb(49,130,189)\"}, \"name\": \"Alpha\", \"text\": [\"Microsoft\", \"UnitedHealth Group\", \"Visa\", \"Boeing\", \"Apple\", \"The Home Depot\", \"Cisco Systems\", \"Nike\", \"Intel\", \"McDonald's\", \"JPMorgan Chase\", \"Walt Disney\", \"3M\", \"Travelers\", \"Johnson & Johnson\", \"Verizon\", \"Procter & Gamble\", \"Walmart\", \"Pfizer\", \"Caterpillar\", \"Merck & Company\", \"Coca-Cola\", \"American Express\", \"United Technologies\", \"Goldman Sachs\", \"Dow Inc.\", \"Chevron\", \"ExxonMobil\", \"IBM\", \"Walgreens Boots Alliance\"], \"x\": [\"MSFT\", \"UNH\", \"V\", \"BA\", \"AAPL\", \"HD\", \"CSCO\", \"NKE\", \"INTC\", \"MCD\", \"JPM\", \"DIS\", \"MMM\", \"TRV\", \"JNJ\", \"VZ\", \"PG\", \"WMT\", \"PFE\", \"CAT\", \"MRK\", \"KO\", \"AXP\", \"UTX\", \"GS\", \"DOW\", \"CVX\", \"XOM\", \"IBM\", \"WBA\"], \"y\": [0.19479890564010421, 0.18875408029788898, 0.18272872072957336, 0.18213135381355372, 0.17196766221340365, 0.1647807668555389, 0.15312622974183512, 0.1384228288559583, 0.12925750894023041, 0.12512828909998433, 0.11318792314433401, 0.07030429657204927, 0.06808399741412434, 0.06739769373236823, 0.050045858414544044, 0.043035964720313916, 0.042653549313114505, 0.0404405726719623, 0.038673156259990946, 0.03833811920700318, 0.036678920563270566, 0.028084777497228444, 0.019482405323761373, 0.006528028643035089, 0.004786734274829792, -0.014715477279659977, -0.015513840887192702, -0.04965046028633064, -0.07065761210950826, -0.07594705164081288], \"type\": \"bar\", \"uid\": \"b4ebe801-b548-4083-ac1f-40c8c59fc1ae\"}], {\"title\": {\"text\": \"Comparison on Alpha (Difference in Returns) Across 30 Dow Jones Stocks\", \"x\": 0, \"xref\": \"paper\"}, \"xaxis\": {\"tickangle\": 45, \"title\": {\"font\": {\"color\": \"#7f7f7f\", \"family\": \"Courier New, monospace\", \"size\": 18}, \"text\": \"Company Tickers\"}}, \"yaxis\": {\"tickformat\": \"%\", \"title\": {\"font\": {\"color\": \"#7f7f7f\", \"family\": \"Courier New, monospace\", \"size\": 18}, \"text\": \"$\\\\Delta$\"}}}, {\"showLink\": false, \"linkText\": \"Export to plot.ly\", \"plotlyServerURL\": \"https://plot.ly\"}); \n",
       "}\n",
       "});</script><script type=\"text/javascript\">window.addEventListener(\"resize\", function(){if (document.getElementById(\"22a59405-ef93-48c7-84d8-1d993994094b\")) {window._Plotly.Plots.resize(document.getElementById(\"22a59405-ef93-48c7-84d8-1d993994094b\"));};})</script>"
      ]
     },
     "metadata": {},
     "output_type": "display_data"
    }
   ],
   "source": [
    "\n",
    "df = df.sort_values('Alpha',ascending = False)\n",
    "\n",
    "trace0 = go.Bar(\n",
    "    x = df.index,\n",
    "    y = df['Alpha'],\n",
    "    name = 'Alpha',\n",
    "    text = df['Company'],\n",
    "    marker = dict(\n",
    "        color='rgb(49,130,189)',\n",
    "    )\n",
    ")\n",
    "\n",
    "layout = go.Layout(\n",
    "    title=go.layout.Title(\n",
    "        text='Comparison on Alpha (Difference in Returns) Across 30 Dow Jones Stocks',\n",
    "        xref='paper',\n",
    "        x=0\n",
    "    ),\n",
    "    xaxis=go.layout.XAxis(\n",
    "        tickangle=45,\n",
    "        title=go.layout.xaxis.Title(\n",
    "            text='Company Tickers',\n",
    "            font=dict(\n",
    "                family='Courier New, monospace',\n",
    "                size=18,\n",
    "                color='#7f7f7f'\n",
    "            )\n",
    "        )\n",
    "    ),\n",
    "    yaxis=go.layout.YAxis(\n",
    "        tickformat = '%',\n",
    "        title=go.layout.yaxis.Title(\n",
    "            text='$\\Delta$',\n",
    "            font=dict(\n",
    "                family='Courier New, monospace',\n",
    "                size=18,\n",
    "                color='#7f7f7f'\n",
    "            )\n",
    "        )\n",
    "    )\n",
    ")\n",
    "\n",
    "data = [trace0]\n",
    "fig = go.Figure(data=data, layout=layout)\n",
    "py.iplot(fig)"
   ]
  },
  {
   "cell_type": "code",
   "execution_count": 27,
   "metadata": {},
   "outputs": [
    {
     "data": {
      "application/vnd.plotly.v1+json": {
       "config": {
        "linkText": "Export to plot.ly",
        "plotlyServerURL": "https://plot.ly",
        "showLink": false
       },
       "data": [
        {
         "marker": {
          "color": "rgb(49,130,189)"
         },
         "name": "Realized Return",
         "text": "Stock Returns",
         "type": "bar",
         "uid": "83f8f2bb-4a6a-4ba5-b5c3-92b8d4e601b0",
         "x": [
          "Managed health care",
          "Aerospace and defense",
          "Apparel",
          "Information technologies",
          "Financial services",
          "Broadcasting and entertainment",
          "Food",
          "Insurance",
          "Construction and mining equipment",
          "Retail",
          "Pharmaceuticals",
          "Conglomerate",
          "Telecommunication",
          "Consumer goods",
          "Oil & gas",
          "Chemical industry"
         ],
         "y": [
          0.23788860544824733,
          0.2359596079990644,
          0.18792429163084848,
          0.16955264981536786,
          0.13360523160321028,
          0.11683915764138286,
          0.11563270091316549,
          0.11188900663307293,
          0.0965738384493871,
          0.08904428594321233,
          0.08649697265135277,
          0.08596975318913377,
          0.08235093864261679,
          0.08151801747726378,
          0.016979709908865707,
          0.010561520098619843
         ]
        }
       ],
       "layout": {
        "autosize": false,
        "height": 1000,
        "margin": {
         "b": 300,
         "l": 50,
         "pad": 4,
         "r": 50,
         "t": 100
        },
        "title": {
         "text": "Realized Returns by Industry",
         "x": 0,
         "xref": "paper"
        },
        "width": 800,
        "xaxis": {
         "tickangle": 30,
         "title": {
          "font": {
           "color": "#7f7f7f",
           "family": "Courier New, monospace",
           "size": 18
          },
          "text": "Industry"
         }
        },
        "yaxis": {
         "tickformat": "%",
         "title": {
          "font": {
           "color": "#7f7f7f",
           "family": "Courier New, monospace",
           "size": 18
          },
          "text": "Stock Returns"
         }
        }
       }
      },
      "text/html": [
       "<div id=\"8bea98df-9b49-4054-9b27-cbdfe4eefd31\" style=\"height: 1000px; width: 800px;\" class=\"plotly-graph-div\"></div><script type=\"text/javascript\">require([\"plotly\"], function(Plotly) { window.PLOTLYENV=window.PLOTLYENV || {};window.PLOTLYENV.BASE_URL=\"https://plot.ly\";\n",
       "if (document.getElementById(\"8bea98df-9b49-4054-9b27-cbdfe4eefd31\")) {\n",
       "    Plotly.newPlot(\"8bea98df-9b49-4054-9b27-cbdfe4eefd31\", [{\"marker\": {\"color\": \"rgb(49,130,189)\"}, \"name\": \"Realized Return\", \"text\": \"Stock Returns\", \"x\": [\"Managed health care\", \"Aerospace and defense\", \"Apparel\", \"Information technologies\", \"Financial services\", \"Broadcasting and entertainment\", \"Food\", \"Insurance\", \"Construction and mining equipment\", \"Retail\", \"Pharmaceuticals\", \"Conglomerate\", \"Telecommunication\", \"Consumer goods\", \"Oil & gas\", \"Chemical industry\"], \"y\": [0.23788860544824733, 0.2359596079990644, 0.18792429163084848, 0.16955264981536786, 0.13360523160321028, 0.11683915764138286, 0.11563270091316549, 0.11188900663307293, 0.0965738384493871, 0.08904428594321233, 0.08649697265135277, 0.08596975318913377, 0.08235093864261679, 0.08151801747726378, 0.016979709908865707, 0.010561520098619843], \"type\": \"bar\", \"uid\": \"83f8f2bb-4a6a-4ba5-b5c3-92b8d4e601b0\"}], {\"autosize\": false, \"height\": 1000, \"margin\": {\"b\": 300, \"l\": 50, \"pad\": 4, \"r\": 50, \"t\": 100}, \"title\": {\"text\": \"Realized Returns by Industry\", \"x\": 0, \"xref\": \"paper\"}, \"width\": 800, \"xaxis\": {\"tickangle\": 30, \"title\": {\"font\": {\"color\": \"#7f7f7f\", \"family\": \"Courier New, monospace\", \"size\": 18}, \"text\": \"Industry\"}}, \"yaxis\": {\"tickformat\": \"%\", \"title\": {\"font\": {\"color\": \"#7f7f7f\", \"family\": \"Courier New, monospace\", \"size\": 18}, \"text\": \"Stock Returns\"}}}, {\"showLink\": false, \"linkText\": \"Export to plot.ly\", \"plotlyServerURL\": \"https://plot.ly\"}); \n",
       "}\n",
       "});</script>"
      ],
      "text/vnd.plotly.v1+html": [
       "<div id=\"8bea98df-9b49-4054-9b27-cbdfe4eefd31\" style=\"height: 1000px; width: 800px;\" class=\"plotly-graph-div\"></div><script type=\"text/javascript\">require([\"plotly\"], function(Plotly) { window.PLOTLYENV=window.PLOTLYENV || {};window.PLOTLYENV.BASE_URL=\"https://plot.ly\";\n",
       "if (document.getElementById(\"8bea98df-9b49-4054-9b27-cbdfe4eefd31\")) {\n",
       "    Plotly.newPlot(\"8bea98df-9b49-4054-9b27-cbdfe4eefd31\", [{\"marker\": {\"color\": \"rgb(49,130,189)\"}, \"name\": \"Realized Return\", \"text\": \"Stock Returns\", \"x\": [\"Managed health care\", \"Aerospace and defense\", \"Apparel\", \"Information technologies\", \"Financial services\", \"Broadcasting and entertainment\", \"Food\", \"Insurance\", \"Construction and mining equipment\", \"Retail\", \"Pharmaceuticals\", \"Conglomerate\", \"Telecommunication\", \"Consumer goods\", \"Oil & gas\", \"Chemical industry\"], \"y\": [0.23788860544824733, 0.2359596079990644, 0.18792429163084848, 0.16955264981536786, 0.13360523160321028, 0.11683915764138286, 0.11563270091316549, 0.11188900663307293, 0.0965738384493871, 0.08904428594321233, 0.08649697265135277, 0.08596975318913377, 0.08235093864261679, 0.08151801747726378, 0.016979709908865707, 0.010561520098619843], \"type\": \"bar\", \"uid\": \"83f8f2bb-4a6a-4ba5-b5c3-92b8d4e601b0\"}], {\"autosize\": false, \"height\": 1000, \"margin\": {\"b\": 300, \"l\": 50, \"pad\": 4, \"r\": 50, \"t\": 100}, \"title\": {\"text\": \"Realized Returns by Industry\", \"x\": 0, \"xref\": \"paper\"}, \"width\": 800, \"xaxis\": {\"tickangle\": 30, \"title\": {\"font\": {\"color\": \"#7f7f7f\", \"family\": \"Courier New, monospace\", \"size\": 18}, \"text\": \"Industry\"}}, \"yaxis\": {\"tickformat\": \"%\", \"title\": {\"font\": {\"color\": \"#7f7f7f\", \"family\": \"Courier New, monospace\", \"size\": 18}, \"text\": \"Stock Returns\"}}}, {\"showLink\": false, \"linkText\": \"Export to plot.ly\", \"plotlyServerURL\": \"https://plot.ly\"}); \n",
       "}\n",
       "});</script>"
      ]
     },
     "metadata": {},
     "output_type": "display_data"
    }
   ],
   "source": [
    "# Calculate and compare the average realized returns in each industry\n",
    "df_industry = df.groupby('Industry', as_index=False)['Realized_Return'].mean()\n",
    "df_industry = df_industry.sort_values('Realized_Return',ascending = False)\n",
    "\n",
    "trace0 = go.Bar(\n",
    "    x = df_industry['Industry'],\n",
    "    y = df_industry['Realized_Return'],\n",
    "    name = 'Realized Return',\n",
    "    text = 'Stock Returns',\n",
    "    marker = dict(\n",
    "        color='rgb(49,130,189)',\n",
    "    )\n",
    ")\n",
    "\n",
    "layout = go.Layout(\n",
    "     autosize=False,\n",
    "     width = 800,\n",
    "     height = 1000,\n",
    "     margin=go.layout.Margin(\n",
    "        l=50,\n",
    "        r=50,\n",
    "        b=300,\n",
    "        t=100,\n",
    "        pad=4\n",
    "    ),\n",
    "    title=go.layout.Title(\n",
    "        text='Realized Returns by Industry',\n",
    "        xref='paper',\n",
    "        x=0\n",
    "    ),\n",
    "    xaxis=go.layout.XAxis(\n",
    "        tickangle=30,\n",
    "        title=go.layout.xaxis.Title(\n",
    "            text='Industry',\n",
    "            font=dict(\n",
    "                family='Courier New, monospace',\n",
    "                size=18,\n",
    "                color='#7f7f7f'\n",
    "            )\n",
    "        )\n",
    "    ),\n",
    "    yaxis=go.layout.YAxis(\n",
    "        tickformat = '%',\n",
    "        title=go.layout.yaxis.Title(\n",
    "            text='Stock Returns',\n",
    "            font=dict(\n",
    "                family='Courier New, monospace',\n",
    "                size=18,\n",
    "                color='#7f7f7f'\n",
    "            )\n",
    "        )\n",
    "    )\n",
    ")\n",
    "\n",
    "data = [trace0]\n",
    "fig = go.Figure(data=data, layout=layout)\n",
    "py.iplot(fig)"
   ]
  },
  {
   "cell_type": "markdown",
   "metadata": {},
   "source": [
    "## Section IV: Construct and Visualize the Efficient Frontier of the Portfolio Composed of Top 3 Performers\n",
    "\n",
    "1. Select the top three performers from the 30 companies based on alphas (Shown in the previous graph \"Comparsion on Alphas\")\n",
    "2. Assign random weights to each stock in the portfolio\n",
    "3. Generate 1000 random portfoilos and construct a new data frame \n",
    "4. Calculate the expected portfolio return and portfolio volatilities\n",
    "5. Plot the 1000 outcomes from the Monte Carlo simulation"
   ]
  },
  {
   "cell_type": "code",
   "execution_count": 28,
   "metadata": {},
   "outputs": [],
   "source": [
    "# Select Top Three Performers\n",
    "top_performers = ['BA','MSFT','UNH']\n",
    "top_returns = sec_returns[top_performers]"
   ]
  },
  {
   "cell_type": "code",
   "execution_count": 29,
   "metadata": {},
   "outputs": [],
   "source": [
    "#Set the figure sizes\n",
    "plt.rcParams['figure.figsize'] = (10,8)"
   ]
  },
  {
   "cell_type": "code",
   "execution_count": 30,
   "metadata": {},
   "outputs": [
    {
     "data": {
      "image/png": "[encoded data removed]",
      "text/plain": [
       "<Figure size 720x576 with 1 Axes>"
      ]
     },
     "metadata": {
      "needs_background": "light"
     },
     "output_type": "display_data"
    }
   ],
   "source": [
    "# Plot stock price movements over the past 10 years\n",
    "(sec_data[top_performers]/sec_data[top_performers].iloc[0]*100).plot();\n",
    "plt.ylabel('Stock Prices');\n",
    "plt.title('Price Movements of Top Three Performers');"
   ]
  },
  {
   "cell_type": "code",
   "execution_count": 31,
   "metadata": {},
   "outputs": [
    {
     "data": {
      "text/plain": [
       "array([[0., 0., 0., ..., 0., 0., 0.],\n",
       "       [0., 0., 0., ..., 0., 0., 0.],\n",
       "       [0., 0., 0., ..., 0., 0., 0.]])"
      ]
     },
     "execution_count": 31,
     "metadata": {},
     "output_type": "execute_result"
    }
   ],
   "source": [
    "# Set the number of assets to assign weights\n",
    "num_assets = 3\n",
    "\n",
    "# Set the number of runs of random portfolio weights\n",
    "num_portfolios = 1000\n",
    "\n",
    "# Set up array to hold results\n",
    "results = np.zeros((num_assets,num_portfolios))\n",
    "results"
   ]
  },
  {
   "cell_type": "code",
   "execution_count": 32,
   "metadata": {},
   "outputs": [
    {
     "data": {
      "text/plain": [
       "(array([0.46278909, 0.32989746, 0.20731344]), 1.0)"
      ]
     },
     "execution_count": 32,
     "metadata": {},
     "output_type": "execute_result"
    }
   ],
   "source": [
    "#Generate the random weights for each company \n",
    "weights = np.random.random(num_assets)\n",
    "weights /= np.sum(weights)\n",
    "weights,sum(weights)"
   ]
  },
  {
   "cell_type": "code",
   "execution_count": 33,
   "metadata": {},
   "outputs": [
    {
     "data": {
      "text/plain": [
       "BA      0.109200\n",
       "MSFT    0.083111\n",
       "UNH     0.049318\n",
       "dtype: float64"
      ]
     },
     "execution_count": 33,
     "metadata": {},
     "output_type": "execute_result"
    }
   ],
   "source": [
    "# Test the calculation of portfolio returns with random weights \n",
    "top_returns.mean()*250*weights"
   ]
  },
  {
   "cell_type": "code",
   "execution_count": 34,
   "metadata": {},
   "outputs": [
    {
     "data": {
      "text/plain": [
       "0.24162800200238435"
      ]
     },
     "execution_count": 34,
     "metadata": {},
     "output_type": "execute_result"
    }
   ],
   "source": [
    "# Expected Portfolio Return\n",
    "np.sum(weights*top_returns.mean()*250)"
   ]
  },
  {
   "cell_type": "code",
   "execution_count": 35,
   "metadata": {},
   "outputs": [
    {
     "data": {
      "text/plain": [
       "0.18225519891074712"
      ]
     },
     "execution_count": 35,
     "metadata": {},
     "output_type": "execute_result"
    }
   ],
   "source": [
    "# Expected Portfolio Volatility\n",
    "np.sqrt(np.dot(weights.T,np.dot(top_returns.cov()*250, weights)))"
   ]
  },
  {
   "cell_type": "markdown",
   "metadata": {},
   "source": [
    "## Construct the Efficient Frontier by Running Monte Carlo Simulations"
   ]
  },
  {
   "cell_type": "code",
   "execution_count": 36,
   "metadata": {},
   "outputs": [
    {
     "name": "stdout",
     "output_type": "stream",
     "text": [
      "[0.15351584 0.27595592 0.57052825]\n"
     ]
    }
   ],
   "source": [
    "import copy\n",
    "\n",
    "pfolio_returns = []\n",
    "pfolio_volatilities = []\n",
    "\n",
    "min = float(\"inf\")\n",
    "min_weights = []\n",
    "\n",
    "for x in range (num_portfolios):\n",
    "    \n",
    "    weights = np.random.random(num_assets)\n",
    "    weights /= np.sum(weights)\n",
    "    pfolio_returns = np.sum(weights * top_returns.mean()) * 250\n",
    "    pfolio_volatilities = np.sqrt(np.dot(weights.T,np.dot(top_returns.cov() * 250, weights)))\n",
    "    \n",
    "    if pfolio_volatilities < min:\n",
    "        min_weights = copy.deepcopy(weights)\n",
    "        \n",
    "    # Store results in results array\n",
    "    results[0,x] = pfolio_returns\n",
    "    results[1,x] = pfolio_volatilities\n",
    "    # Store Sharpe Ratio(return/volatility) - risk free rate \n",
    "    results[2,x] = (results[0,x]- rf)/results[1,x]\n",
    "    \n",
    "print (min_weights)    \n",
    "# convert results array to Pandas DataFrame\n",
    "results_frame = pd.DataFrame(results.T,columns =['Return','Volatility','Sharpe'])\n",
    "\n",
    "#locate position of portfolio with highest Sharpe Ratio\n",
    "max_sharpe_port = results_frame.iloc[results_frame['Sharpe'].idxmax()]\n",
    "#locate positon of portfolio with minimum standard deviation\n",
    "min_vol_port = results_frame.iloc[results_frame['Volatility'].idxmin()]"
   ]
  },
  {
   "cell_type": "code",
   "execution_count": 37,
   "metadata": {},
   "outputs": [
    {
     "data": {
      "text/plain": [
       "0.2507581598984722"
      ]
     },
     "execution_count": 37,
     "metadata": {},
     "output_type": "execute_result"
    }
   ],
   "source": [
    "results_frame.Return.max()"
   ]
  },
  {
   "cell_type": "code",
   "execution_count": 38,
   "metadata": {},
   "outputs": [
    {
     "data": {
      "image/png": "[encoded data removed]",
      "text/plain": [
       "<Figure size 720x576 with 2 Axes>"
      ]
     },
     "metadata": {
      "needs_background": "light"
     },
     "output_type": "display_data"
    }
   ],
   "source": [
    "# # Visualize the effecient frontier from 1000 times simulations \n",
    "plt.scatter(results_frame.Volatility,results_frame.Return,c=results_frame.Sharpe,cmap='RdYlBu')\n",
    "plt.colorbar()\n",
    "plt.xlabel('Expected Volatility')\n",
    "plt.ylabel('Expected Return')\n",
    "plt.title('Efficient Frontier')\n",
    "plt.ylim((0.23,0.25)) \n",
    "plt.grid(True)\n",
    "\n",
    "#plot red star to highlight position of portfolio with highest Sharpe Ratio\n",
    "plt.scatter(max_sharpe_port[1],max_sharpe_port[0],marker=(5,1,0),color='r',s=800)\n",
    "#plot green star to highlight position of minimum variance portfolio\n",
    "plt.scatter(min_vol_port[1],min_vol_port[0],marker=(5,1,0),color='g',s=800)\n",
    "\n",
    "plt.show()"
   ]
  },
  {
   "cell_type": "markdown",
   "metadata": {},
   "source": [
    "### Insights: \n",
    "Economist Markowitz proved the existence of an efficient set of portfolios that optimize investors' return for the amount of risk they are willing to accept. \n",
    "\n",
    "Here, I constructed the efficient frontier by building a promising set of portfolios of three stocks with highest alphas. I labeled the minimum variance portfolio with a green star that is a perfect investment choice for investors who want to optimize the portfolio return without assuming additional risk. \n",
    "\n",
    "Sharpe ratio is a measure of risk-adjusted returns. The portfolio with the highest Sharpe Ratio labeled as a redstart is intended for investors who want to pursue the highest return for a given amount of risk. As you have seen from the graph, if the risk-free rate is the intercept on the y-axis and you plot the tangency line of the efficient frontier, the red portfolio is where the tangent line and the efficient frontier intersect. \n",
    "\n",
    "Sharpe Ratio = (Expected Returns - Risk-Free Rate)/Expected Volatilities"
   ]
  },
  {
   "cell_type": "markdown",
   "metadata": {},
   "source": [
    "## Section V: Perform Regression Analysis on the Minimum Variance Portfolio Against the S&P 500 Index and Google Trends\n",
    "### Visualize the stock returns fluctuations of the minimum variance portfolio"
   ]
  },
  {
   "cell_type": "code",
   "execution_count": 39,
   "metadata": {},
   "outputs": [],
   "source": [
    "min_port_returns = np.sum(min_weights * top_returns)\n",
    "market_data = wb.DataReader(['^DJI','^GSPC'],data_source='yahoo',start=start,end=end)['Adj Close']"
   ]
  },
  {
   "cell_type": "code",
   "execution_count": 40,
   "metadata": {},
   "outputs": [],
   "source": [
    "top_returns = min_weights*top_returns\n",
    "top_returns['Total']=top_returns['BA'] + top_returns['MSFT'] + top_returns['UNH']"
   ]
  },
  {
   "cell_type": "code",
   "execution_count": 41,
   "metadata": {},
   "outputs": [
    {
     "data": {
      "image/png": "[encoded data removed]",
      "text/plain": [
       "<Figure size 720x576 with 1 Axes>"
      ]
     },
     "metadata": {
      "needs_background": "light"
     },
     "output_type": "display_data"
    }
   ],
   "source": [
    "#Plot the portfolio performance over the past 10 years\n",
    "\n",
    "graph = top_returns['Total'].plot();\n",
    "plt.ylabel('Returns');\n",
    "plt.xlabel('Year')\n",
    "plt.title('Minimum Variance Portfolio Performance over Past 10 Years');\n",
    "\n",
    "graph.axhline(y=top_returns['Total'].mean(),c=\"red\",linewidth=2,zorder=0);\n",
    "graph.axhline(y=top_returns['Total'].mean()+top_returns['Total'].std(),c=\"red\",linewidth=1,zorder=0);\n",
    "graph.axhline(y=top_returns['Total'].mean()-top_returns['Total'].std(),c=\"red\",linewidth=1,zorder=0);"
   ]
  },
  {
   "cell_type": "markdown",
   "metadata": {},
   "source": [
    "### Regress on the portfolio returns against the S&P 500 market returns"
   ]
  },
  {
   "cell_type": "code",
   "execution_count": 42,
   "metadata": {},
   "outputs": [
    {
     "data": {
      "image/png": "[encoded data removed]",
      "text/plain": [
       "<Figure size 720x576 with 1 Axes>"
      ]
     },
     "metadata": {
      "needs_background": "light"
     },
     "output_type": "display_data"
    }
   ],
   "source": [
    "#Draw the scatter plot with minimum variance portfolio returns as an independent variable and SP500 market index as a dependent variable\n",
    "\n",
    "X1 = top_returns['Total'][1:]\n",
    "Y1 = log_returns['^GSPC'][1:]\n",
    "plt.scatter(X1,Y1);\n",
    "plt.xlabel('Minimum Variance Portfolio Returns')\n",
    "plt.ylabel('Market Returns')\n",
    "plt.title('Relationship Between Portfolio Returns and S&P 500 Market Returns')\n",
    "\n",
    "#Draw the trend line\n",
    "z = np.polyfit(X1,Y1,1)\n",
    "p = np.poly1d(z)\n",
    "plt.plot(X1,p(X1),\"r\")\n",
    "plt.show();"
   ]
  },
  {
   "cell_type": "code",
   "execution_count": 43,
   "metadata": {},
   "outputs": [],
   "source": [
    "#Apply statsmodel to run regression and conclude detailed stats\n",
    "x_hat = sm.add_constant(X1)\n",
    "reg = sm.OLS(Y1, x_hat).fit()"
   ]
  },
  {
   "cell_type": "code",
   "execution_count": 44,
   "metadata": {},
   "outputs": [
    {
     "data": {
      "text/html": [
       "<table class=\"simpletable\">\n",
       "<caption>OLS Regression Results</caption>\n",
       "<tr>\n",
       "  <th>Dep. Variable:</th>          <td>^GSPC</td>      <th>  R-squared:         </th> <td>   0.653</td> \n",
       "</tr>\n",
       "<tr>\n",
       "  <th>Model:</th>                   <td>OLS</td>       <th>  Adj. R-squared:    </th> <td>   0.653</td> \n",
       "</tr>\n",
       "<tr>\n",
       "  <th>Method:</th>             <td>Least Squares</td>  <th>  F-statistic:       </th> <td>   2367.</td> \n",
       "</tr>\n",
       "<tr>\n",
       "  <th>Date:</th>             <td>Tue, 23 Apr 2019</td> <th>  Prob (F-statistic):</th> <td>3.55e-291</td>\n",
       "</tr>\n",
       "<tr>\n",
       "  <th>Time:</th>                 <td>21:00:55</td>     <th>  Log-Likelihood:    </th> <td>  4901.1</td> \n",
       "</tr>\n",
       "<tr>\n",
       "  <th>No. Observations:</th>      <td>  1258</td>      <th>  AIC:               </th> <td>  -9798.</td> \n",
       "</tr>\n",
       "<tr>\n",
       "  <th>Df Residuals:</th>          <td>  1256</td>      <th>  BIC:               </th> <td>  -9788.</td> \n",
       "</tr>\n",
       "<tr>\n",
       "  <th>Df Model:</th>              <td>     1</td>      <th>                     </th>     <td> </td>    \n",
       "</tr>\n",
       "<tr>\n",
       "  <th>Covariance Type:</th>      <td>nonrobust</td>    <th>                     </th>     <td> </td>    \n",
       "</tr>\n",
       "</table>\n",
       "<table class=\"simpletable\">\n",
       "<tr>\n",
       "    <td></td>       <th>coef</th>     <th>std err</th>      <th>t</th>      <th>P>|t|</th>  <th>[0.025</th>    <th>0.975]</th>  \n",
       "</tr>\n",
       "<tr>\n",
       "  <th>const</th> <td>   -0.0002</td> <td>    0.000</td> <td>   -1.631</td> <td> 0.103</td> <td>   -0.001</td> <td>  4.6e-05</td>\n",
       "</tr>\n",
       "<tr>\n",
       "  <th>Total</th> <td>    0.6035</td> <td>    0.012</td> <td>   48.647</td> <td> 0.000</td> <td>    0.579</td> <td>    0.628</td>\n",
       "</tr>\n",
       "</table>\n",
       "<table class=\"simpletable\">\n",
       "<tr>\n",
       "  <th>Omnibus:</th>       <td>60.578</td> <th>  Durbin-Watson:     </th> <td>   2.037</td>\n",
       "</tr>\n",
       "<tr>\n",
       "  <th>Prob(Omnibus):</th> <td> 0.000</td> <th>  Jarque-Bera (JB):  </th> <td> 203.155</td>\n",
       "</tr>\n",
       "<tr>\n",
       "  <th>Skew:</th>          <td> 0.007</td> <th>  Prob(JB):          </th> <td>7.68e-45</td>\n",
       "</tr>\n",
       "<tr>\n",
       "  <th>Kurtosis:</th>      <td> 4.969</td> <th>  Cond. No.          </th> <td>    89.4</td>\n",
       "</tr>\n",
       "</table><br/><br/>Warnings:<br/>[1] Standard Errors assume that the covariance matrix of the errors is correctly specified."
      ],
      "text/plain": [
       "<class 'statsmodels.iolib.summary.Summary'>\n",
       "\"\"\"\n",
       "                            OLS Regression Results                            \n",
       "==============================================================================\n",
       "Dep. Variable:                  ^GSPC   R-squared:                       0.653\n",
       "Model:                            OLS   Adj. R-squared:                  0.653\n",
       "Method:                 Least Squares   F-statistic:                     2367.\n",
       "Date:                Tue, 23 Apr 2019   Prob (F-statistic):          3.55e-291\n",
       "Time:                        21:00:55   Log-Likelihood:                 4901.1\n",
       "No. Observations:                1258   AIC:                            -9798.\n",
       "Df Residuals:                    1256   BIC:                            -9788.\n",
       "Df Model:                           1                                         \n",
       "Covariance Type:            nonrobust                                         \n",
       "==============================================================================\n",
       "                 coef    std err          t      P>|t|      [0.025      0.975]\n",
       "------------------------------------------------------------------------------\n",
       "const         -0.0002      0.000     -1.631      0.103      -0.001     4.6e-05\n",
       "Total          0.6035      0.012     48.647      0.000       0.579       0.628\n",
       "==============================================================================\n",
       "Omnibus:                       60.578   Durbin-Watson:                   2.037\n",
       "Prob(Omnibus):                  0.000   Jarque-Bera (JB):              203.155\n",
       "Skew:                           0.007   Prob(JB):                     7.68e-45\n",
       "Kurtosis:                       4.969   Cond. No.                         89.4\n",
       "==============================================================================\n",
       "\n",
       "Warnings:\n",
       "[1] Standard Errors assume that the covariance matrix of the errors is correctly specified.\n",
       "\"\"\""
      ]
     },
     "execution_count": 44,
     "metadata": {},
     "output_type": "execute_result"
    }
   ],
   "source": [
    "reg.summary()"
   ]
  },
  {
   "cell_type": "code",
   "execution_count": 45,
   "metadata": {},
   "outputs": [
    {
     "data": {
      "text/html": [
       "<style  type=\"text/css\" >\n",
       "</style>  \n",
       "<table id=\"T_6a1ee798_662c_11e9_bd26_a0a4c505eacd\" > \n",
       "<thead>    <tr> \n",
       "        <th class=\"blank level0\" ></th> \n",
       "        <th class=\"col_heading level0 col0\" >Minimum Portfoilo Returns</th> \n",
       "        <th class=\"col_heading level0 col1\" >S&P 500 Returns</th> \n",
       "    </tr></thead> \n",
       "<tbody>    <tr> \n",
       "        <th id=\"T_6a1ee798_662c_11e9_bd26_a0a4c505eacdlevel0_row0\" class=\"row_heading level0 row0\" >0</th> \n",
       "        <td id=\"T_6a1ee798_662c_11e9_bd26_a0a4c505eacdrow0_col0\" class=\"data row0 col0\" >24.15%</td> \n",
       "        <td id=\"T_6a1ee798_662c_11e9_bd26_a0a4c505eacdrow0_col1\" class=\"data row0 col1\" >8.89%</td> \n",
       "    </tr></tbody> \n",
       "</table> "
      ],
      "text/plain": [
       "<pandas.io.formats.style.Styler at 0x20df7d60208>"
      ]
     },
     "execution_count": 45,
     "metadata": {},
     "output_type": "execute_result"
    }
   ],
   "source": [
    "comparison = {'Minimum Portfoilo Returns':[top_returns['Total'].mean()*250], 'S&P 500 Returns':[log_returns['^GSPC'].mean()*250]}\n",
    "comparison = pd.DataFrame(comparison)\n",
    "comparison.style.format({\n",
    "    'Minimum Portfoilo Returns': '{:,.2%}'.format,\n",
    "    'S&P 500 Returns': '{:,.2%}'.format,\n",
    "})"
   ]
  },
  {
   "cell_type": "markdown",
   "metadata": {},
   "source": [
    "### Regress on the portfolio returns against the Google Searches of relevant keywords"
   ]
  },
  {
   "cell_type": "code",
   "execution_count": 46,
   "metadata": {},
   "outputs": [],
   "source": [
    "from pytrends.request import TrendReq\n",
    "pytrends = TrendReq(hl='en-US', tz=360)\n",
    "kw_list = ['Boeing','Software','Healthcare']"
   ]
  },
  {
   "cell_type": "code",
   "execution_count": 47,
   "metadata": {},
   "outputs": [
    {
     "data": {
      "text/html": [
       "<div>\n",
       "<style scoped>\n",
       "    .dataframe tbody tr th:only-of-type {\n",
       "        vertical-align: middle;\n",
       "    }\n",
       "\n",
       "    .dataframe tbody tr th {\n",
       "        vertical-align: top;\n",
       "    }\n",
       "\n",
       "    .dataframe thead th {\n",
       "        text-align: right;\n",
       "    }\n",
       "</style>\n",
       "<table border=\"1\" class=\"dataframe\">\n",
       "  <thead>\n",
       "    <tr style=\"text-align: right;\">\n",
       "      <th></th>\n",
       "      <th>Boeing</th>\n",
       "      <th>Software</th>\n",
       "      <th>Healthcare</th>\n",
       "      <th>isPartial</th>\n",
       "    </tr>\n",
       "    <tr>\n",
       "      <th>date</th>\n",
       "      <th></th>\n",
       "      <th></th>\n",
       "      <th></th>\n",
       "      <th></th>\n",
       "    </tr>\n",
       "  </thead>\n",
       "  <tbody>\n",
       "    <tr>\n",
       "      <th>2019-03-17</th>\n",
       "      <td>22</td>\n",
       "      <td>58</td>\n",
       "      <td>17</td>\n",
       "      <td>False</td>\n",
       "    </tr>\n",
       "    <tr>\n",
       "      <th>2019-03-24</th>\n",
       "      <td>15</td>\n",
       "      <td>58</td>\n",
       "      <td>18</td>\n",
       "      <td>False</td>\n",
       "    </tr>\n",
       "    <tr>\n",
       "      <th>2019-03-31</th>\n",
       "      <td>13</td>\n",
       "      <td>59</td>\n",
       "      <td>18</td>\n",
       "      <td>False</td>\n",
       "    </tr>\n",
       "    <tr>\n",
       "      <th>2019-04-07</th>\n",
       "      <td>11</td>\n",
       "      <td>61</td>\n",
       "      <td>17</td>\n",
       "      <td>False</td>\n",
       "    </tr>\n",
       "    <tr>\n",
       "      <th>2019-04-14</th>\n",
       "      <td>9</td>\n",
       "      <td>52</td>\n",
       "      <td>16</td>\n",
       "      <td>False</td>\n",
       "    </tr>\n",
       "  </tbody>\n",
       "</table>\n",
       "</div>"
      ],
      "text/plain": [
       "            Boeing  Software  Healthcare  isPartial\n",
       "date                                               \n",
       "2019-03-17      22        58          17      False\n",
       "2019-03-24      15        58          18      False\n",
       "2019-03-31      13        59          18      False\n",
       "2019-04-07      11        61          17      False\n",
       "2019-04-14       9        52          16      False"
      ]
     },
     "execution_count": 47,
     "metadata": {},
     "output_type": "execute_result"
    }
   ],
   "source": [
    "pytrends.build_payload(kw_list, cat=0, timeframe='today 5-y', geo='', gprop='')\n",
    "\n",
    "kw_searches = pytrends.interest_over_time()\n",
    "kw_searches = kw_searches.iloc[1:]\n",
    "kw_searches.tail()"
   ]
  },
  {
   "cell_type": "code",
   "execution_count": 48,
   "metadata": {},
   "outputs": [],
   "source": [
    "top_prices_weekly = sec_data[['BA','MSFT','UNH']].resample('W').mean()\n",
    "# Unselect the NaN values\n",
    "top_prices_weekly = top_prices_weekly.iloc[1:-2]\n",
    "top_prices_weekly['Searches'] = kw_searches['Boeing'] + kw_searches['Software'] + kw_searches['Healthcare']\n",
    "top_prices_weekly['Total'] = top_prices_weekly['BA']+top_prices_weekly['MSFT']+top_prices_weekly['UNH']"
   ]
  },
  {
   "cell_type": "code",
   "execution_count": 49,
   "metadata": {},
   "outputs": [
    {
     "data": {
      "image/png": "[encoded data removed]",
      "text/plain": [
       "<Figure size 720x576 with 1 Axes>"
      ]
     },
     "metadata": {
      "needs_background": "light"
     },
     "output_type": "display_data"
    }
   ],
   "source": [
    "X1 = top_prices_weekly['Searches']\n",
    "Y1 = top_prices_weekly['Total']\n",
    "plt.xlabel('Total Google Searches')\n",
    "plt.ylabel('Total Stock Prices of All Stocks in My Portfolio')\n",
    "plt.title('Relationship Between Google Searches and Stock Prices')\n",
    "plt.scatter(X1,Y1);\n",
    "\n",
    "#Draw the trend line\n",
    "z = np.polyfit(X1,Y1,1)\n",
    "p = np.poly1d(z)\n",
    "plt.plot(X1,p(X1),\"r\")\n",
    "plt.show();"
   ]
  },
  {
   "cell_type": "code",
   "execution_count": 50,
   "metadata": {},
   "outputs": [],
   "source": [
    "#Apply statsmodel to run regression and conclude detailed stats\n",
    "x_hat = sm.add_constant(X1)\n",
    "reg = sm.OLS(Y1, x_hat).fit()"
   ]
  },
  {
   "cell_type": "code",
   "execution_count": 51,
   "metadata": {},
   "outputs": [
    {
     "data": {
      "text/html": [
       "<table class=\"simpletable\">\n",
       "<caption>OLS Regression Results</caption>\n",
       "<tr>\n",
       "  <th>Dep. Variable:</th>          <td>Total</td>      <th>  R-squared:         </th> <td>   0.438</td>\n",
       "</tr>\n",
       "<tr>\n",
       "  <th>Model:</th>                   <td>OLS</td>       <th>  Adj. R-squared:    </th> <td>   0.436</td>\n",
       "</tr>\n",
       "<tr>\n",
       "  <th>Method:</th>             <td>Least Squares</td>  <th>  F-statistic:       </th> <td>   200.6</td>\n",
       "</tr>\n",
       "<tr>\n",
       "  <th>Date:</th>             <td>Tue, 23 Apr 2019</td> <th>  Prob (F-statistic):</th> <td>4.78e-34</td>\n",
       "</tr>\n",
       "<tr>\n",
       "  <th>Time:</th>                 <td>21:00:57</td>     <th>  Log-Likelihood:    </th> <td> -1640.8</td>\n",
       "</tr>\n",
       "<tr>\n",
       "  <th>No. Observations:</th>      <td>   259</td>      <th>  AIC:               </th> <td>   3286.</td>\n",
       "</tr>\n",
       "<tr>\n",
       "  <th>Df Residuals:</th>          <td>   257</td>      <th>  BIC:               </th> <td>   3293.</td>\n",
       "</tr>\n",
       "<tr>\n",
       "  <th>Df Model:</th>              <td>     1</td>      <th>                     </th>     <td> </td>   \n",
       "</tr>\n",
       "<tr>\n",
       "  <th>Covariance Type:</th>      <td>nonrobust</td>    <th>                     </th>     <td> </td>   \n",
       "</tr>\n",
       "</table>\n",
       "<table class=\"simpletable\">\n",
       "<tr>\n",
       "      <td></td>        <th>coef</th>     <th>std err</th>      <th>t</th>      <th>P>|t|</th>  <th>[0.025</th>    <th>0.975]</th>  \n",
       "</tr>\n",
       "<tr>\n",
       "  <th>const</th>    <td> 1315.0483</td> <td>   63.536</td> <td>   20.698</td> <td> 0.000</td> <td> 1189.932</td> <td> 1440.165</td>\n",
       "</tr>\n",
       "<tr>\n",
       "  <th>Searches</th> <td>   -9.3732</td> <td>    0.662</td> <td>  -14.163</td> <td> 0.000</td> <td>  -10.676</td> <td>   -8.070</td>\n",
       "</tr>\n",
       "</table>\n",
       "<table class=\"simpletable\">\n",
       "<tr>\n",
       "  <th>Omnibus:</th>       <td>90.382</td> <th>  Durbin-Watson:     </th> <td>   0.240</td>\n",
       "</tr>\n",
       "<tr>\n",
       "  <th>Prob(Omnibus):</th> <td> 0.000</td> <th>  Jarque-Bera (JB):  </th> <td> 440.616</td>\n",
       "</tr>\n",
       "<tr>\n",
       "  <th>Skew:</th>          <td> 1.328</td> <th>  Prob(JB):          </th> <td>2.10e-96</td>\n",
       "</tr>\n",
       "<tr>\n",
       "  <th>Kurtosis:</th>      <td> 8.811</td> <th>  Cond. No.          </th> <td>    717.</td>\n",
       "</tr>\n",
       "</table><br/><br/>Warnings:<br/>[1] Standard Errors assume that the covariance matrix of the errors is correctly specified."
      ],
      "text/plain": [
       "<class 'statsmodels.iolib.summary.Summary'>\n",
       "\"\"\"\n",
       "                            OLS Regression Results                            \n",
       "==============================================================================\n",
       "Dep. Variable:                  Total   R-squared:                       0.438\n",
       "Model:                            OLS   Adj. R-squared:                  0.436\n",
       "Method:                 Least Squares   F-statistic:                     200.6\n",
       "Date:                Tue, 23 Apr 2019   Prob (F-statistic):           4.78e-34\n",
       "Time:                        21:00:57   Log-Likelihood:                -1640.8\n",
       "No. Observations:                 259   AIC:                             3286.\n",
       "Df Residuals:                     257   BIC:                             3293.\n",
       "Df Model:                           1                                         \n",
       "Covariance Type:            nonrobust                                         \n",
       "==============================================================================\n",
       "                 coef    std err          t      P>|t|      [0.025      0.975]\n",
       "------------------------------------------------------------------------------\n",
       "const       1315.0483     63.536     20.698      0.000    1189.932    1440.165\n",
       "Searches      -9.3732      0.662    -14.163      0.000     -10.676      -8.070\n",
       "==============================================================================\n",
       "Omnibus:                       90.382   Durbin-Watson:                   0.240\n",
       "Prob(Omnibus):                  0.000   Jarque-Bera (JB):              440.616\n",
       "Skew:                           1.328   Prob(JB):                     2.10e-96\n",
       "Kurtosis:                       8.811   Cond. No.                         717.\n",
       "==============================================================================\n",
       "\n",
       "Warnings:\n",
       "[1] Standard Errors assume that the covariance matrix of the errors is correctly specified.\n",
       "\"\"\""
      ]
     },
     "execution_count": 51,
     "metadata": {},
     "output_type": "execute_result"
    }
   ],
   "source": [
    "reg.summary()"
   ]
  },
  {
   "cell_type": "code",
   "execution_count": 52,
   "metadata": {},
   "outputs": [],
   "source": [
    "# Append My Portfolio statistics to the original dataframe 'df'\n",
    "df.loc['My Portfolio'] = ['Minimum Variance Portfolio','Technology and Engineering',top_returns['Total'].mean()*250,top_returns['Total'].std()*250**0.5,'Unkown','Unkown','Unkown',top_returns['Total'].min(),top_returns['Total'].max()]"
   ]
  },
  {
   "cell_type": "markdown",
   "metadata": {},
   "source": [
    "### Pick stocks with over 20% returns over past 10 years and compare with my minimum variance portfolio"
   ]
  },
  {
   "cell_type": "code",
   "execution_count": 53,
   "metadata": {},
   "outputs": [
    {
     "data": {
      "application/vnd.plotly.v1+json": {
       "config": {
        "linkText": "Export to plot.ly",
        "plotlyServerURL": "https://plot.ly",
        "showLink": false
       },
       "data": [
        {
         "marker": {
          "color": "rgb(49,130,189)"
         },
         "name": "Realized Return",
         "text": [
          "Microsoft",
          "Minimum Variance Portfolio",
          "UnitedHealth Group",
          "Visa",
          "Boeing",
          "Apple",
          "The Home Depot",
          "Cisco Systems",
          "Nike",
          "Intel",
          "JPMorgan Chase",
          "McDonald's",
          "3M",
          "Walt Disney",
          "Travelers",
          "Caterpillar",
          "Johnson & Johnson",
          "Pfizer",
          "Merck & Company",
          "Verizon",
          "Procter & Gamble",
          "Walmart",
          "American Express",
          "Coca-Cola",
          "Goldman Sachs",
          "United Technologies",
          "Chevron",
          "Dow Inc.",
          "ExxonMobil",
          "IBM",
          "Walgreens Boots Alliance"
         ],
         "type": "bar",
         "uid": "6847acb0-87b7-4ec1-8e94-ad8f062e2b0d",
         "x": [
          "MSFT",
          "My Portfolio",
          "UNH",
          "V",
          "BA",
          "AAPL",
          "HD",
          "CSCO"
         ],
         "y": [
          0.25192968203589794,
          0.24146719194860558,
          0.23788860544824733,
          0.23664096162269724,
          0.2359596079990644,
          0.22674926549160157,
          0.2134201174527604,
          0.2065256623236044,
          0.18792429163084848,
          0.1848466951933882,
          0.16769087408250327,
          0.1655424592632697,
          0.11730845772320603,
          0.11683915764138286,
          0.11188900663307293,
          0.0965738384493871,
          0.09337027224646582,
          0.08376440244287589,
          0.08235624326471658,
          0.08235093864261679,
          0.08151801747726378,
          0.08086122205540897,
          0.06862747289446466,
          0.0657229425630613,
          0.06146161781317589,
          0.054631048655061534,
          0.03562858424733146,
          0.010561520098619843,
          -0.0016691644296000405,
          -0.022288055967652747,
          -0.027148481678532416
         ]
        },
        {
         "marker": {
          "color": "rgb(204,204,204)"
         },
         "name": "Volatility",
         "text": [
          "Microsoft",
          "Minimum Variance Portfolio",
          "UnitedHealth Group",
          "Visa",
          "Boeing",
          "Apple",
          "The Home Depot",
          "Cisco Systems",
          "Nike",
          "Intel",
          "JPMorgan Chase",
          "McDonald's",
          "3M",
          "Walt Disney",
          "Travelers",
          "Caterpillar",
          "Johnson & Johnson",
          "Pfizer",
          "Merck & Company",
          "Verizon",
          "Procter & Gamble",
          "Walmart",
          "American Express",
          "Coca-Cola",
          "Goldman Sachs",
          "United Technologies",
          "Chevron",
          "Dow Inc.",
          "ExxonMobil",
          "IBM",
          "Walgreens Boots Alliance"
         ],
         "type": "bar",
         "uid": "ac72644f-b5b1-443f-b52c-8dc65ab5e032",
         "x": [
          "MSFT",
          "My Portfolio",
          "UNH",
          "V",
          "BA",
          "AAPL",
          "HD",
          "CSCO"
         ],
         "y": [
          0.2294972454874145,
          0.176926959566287,
          0.20994454077943486,
          0.2057289639623819,
          0.23859559729787047,
          0.24399090195306183,
          0.185570012441094,
          0.2098753928253891,
          0.23354346504855247,
          0.25034616224073086,
          0.20726350498052132,
          0.16412489031571517,
          0.17589532552634615,
          0.1906807131508034,
          0.1633147513684816,
          0.26149687997098037,
          0.15855089636329966,
          0.1747767149877116,
          0.1934966739688471,
          0.16810926999466208,
          0.14793132337452272,
          0.19392269691765765,
          0.20411869762698512,
          0.14093773891683337,
          0.23123628245272293,
          0.1815827032551881,
          0.220387507601827,
          0.06740605274084173,
          0.18694292543869323,
          0.20198231456554833,
          0.2561547223933337
         ]
        }
       ],
       "layout": {
        "shapes": [
         {
          "line": {
           "color": "red",
           "dash": "solid",
           "width": 1
          },
          "type": "line",
          "x0": 0,
          "x1": 1,
          "xref": "paper",
          "y0": 0.0797,
          "y1": 0.0797
         }
        ],
        "title": {
         "text": "Comparsion on Realized Returns vs. Volatilities with My Minimum Variance Portfolio ",
         "x": 0,
         "xref": "paper"
        },
        "xaxis": {
         "tickangle": 45,
         "title": {
          "font": {
           "color": "#7f7f7f",
           "family": "Courier New, monospace",
           "size": 18
          },
          "text": "Company Tickers"
         }
        },
        "yaxis": {
         "tickformat": "%",
         "title": {
          "font": {
           "color": "#7f7f7f",
           "family": "Courier New, monospace",
           "size": 18
          },
          "text": "Stock Returns"
         }
        }
       }
      },
      "text/html": [
       "<div id=\"86938ce3-61fd-4315-89fc-3e982b004640\" style=\"height: 525px; width: 100%;\" class=\"plotly-graph-div\"></div><script type=\"text/javascript\">require([\"plotly\"], function(Plotly) { window.PLOTLYENV=window.PLOTLYENV || {};window.PLOTLYENV.BASE_URL=\"https://plot.ly\";\n",
       "if (document.getElementById(\"86938ce3-61fd-4315-89fc-3e982b004640\")) {\n",
       "    Plotly.newPlot(\"86938ce3-61fd-4315-89fc-3e982b004640\", [{\"marker\": {\"color\": \"rgb(49,130,189)\"}, \"name\": \"Realized Return\", \"text\": [\"Microsoft\", \"Minimum Variance Portfolio\", \"UnitedHealth Group\", \"Visa\", \"Boeing\", \"Apple\", \"The Home Depot\", \"Cisco Systems\", \"Nike\", \"Intel\", \"JPMorgan Chase\", \"McDonald's\", \"3M\", \"Walt Disney\", \"Travelers\", \"Caterpillar\", \"Johnson & Johnson\", \"Pfizer\", \"Merck & Company\", \"Verizon\", \"Procter & Gamble\", \"Walmart\", \"American Express\", \"Coca-Cola\", \"Goldman Sachs\", \"United Technologies\", \"Chevron\", \"Dow Inc.\", \"ExxonMobil\", \"IBM\", \"Walgreens Boots Alliance\"], \"x\": [\"MSFT\", \"My Portfolio\", \"UNH\", \"V\", \"BA\", \"AAPL\", \"HD\", \"CSCO\"], \"y\": [0.25192968203589794, 0.24146719194860558, 0.23788860544824733, 0.23664096162269724, 0.2359596079990644, 0.22674926549160157, 0.2134201174527604, 0.2065256623236044, 0.18792429163084848, 0.1848466951933882, 0.16769087408250327, 0.1655424592632697, 0.11730845772320603, 0.11683915764138286, 0.11188900663307293, 0.0965738384493871, 0.09337027224646582, 0.08376440244287589, 0.08235624326471658, 0.08235093864261679, 0.08151801747726378, 0.08086122205540897, 0.06862747289446466, 0.0657229425630613, 0.06146161781317589, 0.054631048655061534, 0.03562858424733146, 0.010561520098619843, -0.0016691644296000405, -0.022288055967652747, -0.027148481678532416], \"type\": \"bar\", \"uid\": \"6847acb0-87b7-4ec1-8e94-ad8f062e2b0d\"}, {\"marker\": {\"color\": \"rgb(204,204,204)\"}, \"name\": \"Volatility\", \"text\": [\"Microsoft\", \"Minimum Variance Portfolio\", \"UnitedHealth Group\", \"Visa\", \"Boeing\", \"Apple\", \"The Home Depot\", \"Cisco Systems\", \"Nike\", \"Intel\", \"JPMorgan Chase\", \"McDonald's\", \"3M\", \"Walt Disney\", \"Travelers\", \"Caterpillar\", \"Johnson & Johnson\", \"Pfizer\", \"Merck & Company\", \"Verizon\", \"Procter & Gamble\", \"Walmart\", \"American Express\", \"Coca-Cola\", \"Goldman Sachs\", \"United Technologies\", \"Chevron\", \"Dow Inc.\", \"ExxonMobil\", \"IBM\", \"Walgreens Boots Alliance\"], \"x\": [\"MSFT\", \"My Portfolio\", \"UNH\", \"V\", \"BA\", \"AAPL\", \"HD\", \"CSCO\"], \"y\": [0.2294972454874145, 0.176926959566287, 0.20994454077943486, 0.2057289639623819, 0.23859559729787047, 0.24399090195306183, 0.185570012441094, 0.2098753928253891, 0.23354346504855247, 0.25034616224073086, 0.20726350498052132, 0.16412489031571517, 0.17589532552634615, 0.1906807131508034, 0.1633147513684816, 0.26149687997098037, 0.15855089636329966, 0.1747767149877116, 0.1934966739688471, 0.16810926999466208, 0.14793132337452272, 0.19392269691765765, 0.20411869762698512, 0.14093773891683337, 0.23123628245272293, 0.1815827032551881, 0.220387507601827, 0.06740605274084173, 0.18694292543869323, 0.20198231456554833, 0.2561547223933337], \"type\": \"bar\", \"uid\": \"ac72644f-b5b1-443f-b52c-8dc65ab5e032\"}], {\"shapes\": [{\"line\": {\"color\": \"red\", \"dash\": \"solid\", \"width\": 1}, \"type\": \"line\", \"x0\": 0, \"x1\": 1, \"xref\": \"paper\", \"y0\": 0.0797, \"y1\": 0.0797}], \"title\": {\"text\": \"Comparsion on Realized Returns vs. Volatilities with My Minimum Variance Portfolio \", \"x\": 0, \"xref\": \"paper\"}, \"xaxis\": {\"tickangle\": 45, \"title\": {\"font\": {\"color\": \"#7f7f7f\", \"family\": \"Courier New, monospace\", \"size\": 18}, \"text\": \"Company Tickers\"}}, \"yaxis\": {\"tickformat\": \"%\", \"title\": {\"font\": {\"color\": \"#7f7f7f\", \"family\": \"Courier New, monospace\", \"size\": 18}, \"text\": \"Stock Returns\"}}}, {\"showLink\": false, \"linkText\": \"Export to plot.ly\", \"plotlyServerURL\": \"https://plot.ly\"}); \n",
       "}\n",
       "});</script><script type=\"text/javascript\">window.addEventListener(\"resize\", function(){if (document.getElementById(\"86938ce3-61fd-4315-89fc-3e982b004640\")) {window._Plotly.Plots.resize(document.getElementById(\"86938ce3-61fd-4315-89fc-3e982b004640\"));};})</script>"
      ],
      "text/vnd.plotly.v1+html": [
       "<div id=\"86938ce3-61fd-4315-89fc-3e982b004640\" style=\"height: 525px; width: 100%;\" class=\"plotly-graph-div\"></div><script type=\"text/javascript\">require([\"plotly\"], function(Plotly) { window.PLOTLYENV=window.PLOTLYENV || {};window.PLOTLYENV.BASE_URL=\"https://plot.ly\";\n",
       "if (document.getElementById(\"86938ce3-61fd-4315-89fc-3e982b004640\")) {\n",
       "    Plotly.newPlot(\"86938ce3-61fd-4315-89fc-3e982b004640\", [{\"marker\": {\"color\": \"rgb(49,130,189)\"}, \"name\": \"Realized Return\", \"text\": [\"Microsoft\", \"Minimum Variance Portfolio\", \"UnitedHealth Group\", \"Visa\", \"Boeing\", \"Apple\", \"The Home Depot\", \"Cisco Systems\", \"Nike\", \"Intel\", \"JPMorgan Chase\", \"McDonald's\", \"3M\", \"Walt Disney\", \"Travelers\", \"Caterpillar\", \"Johnson & Johnson\", \"Pfizer\", \"Merck & Company\", \"Verizon\", \"Procter & Gamble\", \"Walmart\", \"American Express\", \"Coca-Cola\", \"Goldman Sachs\", \"United Technologies\", \"Chevron\", \"Dow Inc.\", \"ExxonMobil\", \"IBM\", \"Walgreens Boots Alliance\"], \"x\": [\"MSFT\", \"My Portfolio\", \"UNH\", \"V\", \"BA\", \"AAPL\", \"HD\", \"CSCO\"], \"y\": [0.25192968203589794, 0.24146719194860558, 0.23788860544824733, 0.23664096162269724, 0.2359596079990644, 0.22674926549160157, 0.2134201174527604, 0.2065256623236044, 0.18792429163084848, 0.1848466951933882, 0.16769087408250327, 0.1655424592632697, 0.11730845772320603, 0.11683915764138286, 0.11188900663307293, 0.0965738384493871, 0.09337027224646582, 0.08376440244287589, 0.08235624326471658, 0.08235093864261679, 0.08151801747726378, 0.08086122205540897, 0.06862747289446466, 0.0657229425630613, 0.06146161781317589, 0.054631048655061534, 0.03562858424733146, 0.010561520098619843, -0.0016691644296000405, -0.022288055967652747, -0.027148481678532416], \"type\": \"bar\", \"uid\": \"6847acb0-87b7-4ec1-8e94-ad8f062e2b0d\"}, {\"marker\": {\"color\": \"rgb(204,204,204)\"}, \"name\": \"Volatility\", \"text\": [\"Microsoft\", \"Minimum Variance Portfolio\", \"UnitedHealth Group\", \"Visa\", \"Boeing\", \"Apple\", \"The Home Depot\", \"Cisco Systems\", \"Nike\", \"Intel\", \"JPMorgan Chase\", \"McDonald's\", \"3M\", \"Walt Disney\", \"Travelers\", \"Caterpillar\", \"Johnson & Johnson\", \"Pfizer\", \"Merck & Company\", \"Verizon\", \"Procter & Gamble\", \"Walmart\", \"American Express\", \"Coca-Cola\", \"Goldman Sachs\", \"United Technologies\", \"Chevron\", \"Dow Inc.\", \"ExxonMobil\", \"IBM\", \"Walgreens Boots Alliance\"], \"x\": [\"MSFT\", \"My Portfolio\", \"UNH\", \"V\", \"BA\", \"AAPL\", \"HD\", \"CSCO\"], \"y\": [0.2294972454874145, 0.176926959566287, 0.20994454077943486, 0.2057289639623819, 0.23859559729787047, 0.24399090195306183, 0.185570012441094, 0.2098753928253891, 0.23354346504855247, 0.25034616224073086, 0.20726350498052132, 0.16412489031571517, 0.17589532552634615, 0.1906807131508034, 0.1633147513684816, 0.26149687997098037, 0.15855089636329966, 0.1747767149877116, 0.1934966739688471, 0.16810926999466208, 0.14793132337452272, 0.19392269691765765, 0.20411869762698512, 0.14093773891683337, 0.23123628245272293, 0.1815827032551881, 0.220387507601827, 0.06740605274084173, 0.18694292543869323, 0.20198231456554833, 0.2561547223933337], \"type\": \"bar\", \"uid\": \"ac72644f-b5b1-443f-b52c-8dc65ab5e032\"}], {\"shapes\": [{\"line\": {\"color\": \"red\", \"dash\": \"solid\", \"width\": 1}, \"type\": \"line\", \"x0\": 0, \"x1\": 1, \"xref\": \"paper\", \"y0\": 0.0797, \"y1\": 0.0797}], \"title\": {\"text\": \"Comparsion on Realized Returns vs. Volatilities with My Minimum Variance Portfolio \", \"x\": 0, \"xref\": \"paper\"}, \"xaxis\": {\"tickangle\": 45, \"title\": {\"font\": {\"color\": \"#7f7f7f\", \"family\": \"Courier New, monospace\", \"size\": 18}, \"text\": \"Company Tickers\"}}, \"yaxis\": {\"tickformat\": \"%\", \"title\": {\"font\": {\"color\": \"#7f7f7f\", \"family\": \"Courier New, monospace\", \"size\": 18}, \"text\": \"Stock Returns\"}}}, {\"showLink\": false, \"linkText\": \"Export to plot.ly\", \"plotlyServerURL\": \"https://plot.ly\"}); \n",
       "}\n",
       "});</script><script type=\"text/javascript\">window.addEventListener(\"resize\", function(){if (document.getElementById(\"86938ce3-61fd-4315-89fc-3e982b004640\")) {window._Plotly.Plots.resize(document.getElementById(\"86938ce3-61fd-4315-89fc-3e982b004640\"));};})</script>"
      ]
     },
     "metadata": {},
     "output_type": "display_data"
    }
   ],
   "source": [
    "df = df.sort_values('Realized_Return',ascending = False)\n",
    "\n",
    "trace0 = go.Bar(\n",
    "    x = df[df['Realized_Return']>0.2].index,\n",
    "    y = df['Realized_Return'],\n",
    "    name = 'Realized Return',\n",
    "    text = df['Company'],\n",
    "    marker = dict(\n",
    "        color='rgb(49,130,189)',\n",
    "    )\n",
    ")\n",
    "\n",
    "trace1 = go.Bar(\n",
    "    x = df[df['Realized_Return']>0.2].index,\n",
    "    y = df['Volatility'],\n",
    "    name = 'Volatility',\n",
    "    text = df['Company'],\n",
    "    marker = dict(\n",
    "        color='rgb(204,204,204)',\n",
    "    )\n",
    ")\n",
    "\n",
    "\n",
    "\n",
    "layout = go.Layout(\n",
    "    title=go.layout.Title(\n",
    "        text='Comparsion on Realized Returns vs. Volatilities with My Minimum Variance Portfolio ',\n",
    "        xref='paper',\n",
    "        x=0\n",
    "    ),\n",
    "    xaxis=go.layout.XAxis(\n",
    "        tickangle=45,\n",
    "        title=go.layout.xaxis.Title(\n",
    "            text='Company Tickers',\n",
    "            font=dict(\n",
    "                family='Courier New, monospace',\n",
    "                size=18,\n",
    "                color='#7f7f7f'\n",
    "            )\n",
    "        )\n",
    "    ),\n",
    "    yaxis=go.layout.YAxis(\n",
    "        tickformat = '%',\n",
    "        title=go.layout.yaxis.Title(\n",
    "            text='Stock Returns',\n",
    "            font=dict(\n",
    "                family='Courier New, monospace',\n",
    "                size=18,\n",
    "                color='#7f7f7f'\n",
    "            )\n",
    "        )\n",
    "    ),\n",
    "    # Plot the red line of the average S&P 500 return\n",
    "    shapes=[\n",
    "            {\n",
    "                'type': 'line',\n",
    "                'xref': 'paper',\n",
    "                'x0': 0,\n",
    "                'y0': 0.0797, # use absolute value or variable here\n",
    "                'x1': 1,\n",
    "                'y1': 0.0797, # ditto\n",
    "                'line': {\n",
    "                    'color': 'red',\n",
    "                    'width': 1,\n",
    "                    'dash': 'solid',\n",
    "                },\n",
    "            },\n",
    "        ],\n",
    "    \n",
    ")\n",
    "\n",
    "data = [trace0,trace1]\n",
    "fig = go.Figure(data=data, layout=layout)\n",
    "py.iplot(fig)"
   ]
  },
  {
   "cell_type": "markdown",
   "metadata": {},
   "source": [
    "## Section VI: Conclusion & Lessons Learned \n",
    "\n",
    "1. From the regression against the S&P 500, less than 70% of the portfolio returns are explained by the S&P 500 returns. The minimum variance portfolio performance is generally aligned with the market but can not be predicted by the market performance. If you pick the stocks in your portfolio wisely and allocate the capital base on the efficient frontier, you should be able to overperform the market.\n",
    "\n",
    "\n",
    "2. Looking at the visualizations about the comparison between realized returns and expected returns, there is much firm-specific risk aside of the market. Unsystematic risk can be diversified by investing in a portfolio of multiple stocks rather than investing in individual stocks and betting on its growth. Comparing the average return of the minimum variance portfolio with the 30 stocks performance, it not only outperformed the market but achieved the lowest volatility when earning more than 20% returns. Moreover, the minimum variance portfolio has overperformed the market by a factor of 1.5.\n",
    "\n",
    "\n",
    "3. By regression against relevant keywords such as \"Boeing\", \"Software\", and \"Healthcare\", I am able to analyze the relationship between Google searches and total stock prices of the minimum variance portfolio. Although the adjusted R squared is around 40%, which means the correlation is not high, I could conclude in some cases when people are frequently searching industry or company related keywords on Google, it signals the potential negative returns or downward trends of the stock prices of your portfolio. In this case, 40% of stock prices of the minimum variance portfolio can be explained by the Google searches.\n"
   ]
  },
  {
   "cell_type": "markdown",
   "metadata": {},
   "source": [
    "### Have questions? Interested to learn more?\n",
    "Contact me at: conghao@iu.edu"
   ]
  }
 ],
 "metadata": {
  "kernelspec": {
   "display_name": "Python 3",
   "language": "python",
   "name": "python3"
  },
  "language_info": {
   "codemirror_mode": {
    "name": "ipython",
    "version": 3
   },
   "file_extension": ".py",
   "mimetype": "text/x-python",
   "name": "python",
   "nbconvert_exporter": "python",
   "pygments_lexer": "ipython3",
   "version": "3.7.1"
  }
 },
 "nbformat": 4,
 "nbformat_minor": 2
}
