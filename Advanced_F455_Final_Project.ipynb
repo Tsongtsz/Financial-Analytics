{
 "cells": [
  {
   "cell_type": "markdown",
   "metadata": {},
   "source": [
    "# Assignment 3: Analyze Dow Jones 30 Stocks Expected Returns and Obtain the Efficent Frontier\n",
    "Group 12: Congci Hao\n",
    "\n",
    "<b> Objectives: </b>\n",
    "1. Analyze the expected returns of 30 companies in the Dow Jones list by applying Capital Asset Pricing Model (CAPM)\n",
    "2. Compare the expected returns and realized returns in the stock market over the past 5 years\n",
    "3. Interpret and visualize the difference based on the time-series visualizations and numerical calculations\n",
    "4. Construct and visualize the efficient frontier of the portfolio of top 3 performers from the Dow Jones list\n",
    "5. Perform regression analysis on the minimum variance portfolio against the S&P 500 index\n",
    "6. Conclude insights from the previous analysis"
   ]
  },
  {
   "cell_type": "markdown",
   "metadata": {},
   "source": [
    "## Section I: Analyze the Expected Return \n",
    "### Retrieve the list of Dow Jones 30 companies"
   ]
  },
  {
   "cell_type": "code",
   "execution_count": 1,
   "metadata": {},
   "outputs": [],
   "source": [
    "import warnings\n",
    "warnings.filterwarnings(\"ignore\")\n",
    "\n",
    "import pandas as pd\n",
    "import numpy as np\n",
    "from pandas_datareader import data as wb\n",
    "\n",
    "from scipy import stats\n",
    "import statsmodels.api as sm \n",
    "\n",
    "from datetime import datetime\n",
    "\n",
    "import matplotlib.pyplot as plt\n",
    "%matplotlib inline"
   ]
  },
  {
   "cell_type": "code",
   "execution_count": 2,
   "metadata": {},
   "outputs": [],
   "source": [
    "#Set the maximum number of outputs \n",
    "pd.options.display.max_rows = 20"
   ]
  },
  {
   "cell_type": "code",
   "execution_count": 3,
   "metadata": {},
   "outputs": [
    {
     "name": "stdout",
     "output_type": "stream",
     "text": [
      "[('3M', 'MMM', 'Conglomerate'), ('American Express', 'AXP', 'Financial services'), ('Apple', 'AAPL', 'Information technologies'), ('Boeing', 'BA', 'Aerospace and defense'), ('Caterpillar', 'CAT', 'Construction and mining equipment'), ('Chevron', 'CVX', 'Oil & gas'), ('Cisco Systems', 'CSCO', 'Information technologies'), ('Coca-Cola', 'KO', 'Food'), ('Dow Inc.', 'DOW', 'Chemical industry'), ('ExxonMobil', 'XOM', 'Oil & gas'), ('Goldman Sachs', 'GS', 'Financial services'), ('The Home Depot', 'HD', 'Retail'), ('IBM', 'IBM', 'Information technologies'), ('Intel', 'INTC', 'Information technologies'), ('Johnson & Johnson', 'JNJ', 'Pharmaceuticals'), ('JPMorgan Chase', 'JPM', 'Financial services'), (\"McDonald's\", 'MCD', 'Food'), ('Merck & Company', 'MRK', 'Pharmaceuticals'), ('Microsoft', 'MSFT', 'Information technologies'), ('Nike', 'NKE', 'Apparel'), ('Pfizer', 'PFE', 'Pharmaceuticals'), ('Procter & Gamble', 'PG', 'Consumer goods'), ('Travelers', 'TRV', 'Financial services'), ('UnitedHealth Group', 'UNH', 'Managed health care'), ('United Technologies', 'UTX', 'Conglomerate'), ('Verizon', 'VZ', 'Telecommunication'), ('Visa', 'V', 'Financial services'), ('Walmart', 'WMT', 'Retail'), ('Walgreens Boots Alliance', 'WBA', 'Retail'), ('Walt Disney', 'DIS', 'Broadcasting and entertainment')]\n"
     ]
    },
    {
     "data": {
      "text/plain": [
       "30"
      ]
     },
     "execution_count": 3,
     "metadata": {},
     "output_type": "execute_result"
    }
   ],
   "source": [
    "import re, requests\n",
    "from bs4 import BeautifulSoup\n",
    "\n",
    "url = 'https://en.wikipedia.org/wiki/Dow_Jones_Industrial_Average'\n",
    "req = requests.get(url)\n",
    "html = req.text\n",
    "\n",
    "#content = re.findall('<tbody>.+?</tbody>',html,re.DOTALL)\n",
    "soup = BeautifulSoup(html, 'html.parser')\n",
    "\n",
    "records = []\n",
    "tt = ()\n",
    "table = soup.find('table', attrs={'class':\"wikitable sortable\"})\n",
    "entries = table.find_all('tr')\n",
    "for entry in entries:\n",
    "\n",
    "    columns = entry.find_all('td')\n",
    "    \n",
    "    if len (columns)>5 :\n",
    "\n",
    "        name = columns[0].get_text().strip('\\n')\n",
    "        ticker = columns[2].get_text().strip('\\n')\n",
    "        industry = columns[3].get_text().strip('\\n')\n",
    "\n",
    "        tt = (name,ticker,industry)\n",
    "\n",
    "    records.append(tt)\n",
    "#Need to filter an empty list from the source code\n",
    "records = list(filter(None, records))\n",
    "\n",
    "print(records)\n",
    "len(records)"
   ]
  },
  {
   "cell_type": "code",
   "execution_count": 4,
   "metadata": {},
   "outputs": [],
   "source": [
    "# Transform the list of tuples in the varaible records into a pandas dataframe \n",
    "df = pd.DataFrame(records)\n",
    "\n",
    "# Set column names \n",
    "df.columns=['Company','Ticker','Industry']"
   ]
  },
  {
   "cell_type": "markdown",
   "metadata": {},
   "source": [
    "### Construct the dataframe of stock prices for 30 companies in the Dow Jones list and calculate the log returns "
   ]
  },
  {
   "cell_type": "code",
   "execution_count": 5,
   "metadata": {},
   "outputs": [
    {
     "data": {
      "text/html": [
       "<div>\n",
       "<style scoped>\n",
       "    .dataframe tbody tr th:only-of-type {\n",
       "        vertical-align: middle;\n",
       "    }\n",
       "\n",
       "    .dataframe tbody tr th {\n",
       "        vertical-align: top;\n",
       "    }\n",
       "\n",
       "    .dataframe thead th {\n",
       "        text-align: right;\n",
       "    }\n",
       "</style>\n",
       "<table border=\"1\" class=\"dataframe\">\n",
       "  <thead>\n",
       "    <tr style=\"text-align: right;\">\n",
       "      <th></th>\n",
       "      <th>MMM</th>\n",
       "      <th>AXP</th>\n",
       "      <th>AAPL</th>\n",
       "      <th>BA</th>\n",
       "      <th>CAT</th>\n",
       "      <th>CVX</th>\n",
       "      <th>CSCO</th>\n",
       "      <th>KO</th>\n",
       "      <th>DOW</th>\n",
       "      <th>XOM</th>\n",
       "      <th>...</th>\n",
       "      <th>PG</th>\n",
       "      <th>TRV</th>\n",
       "      <th>UNH</th>\n",
       "      <th>UTX</th>\n",
       "      <th>VZ</th>\n",
       "      <th>V</th>\n",
       "      <th>WMT</th>\n",
       "      <th>WBA</th>\n",
       "      <th>DIS</th>\n",
       "      <th>^GSPC</th>\n",
       "    </tr>\n",
       "    <tr>\n",
       "      <th>Date</th>\n",
       "      <th></th>\n",
       "      <th></th>\n",
       "      <th></th>\n",
       "      <th></th>\n",
       "      <th></th>\n",
       "      <th></th>\n",
       "      <th></th>\n",
       "      <th></th>\n",
       "      <th></th>\n",
       "      <th></th>\n",
       "      <th></th>\n",
       "      <th></th>\n",
       "      <th></th>\n",
       "      <th></th>\n",
       "      <th></th>\n",
       "      <th></th>\n",
       "      <th></th>\n",
       "      <th></th>\n",
       "      <th></th>\n",
       "      <th></th>\n",
       "      <th></th>\n",
       "    </tr>\n",
       "  </thead>\n",
       "  <tbody>\n",
       "    <tr>\n",
       "      <th>2019-07-30</th>\n",
       "      <td>177.630005</td>\n",
       "      <td>126.470001</td>\n",
       "      <td>208.779999</td>\n",
       "      <td>347.459991</td>\n",
       "      <td>132.949997</td>\n",
       "      <td>124.339996</td>\n",
       "      <td>56.470001</td>\n",
       "      <td>53.720001</td>\n",
       "      <td>48.400002</td>\n",
       "      <td>75.349998</td>\n",
       "      <td>...</td>\n",
       "      <td>120.410004</td>\n",
       "      <td>147.619995</td>\n",
       "      <td>254.929993</td>\n",
       "      <td>135.300003</td>\n",
       "      <td>56.630001</td>\n",
       "      <td>181.529999</td>\n",
       "      <td>112.059998</td>\n",
       "      <td>55.400002</td>\n",
       "      <td>144.929993</td>\n",
       "      <td>3013.179932</td>\n",
       "    </tr>\n",
       "    <tr>\n",
       "      <th>2019-07-31</th>\n",
       "      <td>174.720001</td>\n",
       "      <td>124.370003</td>\n",
       "      <td>213.039993</td>\n",
       "      <td>341.179993</td>\n",
       "      <td>131.669998</td>\n",
       "      <td>123.110001</td>\n",
       "      <td>55.400002</td>\n",
       "      <td>52.630001</td>\n",
       "      <td>48.439999</td>\n",
       "      <td>74.360001</td>\n",
       "      <td>...</td>\n",
       "      <td>118.040001</td>\n",
       "      <td>146.619995</td>\n",
       "      <td>249.009995</td>\n",
       "      <td>133.600006</td>\n",
       "      <td>55.270000</td>\n",
       "      <td>178.000000</td>\n",
       "      <td>110.379997</td>\n",
       "      <td>54.490002</td>\n",
       "      <td>143.009995</td>\n",
       "      <td>2980.379883</td>\n",
       "    </tr>\n",
       "    <tr>\n",
       "      <th>2019-08-01</th>\n",
       "      <td>173.360001</td>\n",
       "      <td>124.089996</td>\n",
       "      <td>208.429993</td>\n",
       "      <td>334.290009</td>\n",
       "      <td>126.790001</td>\n",
       "      <td>120.739998</td>\n",
       "      <td>55.389999</td>\n",
       "      <td>52.029999</td>\n",
       "      <td>46.849998</td>\n",
       "      <td>72.459999</td>\n",
       "      <td>...</td>\n",
       "      <td>116.730003</td>\n",
       "      <td>145.779999</td>\n",
       "      <td>249.250000</td>\n",
       "      <td>131.839996</td>\n",
       "      <td>55.259998</td>\n",
       "      <td>179.169998</td>\n",
       "      <td>109.379997</td>\n",
       "      <td>54.070000</td>\n",
       "      <td>141.850006</td>\n",
       "      <td>2953.560059</td>\n",
       "    </tr>\n",
       "    <tr>\n",
       "      <th>2019-08-02</th>\n",
       "      <td>170.550003</td>\n",
       "      <td>124.309998</td>\n",
       "      <td>204.020004</td>\n",
       "      <td>339.559998</td>\n",
       "      <td>124.540001</td>\n",
       "      <td>120.730003</td>\n",
       "      <td>53.250000</td>\n",
       "      <td>52.330002</td>\n",
       "      <td>45.599998</td>\n",
       "      <td>71.750000</td>\n",
       "      <td>...</td>\n",
       "      <td>116.440002</td>\n",
       "      <td>146.919998</td>\n",
       "      <td>250.050003</td>\n",
       "      <td>130.809998</td>\n",
       "      <td>55.590000</td>\n",
       "      <td>177.419998</td>\n",
       "      <td>109.400002</td>\n",
       "      <td>53.680000</td>\n",
       "      <td>141.710007</td>\n",
       "      <td>2932.050049</td>\n",
       "    </tr>\n",
       "    <tr>\n",
       "      <th>2019-08-05</th>\n",
       "      <td>164.710007</td>\n",
       "      <td>120.720001</td>\n",
       "      <td>193.339996</td>\n",
       "      <td>331.059998</td>\n",
       "      <td>121.650002</td>\n",
       "      <td>118.739998</td>\n",
       "      <td>51.369999</td>\n",
       "      <td>51.650002</td>\n",
       "      <td>44.770000</td>\n",
       "      <td>70.279999</td>\n",
       "      <td>...</td>\n",
       "      <td>113.080002</td>\n",
       "      <td>143.929993</td>\n",
       "      <td>245.059998</td>\n",
       "      <td>125.750000</td>\n",
       "      <td>55.220001</td>\n",
       "      <td>168.860001</td>\n",
       "      <td>105.820000</td>\n",
       "      <td>51.869999</td>\n",
       "      <td>138.300003</td>\n",
       "      <td>2844.739990</td>\n",
       "    </tr>\n",
       "  </tbody>\n",
       "</table>\n",
       "<p>5 rows × 31 columns</p>\n",
       "</div>"
      ],
      "text/plain": [
       "                   MMM         AXP        AAPL          BA         CAT  \\\n",
       "Date                                                                     \n",
       "2019-07-30  177.630005  126.470001  208.779999  347.459991  132.949997   \n",
       "2019-07-31  174.720001  124.370003  213.039993  341.179993  131.669998   \n",
       "2019-08-01  173.360001  124.089996  208.429993  334.290009  126.790001   \n",
       "2019-08-02  170.550003  124.309998  204.020004  339.559998  124.540001   \n",
       "2019-08-05  164.710007  120.720001  193.339996  331.059998  121.650002   \n",
       "\n",
       "                   CVX       CSCO         KO        DOW        XOM  \\\n",
       "Date                                                                 \n",
       "2019-07-30  124.339996  56.470001  53.720001  48.400002  75.349998   \n",
       "2019-07-31  123.110001  55.400002  52.630001  48.439999  74.360001   \n",
       "2019-08-01  120.739998  55.389999  52.029999  46.849998  72.459999   \n",
       "2019-08-02  120.730003  53.250000  52.330002  45.599998  71.750000   \n",
       "2019-08-05  118.739998  51.369999  51.650002  44.770000  70.279999   \n",
       "\n",
       "               ...               PG         TRV         UNH         UTX  \\\n",
       "Date           ...                                                        \n",
       "2019-07-30     ...       120.410004  147.619995  254.929993  135.300003   \n",
       "2019-07-31     ...       118.040001  146.619995  249.009995  133.600006   \n",
       "2019-08-01     ...       116.730003  145.779999  249.250000  131.839996   \n",
       "2019-08-02     ...       116.440002  146.919998  250.050003  130.809998   \n",
       "2019-08-05     ...       113.080002  143.929993  245.059998  125.750000   \n",
       "\n",
       "                   VZ           V         WMT        WBA         DIS  \\\n",
       "Date                                                                   \n",
       "2019-07-30  56.630001  181.529999  112.059998  55.400002  144.929993   \n",
       "2019-07-31  55.270000  178.000000  110.379997  54.490002  143.009995   \n",
       "2019-08-01  55.259998  179.169998  109.379997  54.070000  141.850006   \n",
       "2019-08-02  55.590000  177.419998  109.400002  53.680000  141.710007   \n",
       "2019-08-05  55.220001  168.860001  105.820000  51.869999  138.300003   \n",
       "\n",
       "                  ^GSPC  \n",
       "Date                     \n",
       "2019-07-30  3013.179932  \n",
       "2019-07-31  2980.379883  \n",
       "2019-08-01  2953.560059  \n",
       "2019-08-02  2932.050049  \n",
       "2019-08-05  2844.739990  \n",
       "\n",
       "[5 rows x 31 columns]"
      ]
     },
     "execution_count": 5,
     "metadata": {},
     "output_type": "execute_result"
    }
   ],
   "source": [
    "tickers = list(df['Ticker'])\n",
    "tickers.append('^GSPC')\n",
    "\n",
    "end = datetime.today()\n",
    "start = datetime(end.year-5,end.month,end.day)\n",
    "\n",
    "sec_data = pd.DataFrame()\n",
    "for t in tickers:\n",
    "    sec_data[t] = wb.DataReader(t,data_source='yahoo',start=start,end=end)['Adj Close']\n",
    "\n",
    "sec_data.tail()"
   ]
  },
  {
   "cell_type": "code",
   "execution_count": 6,
   "metadata": {},
   "outputs": [],
   "source": [
    "#Substitute the missing values with the average of that company's stock prices\n",
    "sec_data = sec_data.apply(lambda x: x.fillna(x.mean()),axis=0)"
   ]
  },
  {
   "cell_type": "code",
   "execution_count": 7,
   "metadata": {},
   "outputs": [],
   "source": [
    "# pct_change(obtains simple returns from a given dataset\n",
    "log_returns = np.log(1 + sec_data.pct_change())"
   ]
  },
  {
   "cell_type": "code",
   "execution_count": 8,
   "metadata": {},
   "outputs": [],
   "source": [
    "#Construct the stock returns without SP500 \n",
    "sec_returns = log_returns.iloc[:,:-1]"
   ]
  },
  {
   "cell_type": "markdown",
   "metadata": {},
   "source": [
    "### Calculate annual realized returns, variance, volatility measures, and betas and build new columns into the company list"
   ]
  },
  {
   "cell_type": "code",
   "execution_count": 9,
   "metadata": {},
   "outputs": [],
   "source": [
    "# Calculate the annual return based on the mean and 250 trading days each year\n",
    "# Add to the master data frame\n",
    "df['Realized_Return'] = list(sec_returns.mean()*250)"
   ]
  },
  {
   "cell_type": "code",
   "execution_count": 10,
   "metadata": {},
   "outputs": [],
   "source": [
    "# Calculate the volatility which is the standard deviation \n",
    "# Add to the master data frame\n",
    "df['Volatility'] = list(sec_returns.std()*250**0.5)"
   ]
  },
  {
   "cell_type": "code",
   "execution_count": 11,
   "metadata": {},
   "outputs": [],
   "source": [
    "# Compute the variance and compare the covariance with SP500\n",
    "cov = log_returns.cov()*250"
   ]
  },
  {
   "cell_type": "code",
   "execution_count": 12,
   "metadata": {},
   "outputs": [],
   "source": [
    "# Compute the corrleation and compare with SP500\n",
    "corr = log_returns.corr()"
   ]
  },
  {
   "cell_type": "markdown",
   "metadata": {},
   "source": [
    "<b> Beta Formula: </b>\n",
    "### $$ \n",
    "\\beta_{pg} = \\frac{\\sigma_{pg,m}}{\\sigma_{m}^2}\n",
    "$$"
   ]
  },
  {
   "cell_type": "code",
   "execution_count": 13,
   "metadata": {},
   "outputs": [
    {
     "data": {
      "text/plain": [
       "[0.9719132995483901,\n",
       " 0.9608862395827076,\n",
       " 1.2147063870899775,\n",
       " 1.1546830301823336,\n",
       " 1.322074672644883,\n",
       " 1.0294388078738799,\n",
       " 1.1659406773056007,\n",
       " 0.5126289084434232,\n",
       " 0.07333297184841239,\n",
       " 0.9085957096203934,\n",
       " 1.2741470825960328,\n",
       " 0.9509523097027228,\n",
       " 0.9465876890967895,\n",
       " 1.2240867610853179,\n",
       " 0.7176454343256401,\n",
       " 1.171780454248977,\n",
       " 0.6061135526999711,\n",
       " 0.8065167801520357,\n",
       " 1.3023145341312006,\n",
       " 0.9882092778799154,\n",
       " 0.7940559213714411,\n",
       " 0.5656425598628932,\n",
       " 0.7696623498431502,\n",
       " 0.9423549496354022,\n",
       " 0.9454647946952816,\n",
       " 0.5571272285619077,\n",
       " 1.1529100262374574,\n",
       " 0.6220907052747042,\n",
       " 0.9300595821127391,\n",
       " 0.8539012457848502]"
      ]
     },
     "execution_count": 13,
     "metadata": {},
     "output_type": "execute_result"
    }
   ],
   "source": [
    "# Calculate stock betas basd on the formula above\n",
    "\n",
    "betas=[]\n",
    "for num in range(30):\n",
    "    cov_with_market = cov.iloc[30,num]\n",
    "    market_var = log_returns['^GSPC'].var()*250\n",
    "    beta = cov_with_market / market_var\n",
    "    betas.append(beta)\n",
    "betas"
   ]
  },
  {
   "cell_type": "code",
   "execution_count": 14,
   "metadata": {},
   "outputs": [],
   "source": [
    "df['Beta']=betas"
   ]
  },
  {
   "cell_type": "code",
   "execution_count": 15,
   "metadata": {},
   "outputs": [],
   "source": [
    "# Set the Ticker as the index\n",
    "df = df.set_index('Ticker')"
   ]
  },
  {
   "cell_type": "markdown",
   "metadata": {},
   "source": [
    "**Calculate the expected return (CAPM):**\n",
    "### $$\n",
    "\\overline{r_{s}} = r_f + \\beta_{s}(\\overline{r_{m}} - r_f) \n",
    "$$"
   ]
  },
  {
   "cell_type": "code",
   "execution_count": 16,
   "metadata": {},
   "outputs": [],
   "source": [
    "# We assume that the risk-free rate is 2.5% from government-issued T-bills\n",
    "rf = 0.025\n",
    "# Calculate the Market Preimum by subtracing the risk-free rate from the market return \n",
    "rp = log_returns['^GSPC'].mean()*250 - rf"
   ]
  },
  {
   "cell_type": "code",
   "execution_count": 17,
   "metadata": {},
   "outputs": [],
   "source": [
    "# Calculate the Exptected Return by applying the CAPM forumla above\n",
    "df['Expected_Return'] = df['Beta']*rf +rf"
   ]
  },
  {
   "cell_type": "markdown",
   "metadata": {},
   "source": [
    "## Section II: Compare the Expected Returns with Realized Returns"
   ]
  },
  {
   "cell_type": "code",
   "execution_count": 18,
   "metadata": {},
   "outputs": [
    {
     "data": {
      "text/html": [
       "<div>\n",
       "<style scoped>\n",
       "    .dataframe tbody tr th:only-of-type {\n",
       "        vertical-align: middle;\n",
       "    }\n",
       "\n",
       "    .dataframe tbody tr th {\n",
       "        vertical-align: top;\n",
       "    }\n",
       "\n",
       "    .dataframe thead th {\n",
       "        text-align: right;\n",
       "    }\n",
       "</style>\n",
       "<table border=\"1\" class=\"dataframe\">\n",
       "  <thead>\n",
       "    <tr style=\"text-align: right;\">\n",
       "      <th></th>\n",
       "      <th>Realized_Return</th>\n",
       "      <th>Volatility</th>\n",
       "      <th>Beta</th>\n",
       "      <th>Expected_Return</th>\n",
       "    </tr>\n",
       "  </thead>\n",
       "  <tbody>\n",
       "    <tr>\n",
       "      <th>count</th>\n",
       "      <td>30.000000</td>\n",
       "      <td>30.000000</td>\n",
       "      <td>30.000000</td>\n",
       "      <td>30.000000</td>\n",
       "    </tr>\n",
       "    <tr>\n",
       "      <th>mean</th>\n",
       "      <td>0.106401</td>\n",
       "      <td>0.200553</td>\n",
       "      <td>0.914527</td>\n",
       "      <td>0.047863</td>\n",
       "    </tr>\n",
       "    <tr>\n",
       "      <th>std</th>\n",
       "      <td>0.080996</td>\n",
       "      <td>0.037490</td>\n",
       "      <td>0.281185</td>\n",
       "      <td>0.007030</td>\n",
       "    </tr>\n",
       "    <tr>\n",
       "      <th>min</th>\n",
       "      <td>-0.036545</td>\n",
       "      <td>0.097789</td>\n",
       "      <td>0.073333</td>\n",
       "      <td>0.026833</td>\n",
       "    </tr>\n",
       "    <tr>\n",
       "      <th>25%</th>\n",
       "      <td>0.061055</td>\n",
       "      <td>0.180276</td>\n",
       "      <td>0.775761</td>\n",
       "      <td>0.044394</td>\n",
       "    </tr>\n",
       "    <tr>\n",
       "      <th>50%</th>\n",
       "      <td>0.098049</td>\n",
       "      <td>0.200162</td>\n",
       "      <td>0.946026</td>\n",
       "      <td>0.048651</td>\n",
       "    </tr>\n",
       "    <tr>\n",
       "      <th>75%</th>\n",
       "      <td>0.159758</td>\n",
       "      <td>0.229982</td>\n",
       "      <td>1.154240</td>\n",
       "      <td>0.053856</td>\n",
       "    </tr>\n",
       "    <tr>\n",
       "      <th>max</th>\n",
       "      <td>0.245425</td>\n",
       "      <td>0.265377</td>\n",
       "      <td>1.322075</td>\n",
       "      <td>0.058052</td>\n",
       "    </tr>\n",
       "  </tbody>\n",
       "</table>\n",
       "</div>"
      ],
      "text/plain": [
       "       Realized_Return  Volatility       Beta  Expected_Return\n",
       "count        30.000000   30.000000  30.000000        30.000000\n",
       "mean          0.106401    0.200553   0.914527         0.047863\n",
       "std           0.080996    0.037490   0.281185         0.007030\n",
       "min          -0.036545    0.097789   0.073333         0.026833\n",
       "25%           0.061055    0.180276   0.775761         0.044394\n",
       "50%           0.098049    0.200162   0.946026         0.048651\n",
       "75%           0.159758    0.229982   1.154240         0.053856\n",
       "max           0.245425    0.265377   1.322075         0.058052"
      ]
     },
     "execution_count": 18,
     "metadata": {},
     "output_type": "execute_result"
    }
   ],
   "source": [
    "df.describe()"
   ]
  },
  {
   "cell_type": "code",
   "execution_count": 19,
   "metadata": {
    "scrolled": true
   },
   "outputs": [
    {
     "data": {
      "text/html": [
       "<div>\n",
       "<style scoped>\n",
       "    .dataframe tbody tr th:only-of-type {\n",
       "        vertical-align: middle;\n",
       "    }\n",
       "\n",
       "    .dataframe tbody tr th {\n",
       "        vertical-align: top;\n",
       "    }\n",
       "\n",
       "    .dataframe thead th {\n",
       "        text-align: right;\n",
       "    }\n",
       "</style>\n",
       "<table border=\"1\" class=\"dataframe\">\n",
       "  <thead>\n",
       "    <tr style=\"text-align: right;\">\n",
       "      <th></th>\n",
       "      <th>Company</th>\n",
       "      <th>Industry</th>\n",
       "      <th>Realized_Return</th>\n",
       "      <th>Volatility</th>\n",
       "      <th>Beta</th>\n",
       "      <th>Expected_Return</th>\n",
       "    </tr>\n",
       "    <tr>\n",
       "      <th>Ticker</th>\n",
       "      <th></th>\n",
       "      <th></th>\n",
       "      <th></th>\n",
       "      <th></th>\n",
       "      <th></th>\n",
       "      <th></th>\n",
       "    </tr>\n",
       "  </thead>\n",
       "  <tbody>\n",
       "    <tr>\n",
       "      <th>CAT</th>\n",
       "      <td>Caterpillar</td>\n",
       "      <td>Construction and mining equipment</td>\n",
       "      <td>0.069711</td>\n",
       "      <td>0.265377</td>\n",
       "      <td>1.322075</td>\n",
       "      <td>0.058052</td>\n",
       "    </tr>\n",
       "    <tr>\n",
       "      <th>MSFT</th>\n",
       "      <td>Microsoft</td>\n",
       "      <td>Information technologies</td>\n",
       "      <td>0.245425</td>\n",
       "      <td>0.232590</td>\n",
       "      <td>1.302315</td>\n",
       "      <td>0.057558</td>\n",
       "    </tr>\n",
       "    <tr>\n",
       "      <th>GS</th>\n",
       "      <td>Goldman Sachs</td>\n",
       "      <td>Financial services</td>\n",
       "      <td>0.048459</td>\n",
       "      <td>0.234957</td>\n",
       "      <td>1.274147</td>\n",
       "      <td>0.056854</td>\n",
       "    </tr>\n",
       "    <tr>\n",
       "      <th>INTC</th>\n",
       "      <td>Intel</td>\n",
       "      <td>Information technologies</td>\n",
       "      <td>0.097834</td>\n",
       "      <td>0.254882</td>\n",
       "      <td>1.224087</td>\n",
       "      <td>0.055602</td>\n",
       "    </tr>\n",
       "    <tr>\n",
       "      <th>AAPL</th>\n",
       "      <td>Apple</td>\n",
       "      <td>Information technologies</td>\n",
       "      <td>0.158282</td>\n",
       "      <td>0.246770</td>\n",
       "      <td>1.214706</td>\n",
       "      <td>0.055368</td>\n",
       "    </tr>\n",
       "    <tr>\n",
       "      <th>JPM</th>\n",
       "      <td>JPMorgan Chase</td>\n",
       "      <td>Financial services</td>\n",
       "      <td>0.160250</td>\n",
       "      <td>0.208141</td>\n",
       "      <td>1.171780</td>\n",
       "      <td>0.054295</td>\n",
       "    </tr>\n",
       "    <tr>\n",
       "      <th>CSCO</th>\n",
       "      <td>Cisco Systems</td>\n",
       "      <td>Information technologies</td>\n",
       "      <td>0.174623</td>\n",
       "      <td>0.215651</td>\n",
       "      <td>1.165941</td>\n",
       "      <td>0.054149</td>\n",
       "    </tr>\n",
       "    <tr>\n",
       "      <th>BA</th>\n",
       "      <td>Boeing</td>\n",
       "      <td>Aerospace and defense</td>\n",
       "      <td>0.226515</td>\n",
       "      <td>0.245258</td>\n",
       "      <td>1.154683</td>\n",
       "      <td>0.053867</td>\n",
       "    </tr>\n",
       "    <tr>\n",
       "      <th>V</th>\n",
       "      <td>Visa</td>\n",
       "      <td>Financial services</td>\n",
       "      <td>0.242471</td>\n",
       "      <td>0.206075</td>\n",
       "      <td>1.152910</td>\n",
       "      <td>0.053823</td>\n",
       "    </tr>\n",
       "    <tr>\n",
       "      <th>CVX</th>\n",
       "      <td>Chevron</td>\n",
       "      <td>Oil &amp; gas</td>\n",
       "      <td>0.030040</td>\n",
       "      <td>0.222159</td>\n",
       "      <td>1.029439</td>\n",
       "      <td>0.050736</td>\n",
       "    </tr>\n",
       "    <tr>\n",
       "      <th>...</th>\n",
       "      <td>...</td>\n",
       "      <td>...</td>\n",
       "      <td>...</td>\n",
       "      <td>...</td>\n",
       "      <td>...</td>\n",
       "      <td>...</td>\n",
       "    </tr>\n",
       "    <tr>\n",
       "      <th>MRK</th>\n",
       "      <td>Merck &amp; Company</td>\n",
       "      <td>Pharmaceuticals</td>\n",
       "      <td>0.108825</td>\n",
       "      <td>0.194304</td>\n",
       "      <td>0.806517</td>\n",
       "      <td>0.045163</td>\n",
       "    </tr>\n",
       "    <tr>\n",
       "      <th>PFE</th>\n",
       "      <td>Pfizer</td>\n",
       "      <td>Pharmaceuticals</td>\n",
       "      <td>0.087880</td>\n",
       "      <td>0.177844</td>\n",
       "      <td>0.794056</td>\n",
       "      <td>0.044851</td>\n",
       "    </tr>\n",
       "    <tr>\n",
       "      <th>TRV</th>\n",
       "      <td>Travelers</td>\n",
       "      <td>Financial services</td>\n",
       "      <td>0.117958</td>\n",
       "      <td>0.163918</td>\n",
       "      <td>0.769662</td>\n",
       "      <td>0.044242</td>\n",
       "    </tr>\n",
       "    <tr>\n",
       "      <th>JNJ</th>\n",
       "      <td>Johnson &amp; Johnson</td>\n",
       "      <td>Pharmaceuticals</td>\n",
       "      <td>0.079799</td>\n",
       "      <td>0.161413</td>\n",
       "      <td>0.717645</td>\n",
       "      <td>0.042941</td>\n",
       "    </tr>\n",
       "    <tr>\n",
       "      <th>WMT</th>\n",
       "      <td>Walmart</td>\n",
       "      <td>Retail</td>\n",
       "      <td>0.098264</td>\n",
       "      <td>0.195354</td>\n",
       "      <td>0.622091</td>\n",
       "      <td>0.040552</td>\n",
       "    </tr>\n",
       "    <tr>\n",
       "      <th>MCD</th>\n",
       "      <td>McDonald's</td>\n",
       "      <td>Food</td>\n",
       "      <td>0.191764</td>\n",
       "      <td>0.165009</td>\n",
       "      <td>0.606114</td>\n",
       "      <td>0.040153</td>\n",
       "    </tr>\n",
       "    <tr>\n",
       "      <th>PG</th>\n",
       "      <td>Procter &amp; Gamble</td>\n",
       "      <td>Consumer goods</td>\n",
       "      <td>0.101830</td>\n",
       "      <td>0.152203</td>\n",
       "      <td>0.565643</td>\n",
       "      <td>0.039141</td>\n",
       "    </tr>\n",
       "    <tr>\n",
       "      <th>VZ</th>\n",
       "      <td>Verizon</td>\n",
       "      <td>Telecommunication</td>\n",
       "      <td>0.066348</td>\n",
       "      <td>0.171433</td>\n",
       "      <td>0.557127</td>\n",
       "      <td>0.038928</td>\n",
       "    </tr>\n",
       "    <tr>\n",
       "      <th>KO</th>\n",
       "      <td>Coca-Cola</td>\n",
       "      <td>Food</td>\n",
       "      <td>0.087187</td>\n",
       "      <td>0.144915</td>\n",
       "      <td>0.512629</td>\n",
       "      <td>0.037816</td>\n",
       "    </tr>\n",
       "    <tr>\n",
       "      <th>DOW</th>\n",
       "      <td>Dow Inc.</td>\n",
       "      <td>Chemical industry</td>\n",
       "      <td>-0.026978</td>\n",
       "      <td>0.097789</td>\n",
       "      <td>0.073333</td>\n",
       "      <td>0.026833</td>\n",
       "    </tr>\n",
       "  </tbody>\n",
       "</table>\n",
       "<p>30 rows × 6 columns</p>\n",
       "</div>"
      ],
      "text/plain": [
       "                  Company                           Industry  Realized_Return  \\\n",
       "Ticker                                                                          \n",
       "CAT           Caterpillar  Construction and mining equipment         0.069711   \n",
       "MSFT            Microsoft           Information technologies         0.245425   \n",
       "GS          Goldman Sachs                 Financial services         0.048459   \n",
       "INTC                Intel           Information technologies         0.097834   \n",
       "AAPL                Apple           Information technologies         0.158282   \n",
       "JPM        JPMorgan Chase                 Financial services         0.160250   \n",
       "CSCO        Cisco Systems           Information technologies         0.174623   \n",
       "BA                 Boeing              Aerospace and defense         0.226515   \n",
       "V                    Visa                 Financial services         0.242471   \n",
       "CVX               Chevron                          Oil & gas         0.030040   \n",
       "...                   ...                                ...              ...   \n",
       "MRK       Merck & Company                    Pharmaceuticals         0.108825   \n",
       "PFE                Pfizer                    Pharmaceuticals         0.087880   \n",
       "TRV             Travelers                 Financial services         0.117958   \n",
       "JNJ     Johnson & Johnson                    Pharmaceuticals         0.079799   \n",
       "WMT               Walmart                             Retail         0.098264   \n",
       "MCD            McDonald's                               Food         0.191764   \n",
       "PG       Procter & Gamble                     Consumer goods         0.101830   \n",
       "VZ                Verizon                  Telecommunication         0.066348   \n",
       "KO              Coca-Cola                               Food         0.087187   \n",
       "DOW              Dow Inc.                  Chemical industry        -0.026978   \n",
       "\n",
       "        Volatility      Beta  Expected_Return  \n",
       "Ticker                                         \n",
       "CAT       0.265377  1.322075         0.058052  \n",
       "MSFT      0.232590  1.302315         0.057558  \n",
       "GS        0.234957  1.274147         0.056854  \n",
       "INTC      0.254882  1.224087         0.055602  \n",
       "AAPL      0.246770  1.214706         0.055368  \n",
       "JPM       0.208141  1.171780         0.054295  \n",
       "CSCO      0.215651  1.165941         0.054149  \n",
       "BA        0.245258  1.154683         0.053867  \n",
       "V         0.206075  1.152910         0.053823  \n",
       "CVX       0.222159  1.029439         0.050736  \n",
       "...            ...       ...              ...  \n",
       "MRK       0.194304  0.806517         0.045163  \n",
       "PFE       0.177844  0.794056         0.044851  \n",
       "TRV       0.163918  0.769662         0.044242  \n",
       "JNJ       0.161413  0.717645         0.042941  \n",
       "WMT       0.195354  0.622091         0.040552  \n",
       "MCD       0.165009  0.606114         0.040153  \n",
       "PG        0.152203  0.565643         0.039141  \n",
       "VZ        0.171433  0.557127         0.038928  \n",
       "KO        0.144915  0.512629         0.037816  \n",
       "DOW       0.097789  0.073333         0.026833  \n",
       "\n",
       "[30 rows x 6 columns]"
      ]
     },
     "execution_count": 19,
     "metadata": {},
     "output_type": "execute_result"
    }
   ],
   "source": [
    "df = df.sort_values('Expected_Return',ascending=False)\n",
    "df"
   ]
  },
  {
   "cell_type": "markdown",
   "metadata": {},
   "source": [
    "***Alpha*** describe an investment strategy to beat the market or its edge, also known as \"excess return\" or \"abnormal rate of return\", which refers to the idea that markets are efficient and there is no way to systemtially earn returns.\n",
    "\n",
    "Alpha is often used to rank actual mutual funds as well as other types of investments."
   ]
  },
  {
   "cell_type": "code",
   "execution_count": 20,
   "metadata": {},
   "outputs": [],
   "source": [
    "#Calculate Alpaha which is the difference between the exptected reutrn and realized returns\n",
    "df['Alpha'] = df['Realized_Return']-df['Expected_Return']"
   ]
  },
  {
   "cell_type": "code",
   "execution_count": 21,
   "metadata": {},
   "outputs": [],
   "source": [
    "df['Min_Return'] = log_returns.min()\n",
    "df['Max_Return'] = log_returns.max()"
   ]
  },
  {
   "cell_type": "code",
   "execution_count": 22,
   "metadata": {},
   "outputs": [
    {
     "data": {
      "text/html": [
       "<style  type=\"text/css\" >\n",
       "</style>  \n",
       "<table id=\"T_fcc8718a_b801_11e9_89c6_a0a4c505eacd\" > \n",
       "<thead>    <tr> \n",
       "        <th class=\"blank level0\" ></th> \n",
       "        <th class=\"col_heading level0 col0\" >Company</th> \n",
       "        <th class=\"col_heading level0 col1\" >Industry</th> \n",
       "        <th class=\"col_heading level0 col2\" >Realized_Return</th> \n",
       "        <th class=\"col_heading level0 col3\" >Volatility</th> \n",
       "        <th class=\"col_heading level0 col4\" >Beta</th> \n",
       "        <th class=\"col_heading level0 col5\" >Expected_Return</th> \n",
       "        <th class=\"col_heading level0 col6\" >Alpha</th> \n",
       "        <th class=\"col_heading level0 col7\" >Min_Return</th> \n",
       "        <th class=\"col_heading level0 col8\" >Max_Return</th> \n",
       "    </tr>    <tr> \n",
       "        <th class=\"index_name level0\" >Ticker</th> \n",
       "        <th class=\"blank\" ></th> \n",
       "        <th class=\"blank\" ></th> \n",
       "        <th class=\"blank\" ></th> \n",
       "        <th class=\"blank\" ></th> \n",
       "        <th class=\"blank\" ></th> \n",
       "        <th class=\"blank\" ></th> \n",
       "        <th class=\"blank\" ></th> \n",
       "        <th class=\"blank\" ></th> \n",
       "        <th class=\"blank\" ></th> \n",
       "    </tr></thead> \n",
       "<tbody>    <tr> \n",
       "        <th id=\"T_fcc8718a_b801_11e9_89c6_a0a4c505eacdlevel0_row0\" class=\"row_heading level0 row0\" >CAT</th> \n",
       "        <td id=\"T_fcc8718a_b801_11e9_89c6_a0a4c505eacdrow0_col0\" class=\"data row0 col0\" >Caterpillar</td> \n",
       "        <td id=\"T_fcc8718a_b801_11e9_89c6_a0a4c505eacdrow0_col1\" class=\"data row0 col1\" >Construction and mining equipment</td> \n",
       "        <td id=\"T_fcc8718a_b801_11e9_89c6_a0a4c505eacdrow0_col2\" class=\"data row0 col2\" >6.97%</td> \n",
       "        <td id=\"T_fcc8718a_b801_11e9_89c6_a0a4c505eacdrow0_col3\" class=\"data row0 col3\" >0.27</td> \n",
       "        <td id=\"T_fcc8718a_b801_11e9_89c6_a0a4c505eacdrow0_col4\" class=\"data row0 col4\" >1.32</td> \n",
       "        <td id=\"T_fcc8718a_b801_11e9_89c6_a0a4c505eacdrow0_col5\" class=\"data row0 col5\" >5.81%</td> \n",
       "        <td id=\"T_fcc8718a_b801_11e9_89c6_a0a4c505eacdrow0_col6\" class=\"data row0 col6\" >1.17%</td> \n",
       "        <td id=\"T_fcc8718a_b801_11e9_89c6_a0a4c505eacdrow0_col7\" class=\"data row0 col7\" >-9.57%</td> \n",
       "        <td id=\"T_fcc8718a_b801_11e9_89c6_a0a4c505eacdrow0_col8\" class=\"data row0 col8\" >7.57%</td> \n",
       "    </tr>    <tr> \n",
       "        <th id=\"T_fcc8718a_b801_11e9_89c6_a0a4c505eacdlevel0_row1\" class=\"row_heading level0 row1\" >MSFT</th> \n",
       "        <td id=\"T_fcc8718a_b801_11e9_89c6_a0a4c505eacdrow1_col0\" class=\"data row1 col0\" >Microsoft</td> \n",
       "        <td id=\"T_fcc8718a_b801_11e9_89c6_a0a4c505eacdrow1_col1\" class=\"data row1 col1\" >Information technologies</td> \n",
       "        <td id=\"T_fcc8718a_b801_11e9_89c6_a0a4c505eacdrow1_col2\" class=\"data row1 col2\" >24.54%</td> \n",
       "        <td id=\"T_fcc8718a_b801_11e9_89c6_a0a4c505eacdrow1_col3\" class=\"data row1 col3\" >0.23</td> \n",
       "        <td id=\"T_fcc8718a_b801_11e9_89c6_a0a4c505eacdrow1_col4\" class=\"data row1 col4\" >1.30</td> \n",
       "        <td id=\"T_fcc8718a_b801_11e9_89c6_a0a4c505eacdrow1_col5\" class=\"data row1 col5\" >5.76%</td> \n",
       "        <td id=\"T_fcc8718a_b801_11e9_89c6_a0a4c505eacdrow1_col6\" class=\"data row1 col6\" >18.79%</td> \n",
       "        <td id=\"T_fcc8718a_b801_11e9_89c6_a0a4c505eacdrow1_col7\" class=\"data row1 col7\" >-9.71%</td> \n",
       "        <td id=\"T_fcc8718a_b801_11e9_89c6_a0a4c505eacdrow1_col8\" class=\"data row1 col8\" >9.94%</td> \n",
       "    </tr>    <tr> \n",
       "        <th id=\"T_fcc8718a_b801_11e9_89c6_a0a4c505eacdlevel0_row2\" class=\"row_heading level0 row2\" >GS</th> \n",
       "        <td id=\"T_fcc8718a_b801_11e9_89c6_a0a4c505eacdrow2_col0\" class=\"data row2 col0\" >Goldman Sachs</td> \n",
       "        <td id=\"T_fcc8718a_b801_11e9_89c6_a0a4c505eacdrow2_col1\" class=\"data row2 col1\" >Financial services</td> \n",
       "        <td id=\"T_fcc8718a_b801_11e9_89c6_a0a4c505eacdrow2_col2\" class=\"data row2 col2\" >4.85%</td> \n",
       "        <td id=\"T_fcc8718a_b801_11e9_89c6_a0a4c505eacdrow2_col3\" class=\"data row2 col3\" >0.23</td> \n",
       "        <td id=\"T_fcc8718a_b801_11e9_89c6_a0a4c505eacdrow2_col4\" class=\"data row2 col4\" >1.27</td> \n",
       "        <td id=\"T_fcc8718a_b801_11e9_89c6_a0a4c505eacdrow2_col5\" class=\"data row2 col5\" >5.69%</td> \n",
       "        <td id=\"T_fcc8718a_b801_11e9_89c6_a0a4c505eacdrow2_col6\" class=\"data row2 col6\" >-0.84%</td> \n",
       "        <td id=\"T_fcc8718a_b801_11e9_89c6_a0a4c505eacdrow2_col7\" class=\"data row2 col7\" >-7.75%</td> \n",
       "        <td id=\"T_fcc8718a_b801_11e9_89c6_a0a4c505eacdrow2_col8\" class=\"data row2 col8\" >9.12%</td> \n",
       "    </tr>    <tr> \n",
       "        <th id=\"T_fcc8718a_b801_11e9_89c6_a0a4c505eacdlevel0_row3\" class=\"row_heading level0 row3\" >INTC</th> \n",
       "        <td id=\"T_fcc8718a_b801_11e9_89c6_a0a4c505eacdrow3_col0\" class=\"data row3 col0\" >Intel</td> \n",
       "        <td id=\"T_fcc8718a_b801_11e9_89c6_a0a4c505eacdrow3_col1\" class=\"data row3 col1\" >Information technologies</td> \n",
       "        <td id=\"T_fcc8718a_b801_11e9_89c6_a0a4c505eacdrow3_col2\" class=\"data row3 col2\" >9.78%</td> \n",
       "        <td id=\"T_fcc8718a_b801_11e9_89c6_a0a4c505eacdrow3_col3\" class=\"data row3 col3\" >0.25</td> \n",
       "        <td id=\"T_fcc8718a_b801_11e9_89c6_a0a4c505eacdrow3_col4\" class=\"data row3 col4\" >1.22</td> \n",
       "        <td id=\"T_fcc8718a_b801_11e9_89c6_a0a4c505eacdrow3_col5\" class=\"data row3 col5\" >5.56%</td> \n",
       "        <td id=\"T_fcc8718a_b801_11e9_89c6_a0a4c505eacdrow3_col6\" class=\"data row3 col6\" >4.22%</td> \n",
       "        <td id=\"T_fcc8718a_b801_11e9_89c6_a0a4c505eacdrow3_col7\" class=\"data row3 col7\" >-9.54%</td> \n",
       "        <td id=\"T_fcc8718a_b801_11e9_89c6_a0a4c505eacdrow3_col8\" class=\"data row3 col8\" >10.03%</td> \n",
       "    </tr>    <tr> \n",
       "        <th id=\"T_fcc8718a_b801_11e9_89c6_a0a4c505eacdlevel0_row4\" class=\"row_heading level0 row4\" >AAPL</th> \n",
       "        <td id=\"T_fcc8718a_b801_11e9_89c6_a0a4c505eacdrow4_col0\" class=\"data row4 col0\" >Apple</td> \n",
       "        <td id=\"T_fcc8718a_b801_11e9_89c6_a0a4c505eacdrow4_col1\" class=\"data row4 col1\" >Information technologies</td> \n",
       "        <td id=\"T_fcc8718a_b801_11e9_89c6_a0a4c505eacdrow4_col2\" class=\"data row4 col2\" >15.83%</td> \n",
       "        <td id=\"T_fcc8718a_b801_11e9_89c6_a0a4c505eacdrow4_col3\" class=\"data row4 col3\" >0.25</td> \n",
       "        <td id=\"T_fcc8718a_b801_11e9_89c6_a0a4c505eacdrow4_col4\" class=\"data row4 col4\" >1.21</td> \n",
       "        <td id=\"T_fcc8718a_b801_11e9_89c6_a0a4c505eacdrow4_col5\" class=\"data row4 col5\" >5.54%</td> \n",
       "        <td id=\"T_fcc8718a_b801_11e9_89c6_a0a4c505eacdrow4_col6\" class=\"data row4 col6\" >10.29%</td> \n",
       "        <td id=\"T_fcc8718a_b801_11e9_89c6_a0a4c505eacdrow4_col7\" class=\"data row4 col7\" >-10.49%</td> \n",
       "        <td id=\"T_fcc8718a_b801_11e9_89c6_a0a4c505eacdrow4_col8\" class=\"data row4 col8\" >6.81%</td> \n",
       "    </tr>    <tr> \n",
       "        <th id=\"T_fcc8718a_b801_11e9_89c6_a0a4c505eacdlevel0_row5\" class=\"row_heading level0 row5\" >JPM</th> \n",
       "        <td id=\"T_fcc8718a_b801_11e9_89c6_a0a4c505eacdrow5_col0\" class=\"data row5 col0\" >JPMorgan Chase</td> \n",
       "        <td id=\"T_fcc8718a_b801_11e9_89c6_a0a4c505eacdrow5_col1\" class=\"data row5 col1\" >Financial services</td> \n",
       "        <td id=\"T_fcc8718a_b801_11e9_89c6_a0a4c505eacdrow5_col2\" class=\"data row5 col2\" >16.03%</td> \n",
       "        <td id=\"T_fcc8718a_b801_11e9_89c6_a0a4c505eacdrow5_col3\" class=\"data row5 col3\" >0.21</td> \n",
       "        <td id=\"T_fcc8718a_b801_11e9_89c6_a0a4c505eacdrow5_col4\" class=\"data row5 col4\" >1.17</td> \n",
       "        <td id=\"T_fcc8718a_b801_11e9_89c6_a0a4c505eacdrow5_col5\" class=\"data row5 col5\" >5.43%</td> \n",
       "        <td id=\"T_fcc8718a_b801_11e9_89c6_a0a4c505eacdrow5_col6\" class=\"data row5 col6\" >10.60%</td> \n",
       "        <td id=\"T_fcc8718a_b801_11e9_89c6_a0a4c505eacdrow5_col7\" class=\"data row5 col7\" >-7.20%</td> \n",
       "        <td id=\"T_fcc8718a_b801_11e9_89c6_a0a4c505eacdrow5_col8\" class=\"data row5 col8\" >8.00%</td> \n",
       "    </tr>    <tr> \n",
       "        <th id=\"T_fcc8718a_b801_11e9_89c6_a0a4c505eacdlevel0_row6\" class=\"row_heading level0 row6\" >CSCO</th> \n",
       "        <td id=\"T_fcc8718a_b801_11e9_89c6_a0a4c505eacdrow6_col0\" class=\"data row6 col0\" >Cisco Systems</td> \n",
       "        <td id=\"T_fcc8718a_b801_11e9_89c6_a0a4c505eacdrow6_col1\" class=\"data row6 col1\" >Information technologies</td> \n",
       "        <td id=\"T_fcc8718a_b801_11e9_89c6_a0a4c505eacdrow6_col2\" class=\"data row6 col2\" >17.46%</td> \n",
       "        <td id=\"T_fcc8718a_b801_11e9_89c6_a0a4c505eacdrow6_col3\" class=\"data row6 col3\" >0.22</td> \n",
       "        <td id=\"T_fcc8718a_b801_11e9_89c6_a0a4c505eacdrow6_col4\" class=\"data row6 col4\" >1.17</td> \n",
       "        <td id=\"T_fcc8718a_b801_11e9_89c6_a0a4c505eacdrow6_col5\" class=\"data row6 col5\" >5.41%</td> \n",
       "        <td id=\"T_fcc8718a_b801_11e9_89c6_a0a4c505eacdrow6_col6\" class=\"data row6 col6\" >12.05%</td> \n",
       "        <td id=\"T_fcc8718a_b801_11e9_89c6_a0a4c505eacdrow6_col7\" class=\"data row6 col7\" >-7.49%</td> \n",
       "        <td id=\"T_fcc8718a_b801_11e9_89c6_a0a4c505eacdrow6_col8\" class=\"data row6 col8\" >9.20%</td> \n",
       "    </tr>    <tr> \n",
       "        <th id=\"T_fcc8718a_b801_11e9_89c6_a0a4c505eacdlevel0_row7\" class=\"row_heading level0 row7\" >BA</th> \n",
       "        <td id=\"T_fcc8718a_b801_11e9_89c6_a0a4c505eacdrow7_col0\" class=\"data row7 col0\" >Boeing</td> \n",
       "        <td id=\"T_fcc8718a_b801_11e9_89c6_a0a4c505eacdrow7_col1\" class=\"data row7 col1\" >Aerospace and defense</td> \n",
       "        <td id=\"T_fcc8718a_b801_11e9_89c6_a0a4c505eacdrow7_col2\" class=\"data row7 col2\" >22.65%</td> \n",
       "        <td id=\"T_fcc8718a_b801_11e9_89c6_a0a4c505eacdrow7_col3\" class=\"data row7 col3\" >0.25</td> \n",
       "        <td id=\"T_fcc8718a_b801_11e9_89c6_a0a4c505eacdrow7_col4\" class=\"data row7 col4\" >1.15</td> \n",
       "        <td id=\"T_fcc8718a_b801_11e9_89c6_a0a4c505eacdrow7_col5\" class=\"data row7 col5\" >5.39%</td> \n",
       "        <td id=\"T_fcc8718a_b801_11e9_89c6_a0a4c505eacdrow7_col6\" class=\"data row7 col6\" >17.26%</td> \n",
       "        <td id=\"T_fcc8718a_b801_11e9_89c6_a0a4c505eacdrow7_col7\" class=\"data row7 col7\" >-9.35%</td> \n",
       "        <td id=\"T_fcc8718a_b801_11e9_89c6_a0a4c505eacdrow7_col8\" class=\"data row7 col8\" >9.42%</td> \n",
       "    </tr>    <tr> \n",
       "        <th id=\"T_fcc8718a_b801_11e9_89c6_a0a4c505eacdlevel0_row8\" class=\"row_heading level0 row8\" >V</th> \n",
       "        <td id=\"T_fcc8718a_b801_11e9_89c6_a0a4c505eacdrow8_col0\" class=\"data row8 col0\" >Visa</td> \n",
       "        <td id=\"T_fcc8718a_b801_11e9_89c6_a0a4c505eacdrow8_col1\" class=\"data row8 col1\" >Financial services</td> \n",
       "        <td id=\"T_fcc8718a_b801_11e9_89c6_a0a4c505eacdrow8_col2\" class=\"data row8 col2\" >24.25%</td> \n",
       "        <td id=\"T_fcc8718a_b801_11e9_89c6_a0a4c505eacdrow8_col3\" class=\"data row8 col3\" >0.21</td> \n",
       "        <td id=\"T_fcc8718a_b801_11e9_89c6_a0a4c505eacdrow8_col4\" class=\"data row8 col4\" >1.15</td> \n",
       "        <td id=\"T_fcc8718a_b801_11e9_89c6_a0a4c505eacdrow8_col5\" class=\"data row8 col5\" >5.38%</td> \n",
       "        <td id=\"T_fcc8718a_b801_11e9_89c6_a0a4c505eacdrow8_col6\" class=\"data row8 col6\" >18.86%</td> \n",
       "        <td id=\"T_fcc8718a_b801_11e9_89c6_a0a4c505eacdrow8_col7\" class=\"data row8 col7\" >-5.41%</td> \n",
       "        <td id=\"T_fcc8718a_b801_11e9_89c6_a0a4c505eacdrow8_col8\" class=\"data row8 col8\" >9.75%</td> \n",
       "    </tr>    <tr> \n",
       "        <th id=\"T_fcc8718a_b801_11e9_89c6_a0a4c505eacdlevel0_row9\" class=\"row_heading level0 row9\" >CVX</th> \n",
       "        <td id=\"T_fcc8718a_b801_11e9_89c6_a0a4c505eacdrow9_col0\" class=\"data row9 col0\" >Chevron</td> \n",
       "        <td id=\"T_fcc8718a_b801_11e9_89c6_a0a4c505eacdrow9_col1\" class=\"data row9 col1\" >Oil & gas</td> \n",
       "        <td id=\"T_fcc8718a_b801_11e9_89c6_a0a4c505eacdrow9_col2\" class=\"data row9 col2\" >3.00%</td> \n",
       "        <td id=\"T_fcc8718a_b801_11e9_89c6_a0a4c505eacdrow9_col3\" class=\"data row9 col3\" >0.22</td> \n",
       "        <td id=\"T_fcc8718a_b801_11e9_89c6_a0a4c505eacdrow9_col4\" class=\"data row9 col4\" >1.03</td> \n",
       "        <td id=\"T_fcc8718a_b801_11e9_89c6_a0a4c505eacdrow9_col5\" class=\"data row9 col5\" >5.07%</td> \n",
       "        <td id=\"T_fcc8718a_b801_11e9_89c6_a0a4c505eacdrow9_col6\" class=\"data row9 col6\" >-2.07%</td> \n",
       "        <td id=\"T_fcc8718a_b801_11e9_89c6_a0a4c505eacdrow9_col7\" class=\"data row9 col7\" >-5.73%</td> \n",
       "        <td id=\"T_fcc8718a_b801_11e9_89c6_a0a4c505eacdrow9_col8\" class=\"data row9 col8\" >6.14%</td> \n",
       "    </tr>    <tr> \n",
       "        <th id=\"T_fcc8718a_b801_11e9_89c6_a0a4c505eacdlevel0_row10\" class=\"row_heading level0 row10\" >NKE</th> \n",
       "        <td id=\"T_fcc8718a_b801_11e9_89c6_a0a4c505eacdrow10_col0\" class=\"data row10 col0\" >Nike</td> \n",
       "        <td id=\"T_fcc8718a_b801_11e9_89c6_a0a4c505eacdrow10_col1\" class=\"data row10 col1\" >Apparel</td> \n",
       "        <td id=\"T_fcc8718a_b801_11e9_89c6_a0a4c505eacdrow10_col2\" class=\"data row10 col2\" >15.63%</td> \n",
       "        <td id=\"T_fcc8718a_b801_11e9_89c6_a0a4c505eacdrow10_col3\" class=\"data row10 col3\" >0.24</td> \n",
       "        <td id=\"T_fcc8718a_b801_11e9_89c6_a0a4c505eacdrow10_col4\" class=\"data row10 col4\" >0.99</td> \n",
       "        <td id=\"T_fcc8718a_b801_11e9_89c6_a0a4c505eacdrow10_col5\" class=\"data row10 col5\" >4.97%</td> \n",
       "        <td id=\"T_fcc8718a_b801_11e9_89c6_a0a4c505eacdrow10_col6\" class=\"data row10 col6\" >10.66%</td> \n",
       "        <td id=\"T_fcc8718a_b801_11e9_89c6_a0a4c505eacdrow10_col7\" class=\"data row10 col7\" >-7.31%</td> \n",
       "        <td id=\"T_fcc8718a_b801_11e9_89c6_a0a4c505eacdrow10_col8\" class=\"data row10 col8\" >11.53%</td> \n",
       "    </tr>    <tr> \n",
       "        <th id=\"T_fcc8718a_b801_11e9_89c6_a0a4c505eacdlevel0_row11\" class=\"row_heading level0 row11\" >MMM</th> \n",
       "        <td id=\"T_fcc8718a_b801_11e9_89c6_a0a4c505eacdrow11_col0\" class=\"data row11 col0\" >3M</td> \n",
       "        <td id=\"T_fcc8718a_b801_11e9_89c6_a0a4c505eacdrow11_col1\" class=\"data row11 col1\" >Conglomerate</td> \n",
       "        <td id=\"T_fcc8718a_b801_11e9_89c6_a0a4c505eacdrow11_col2\" class=\"data row11 col2\" >5.82%</td> \n",
       "        <td id=\"T_fcc8718a_b801_11e9_89c6_a0a4c505eacdrow11_col3\" class=\"data row11 col3\" >0.19</td> \n",
       "        <td id=\"T_fcc8718a_b801_11e9_89c6_a0a4c505eacdrow11_col4\" class=\"data row11 col4\" >0.97</td> \n",
       "        <td id=\"T_fcc8718a_b801_11e9_89c6_a0a4c505eacdrow11_col5\" class=\"data row11 col5\" >4.93%</td> \n",
       "        <td id=\"T_fcc8718a_b801_11e9_89c6_a0a4c505eacdrow11_col6\" class=\"data row11 col6\" >0.89%</td> \n",
       "        <td id=\"T_fcc8718a_b801_11e9_89c6_a0a4c505eacdrow11_col7\" class=\"data row11 col7\" >-13.86%</td> \n",
       "        <td id=\"T_fcc8718a_b801_11e9_89c6_a0a4c505eacdrow11_col8\" class=\"data row11 col8\" >5.74%</td> \n",
       "    </tr>    <tr> \n",
       "        <th id=\"T_fcc8718a_b801_11e9_89c6_a0a4c505eacdlevel0_row12\" class=\"row_heading level0 row12\" >AXP</th> \n",
       "        <td id=\"T_fcc8718a_b801_11e9_89c6_a0a4c505eacdrow12_col0\" class=\"data row12 col0\" >American Express</td> \n",
       "        <td id=\"T_fcc8718a_b801_11e9_89c6_a0a4c505eacdrow12_col1\" class=\"data row12 col1\" >Financial services</td> \n",
       "        <td id=\"T_fcc8718a_b801_11e9_89c6_a0a4c505eacdrow12_col2\" class=\"data row12 col2\" >8.19%</td> \n",
       "        <td id=\"T_fcc8718a_b801_11e9_89c6_a0a4c505eacdrow12_col3\" class=\"data row12 col3\" >0.21</td> \n",
       "        <td id=\"T_fcc8718a_b801_11e9_89c6_a0a4c505eacdrow12_col4\" class=\"data row12 col4\" >0.96</td> \n",
       "        <td id=\"T_fcc8718a_b801_11e9_89c6_a0a4c505eacdrow12_col5\" class=\"data row12 col5\" >4.90%</td> \n",
       "        <td id=\"T_fcc8718a_b801_11e9_89c6_a0a4c505eacdrow12_col6\" class=\"data row12 col6\" >3.29%</td> \n",
       "        <td id=\"T_fcc8718a_b801_11e9_89c6_a0a4c505eacdrow12_col7\" class=\"data row12 col7\" >-12.90%</td> \n",
       "        <td id=\"T_fcc8718a_b801_11e9_89c6_a0a4c505eacdrow12_col8\" class=\"data row12 col8\" >8.64%</td> \n",
       "    </tr>    <tr> \n",
       "        <th id=\"T_fcc8718a_b801_11e9_89c6_a0a4c505eacdlevel0_row13\" class=\"row_heading level0 row13\" >HD</th> \n",
       "        <td id=\"T_fcc8718a_b801_11e9_89c6_a0a4c505eacdrow13_col0\" class=\"data row13 col0\" >The Home Depot</td> \n",
       "        <td id=\"T_fcc8718a_b801_11e9_89c6_a0a4c505eacdrow13_col1\" class=\"data row13 col1\" >Retail</td> \n",
       "        <td id=\"T_fcc8718a_b801_11e9_89c6_a0a4c505eacdrow13_col2\" class=\"data row13 col2\" >20.88%</td> \n",
       "        <td id=\"T_fcc8718a_b801_11e9_89c6_a0a4c505eacdrow13_col3\" class=\"data row13 col3\" >0.19</td> \n",
       "        <td id=\"T_fcc8718a_b801_11e9_89c6_a0a4c505eacdrow13_col4\" class=\"data row13 col4\" >0.95</td> \n",
       "        <td id=\"T_fcc8718a_b801_11e9_89c6_a0a4c505eacdrow13_col5\" class=\"data row13 col5\" >4.88%</td> \n",
       "        <td id=\"T_fcc8718a_b801_11e9_89c6_a0a4c505eacdrow13_col6\" class=\"data row13 col6\" >16.00%</td> \n",
       "        <td id=\"T_fcc8718a_b801_11e9_89c6_a0a4c505eacdrow13_col7\" class=\"data row13 col7\" >-5.76%</td> \n",
       "        <td id=\"T_fcc8718a_b801_11e9_89c6_a0a4c505eacdrow13_col8\" class=\"data row13 col8\" >6.21%</td> \n",
       "    </tr>    <tr> \n",
       "        <th id=\"T_fcc8718a_b801_11e9_89c6_a0a4c505eacdlevel0_row14\" class=\"row_heading level0 row14\" >IBM</th> \n",
       "        <td id=\"T_fcc8718a_b801_11e9_89c6_a0a4c505eacdrow14_col0\" class=\"data row14 col0\" >IBM</td> \n",
       "        <td id=\"T_fcc8718a_b801_11e9_89c6_a0a4c505eacdrow14_col1\" class=\"data row14 col1\" >Information technologies</td> \n",
       "        <td id=\"T_fcc8718a_b801_11e9_89c6_a0a4c505eacdrow14_col2\" class=\"data row14 col2\" >-1.58%</td> \n",
       "        <td id=\"T_fcc8718a_b801_11e9_89c6_a0a4c505eacdrow14_col3\" class=\"data row14 col3\" >0.20</td> \n",
       "        <td id=\"T_fcc8718a_b801_11e9_89c6_a0a4c505eacdrow14_col4\" class=\"data row14 col4\" >0.95</td> \n",
       "        <td id=\"T_fcc8718a_b801_11e9_89c6_a0a4c505eacdrow14_col5\" class=\"data row14 col5\" >4.87%</td> \n",
       "        <td id=\"T_fcc8718a_b801_11e9_89c6_a0a4c505eacdrow14_col6\" class=\"data row14 col6\" >-6.44%</td> \n",
       "        <td id=\"T_fcc8718a_b801_11e9_89c6_a0a4c505eacdrow14_col7\" class=\"data row14 col7\" >-7.93%</td> \n",
       "        <td id=\"T_fcc8718a_b801_11e9_89c6_a0a4c505eacdrow14_col8\" class=\"data row14 col8\" >8.49%</td> \n",
       "    </tr>    <tr> \n",
       "        <th id=\"T_fcc8718a_b801_11e9_89c6_a0a4c505eacdlevel0_row15\" class=\"row_heading level0 row15\" >UTX</th> \n",
       "        <td id=\"T_fcc8718a_b801_11e9_89c6_a0a4c505eacdrow15_col0\" class=\"data row15 col0\" >United Technologies</td> \n",
       "        <td id=\"T_fcc8718a_b801_11e9_89c6_a0a4c505eacdrow15_col1\" class=\"data row15 col1\" >Conglomerate</td> \n",
       "        <td id=\"T_fcc8718a_b801_11e9_89c6_a0a4c505eacdrow15_col2\" class=\"data row15 col2\" >5.93%</td> \n",
       "        <td id=\"T_fcc8718a_b801_11e9_89c6_a0a4c505eacdrow15_col3\" class=\"data row15 col3\" >0.19</td> \n",
       "        <td id=\"T_fcc8718a_b801_11e9_89c6_a0a4c505eacdrow15_col4\" class=\"data row15 col4\" >0.95</td> \n",
       "        <td id=\"T_fcc8718a_b801_11e9_89c6_a0a4c505eacdrow15_col5\" class=\"data row15 col5\" >4.86%</td> \n",
       "        <td id=\"T_fcc8718a_b801_11e9_89c6_a0a4c505eacdrow15_col6\" class=\"data row15 col6\" >1.07%</td> \n",
       "        <td id=\"T_fcc8718a_b801_11e9_89c6_a0a4c505eacdrow15_col7\" class=\"data row15 col7\" >-7.29%</td> \n",
       "        <td id=\"T_fcc8718a_b801_11e9_89c6_a0a4c505eacdrow15_col8\" class=\"data row15 col8\" >5.24%</td> \n",
       "    </tr>    <tr> \n",
       "        <th id=\"T_fcc8718a_b801_11e9_89c6_a0a4c505eacdlevel0_row16\" class=\"row_heading level0 row16\" >UNH</th> \n",
       "        <td id=\"T_fcc8718a_b801_11e9_89c6_a0a4c505eacdrow16_col0\" class=\"data row16 col0\" >UnitedHealth Group</td> \n",
       "        <td id=\"T_fcc8718a_b801_11e9_89c6_a0a4c505eacdrow16_col1\" class=\"data row16 col1\" >Managed health care</td> \n",
       "        <td id=\"T_fcc8718a_b801_11e9_89c6_a0a4c505eacdrow16_col2\" class=\"data row16 col2\" >23.55%</td> \n",
       "        <td id=\"T_fcc8718a_b801_11e9_89c6_a0a4c505eacdrow16_col3\" class=\"data row16 col3\" >0.21</td> \n",
       "        <td id=\"T_fcc8718a_b801_11e9_89c6_a0a4c505eacdrow16_col4\" class=\"data row16 col4\" >0.94</td> \n",
       "        <td id=\"T_fcc8718a_b801_11e9_89c6_a0a4c505eacdrow16_col5\" class=\"data row16 col5\" >4.86%</td> \n",
       "        <td id=\"T_fcc8718a_b801_11e9_89c6_a0a4c505eacdrow16_col6\" class=\"data row16 col6\" >18.70%</td> \n",
       "        <td id=\"T_fcc8718a_b801_11e9_89c6_a0a4c505eacdrow16_col7\" class=\"data row16 col7\" >-5.81%</td> \n",
       "        <td id=\"T_fcc8718a_b801_11e9_89c6_a0a4c505eacdrow16_col8\" class=\"data row16 col8\" >6.68%</td> \n",
       "    </tr>    <tr> \n",
       "        <th id=\"T_fcc8718a_b801_11e9_89c6_a0a4c505eacdlevel0_row17\" class=\"row_heading level0 row17\" >WBA</th> \n",
       "        <td id=\"T_fcc8718a_b801_11e9_89c6_a0a4c505eacdrow17_col0\" class=\"data row17 col0\" >Walgreens Boots Alliance</td> \n",
       "        <td id=\"T_fcc8718a_b801_11e9_89c6_a0a4c505eacdrow17_col1\" class=\"data row17 col1\" >Retail</td> \n",
       "        <td id=\"T_fcc8718a_b801_11e9_89c6_a0a4c505eacdrow17_col2\" class=\"data row17 col2\" >-3.65%</td> \n",
       "        <td id=\"T_fcc8718a_b801_11e9_89c6_a0a4c505eacdrow17_col3\" class=\"data row17 col3\" >0.25</td> \n",
       "        <td id=\"T_fcc8718a_b801_11e9_89c6_a0a4c505eacdrow17_col4\" class=\"data row17 col4\" >0.93</td> \n",
       "        <td id=\"T_fcc8718a_b801_11e9_89c6_a0a4c505eacdrow17_col5\" class=\"data row17 col5\" >4.83%</td> \n",
       "        <td id=\"T_fcc8718a_b801_11e9_89c6_a0a4c505eacdrow17_col6\" class=\"data row17 col6\" >-8.48%</td> \n",
       "        <td id=\"T_fcc8718a_b801_11e9_89c6_a0a4c505eacdrow17_col7\" class=\"data row17 col7\" >-15.48%</td> \n",
       "        <td id=\"T_fcc8718a_b801_11e9_89c6_a0a4c505eacdrow17_col8\" class=\"data row17 col8\" >6.89%</td> \n",
       "    </tr>    <tr> \n",
       "        <th id=\"T_fcc8718a_b801_11e9_89c6_a0a4c505eacdlevel0_row18\" class=\"row_heading level0 row18\" >XOM</th> \n",
       "        <td id=\"T_fcc8718a_b801_11e9_89c6_a0a4c505eacdrow18_col0\" class=\"data row18 col0\" >ExxonMobil</td> \n",
       "        <td id=\"T_fcc8718a_b801_11e9_89c6_a0a4c505eacdrow18_col1\" class=\"data row18 col1\" >Oil & gas</td> \n",
       "        <td id=\"T_fcc8718a_b801_11e9_89c6_a0a4c505eacdrow18_col2\" class=\"data row18 col2\" >-3.01%</td> \n",
       "        <td id=\"T_fcc8718a_b801_11e9_89c6_a0a4c505eacdrow18_col3\" class=\"data row18 col3\" >0.19</td> \n",
       "        <td id=\"T_fcc8718a_b801_11e9_89c6_a0a4c505eacdrow18_col4\" class=\"data row18 col4\" >0.91</td> \n",
       "        <td id=\"T_fcc8718a_b801_11e9_89c6_a0a4c505eacdrow18_col5\" class=\"data row18 col5\" >4.77%</td> \n",
       "        <td id=\"T_fcc8718a_b801_11e9_89c6_a0a4c505eacdrow18_col6\" class=\"data row18 col6\" >-7.78%</td> \n",
       "        <td id=\"T_fcc8718a_b801_11e9_89c6_a0a4c505eacdrow18_col7\" class=\"data row18 col7\" >-5.86%</td> \n",
       "        <td id=\"T_fcc8718a_b801_11e9_89c6_a0a4c505eacdrow18_col8\" class=\"data row18 col8\" >5.37%</td> \n",
       "    </tr>    <tr> \n",
       "        <th id=\"T_fcc8718a_b801_11e9_89c6_a0a4c505eacdlevel0_row19\" class=\"row_heading level0 row19\" >DIS</th> \n",
       "        <td id=\"T_fcc8718a_b801_11e9_89c6_a0a4c505eacdrow19_col0\" class=\"data row19 col0\" >Walt Disney</td> \n",
       "        <td id=\"T_fcc8718a_b801_11e9_89c6_a0a4c505eacdrow19_col1\" class=\"data row19 col1\" >Broadcasting and entertainment</td> \n",
       "        <td id=\"T_fcc8718a_b801_11e9_89c6_a0a4c505eacdrow19_col2\" class=\"data row19 col2\" >10.80%</td> \n",
       "        <td id=\"T_fcc8718a_b801_11e9_89c6_a0a4c505eacdrow19_col3\" class=\"data row19 col3\" >0.19</td> \n",
       "        <td id=\"T_fcc8718a_b801_11e9_89c6_a0a4c505eacdrow19_col4\" class=\"data row19 col4\" >0.85</td> \n",
       "        <td id=\"T_fcc8718a_b801_11e9_89c6_a0a4c505eacdrow19_col5\" class=\"data row19 col5\" >4.63%</td> \n",
       "        <td id=\"T_fcc8718a_b801_11e9_89c6_a0a4c505eacdrow19_col6\" class=\"data row19 col6\" >6.17%</td> \n",
       "        <td id=\"T_fcc8718a_b801_11e9_89c6_a0a4c505eacdrow19_col7\" class=\"data row19 col7\" >-9.62%</td> \n",
       "        <td id=\"T_fcc8718a_b801_11e9_89c6_a0a4c505eacdrow19_col8\" class=\"data row19 col8\" >10.92%</td> \n",
       "    </tr>    <tr> \n",
       "        <th id=\"T_fcc8718a_b801_11e9_89c6_a0a4c505eacdlevel0_row20\" class=\"row_heading level0 row20\" >MRK</th> \n",
       "        <td id=\"T_fcc8718a_b801_11e9_89c6_a0a4c505eacdrow20_col0\" class=\"data row20 col0\" >Merck & Company</td> \n",
       "        <td id=\"T_fcc8718a_b801_11e9_89c6_a0a4c505eacdrow20_col1\" class=\"data row20 col1\" >Pharmaceuticals</td> \n",
       "        <td id=\"T_fcc8718a_b801_11e9_89c6_a0a4c505eacdrow20_col2\" class=\"data row20 col2\" >10.88%</td> \n",
       "        <td id=\"T_fcc8718a_b801_11e9_89c6_a0a4c505eacdrow20_col3\" class=\"data row20 col3\" >0.19</td> \n",
       "        <td id=\"T_fcc8718a_b801_11e9_89c6_a0a4c505eacdrow20_col4\" class=\"data row20 col4\" >0.81</td> \n",
       "        <td id=\"T_fcc8718a_b801_11e9_89c6_a0a4c505eacdrow20_col5\" class=\"data row20 col5\" >4.52%</td> \n",
       "        <td id=\"T_fcc8718a_b801_11e9_89c6_a0a4c505eacdrow20_col6\" class=\"data row20 col6\" >6.37%</td> \n",
       "        <td id=\"T_fcc8718a_b801_11e9_89c6_a0a4c505eacdrow20_col7\" class=\"data row20 col7\" >-6.25%</td> \n",
       "        <td id=\"T_fcc8718a_b801_11e9_89c6_a0a4c505eacdrow20_col8\" class=\"data row20 col8\" >9.90%</td> \n",
       "    </tr>    <tr> \n",
       "        <th id=\"T_fcc8718a_b801_11e9_89c6_a0a4c505eacdlevel0_row21\" class=\"row_heading level0 row21\" >PFE</th> \n",
       "        <td id=\"T_fcc8718a_b801_11e9_89c6_a0a4c505eacdrow21_col0\" class=\"data row21 col0\" >Pfizer</td> \n",
       "        <td id=\"T_fcc8718a_b801_11e9_89c6_a0a4c505eacdrow21_col1\" class=\"data row21 col1\" >Pharmaceuticals</td> \n",
       "        <td id=\"T_fcc8718a_b801_11e9_89c6_a0a4c505eacdrow21_col2\" class=\"data row21 col2\" >8.79%</td> \n",
       "        <td id=\"T_fcc8718a_b801_11e9_89c6_a0a4c505eacdrow21_col3\" class=\"data row21 col3\" >0.18</td> \n",
       "        <td id=\"T_fcc8718a_b801_11e9_89c6_a0a4c505eacdrow21_col4\" class=\"data row21 col4\" >0.79</td> \n",
       "        <td id=\"T_fcc8718a_b801_11e9_89c6_a0a4c505eacdrow21_col5\" class=\"data row21 col5\" >4.49%</td> \n",
       "        <td id=\"T_fcc8718a_b801_11e9_89c6_a0a4c505eacdrow21_col6\" class=\"data row21 col6\" >4.30%</td> \n",
       "        <td id=\"T_fcc8718a_b801_11e9_89c6_a0a4c505eacdrow21_col7\" class=\"data row21 col7\" >-6.63%</td> \n",
       "        <td id=\"T_fcc8718a_b801_11e9_89c6_a0a4c505eacdrow21_col8\" class=\"data row21 col8\" >6.83%</td> \n",
       "    </tr>    <tr> \n",
       "        <th id=\"T_fcc8718a_b801_11e9_89c6_a0a4c505eacdlevel0_row22\" class=\"row_heading level0 row22\" >TRV</th> \n",
       "        <td id=\"T_fcc8718a_b801_11e9_89c6_a0a4c505eacdrow22_col0\" class=\"data row22 col0\" >Travelers</td> \n",
       "        <td id=\"T_fcc8718a_b801_11e9_89c6_a0a4c505eacdrow22_col1\" class=\"data row22 col1\" >Financial services</td> \n",
       "        <td id=\"T_fcc8718a_b801_11e9_89c6_a0a4c505eacdrow22_col2\" class=\"data row22 col2\" >11.80%</td> \n",
       "        <td id=\"T_fcc8718a_b801_11e9_89c6_a0a4c505eacdrow22_col3\" class=\"data row22 col3\" >0.16</td> \n",
       "        <td id=\"T_fcc8718a_b801_11e9_89c6_a0a4c505eacdrow22_col4\" class=\"data row22 col4\" >0.77</td> \n",
       "        <td id=\"T_fcc8718a_b801_11e9_89c6_a0a4c505eacdrow22_col5\" class=\"data row22 col5\" >4.42%</td> \n",
       "        <td id=\"T_fcc8718a_b801_11e9_89c6_a0a4c505eacdrow22_col6\" class=\"data row22 col6\" >7.37%</td> \n",
       "        <td id=\"T_fcc8718a_b801_11e9_89c6_a0a4c505eacdrow22_col7\" class=\"data row22 col7\" >-6.24%</td> \n",
       "        <td id=\"T_fcc8718a_b801_11e9_89c6_a0a4c505eacdrow22_col8\" class=\"data row22 col8\" >4.84%</td> \n",
       "    </tr>    <tr> \n",
       "        <th id=\"T_fcc8718a_b801_11e9_89c6_a0a4c505eacdlevel0_row23\" class=\"row_heading level0 row23\" >JNJ</th> \n",
       "        <td id=\"T_fcc8718a_b801_11e9_89c6_a0a4c505eacdrow23_col0\" class=\"data row23 col0\" >Johnson & Johnson</td> \n",
       "        <td id=\"T_fcc8718a_b801_11e9_89c6_a0a4c505eacdrow23_col1\" class=\"data row23 col1\" >Pharmaceuticals</td> \n",
       "        <td id=\"T_fcc8718a_b801_11e9_89c6_a0a4c505eacdrow23_col2\" class=\"data row23 col2\" >7.98%</td> \n",
       "        <td id=\"T_fcc8718a_b801_11e9_89c6_a0a4c505eacdrow23_col3\" class=\"data row23 col3\" >0.16</td> \n",
       "        <td id=\"T_fcc8718a_b801_11e9_89c6_a0a4c505eacdrow23_col4\" class=\"data row23 col4\" >0.72</td> \n",
       "        <td id=\"T_fcc8718a_b801_11e9_89c6_a0a4c505eacdrow23_col5\" class=\"data row23 col5\" >4.29%</td> \n",
       "        <td id=\"T_fcc8718a_b801_11e9_89c6_a0a4c505eacdrow23_col6\" class=\"data row23 col6\" >3.69%</td> \n",
       "        <td id=\"T_fcc8718a_b801_11e9_89c6_a0a4c505eacdrow23_col7\" class=\"data row23 col7\" >-10.58%</td> \n",
       "        <td id=\"T_fcc8718a_b801_11e9_89c6_a0a4c505eacdrow23_col8\" class=\"data row23 col8\" >4.84%</td> \n",
       "    </tr>    <tr> \n",
       "        <th id=\"T_fcc8718a_b801_11e9_89c6_a0a4c505eacdlevel0_row24\" class=\"row_heading level0 row24\" >WMT</th> \n",
       "        <td id=\"T_fcc8718a_b801_11e9_89c6_a0a4c505eacdrow24_col0\" class=\"data row24 col0\" >Walmart</td> \n",
       "        <td id=\"T_fcc8718a_b801_11e9_89c6_a0a4c505eacdrow24_col1\" class=\"data row24 col1\" >Retail</td> \n",
       "        <td id=\"T_fcc8718a_b801_11e9_89c6_a0a4c505eacdrow24_col2\" class=\"data row24 col2\" >9.83%</td> \n",
       "        <td id=\"T_fcc8718a_b801_11e9_89c6_a0a4c505eacdrow24_col3\" class=\"data row24 col3\" >0.20</td> \n",
       "        <td id=\"T_fcc8718a_b801_11e9_89c6_a0a4c505eacdrow24_col4\" class=\"data row24 col4\" >0.62</td> \n",
       "        <td id=\"T_fcc8718a_b801_11e9_89c6_a0a4c505eacdrow24_col5\" class=\"data row24 col5\" >4.06%</td> \n",
       "        <td id=\"T_fcc8718a_b801_11e9_89c6_a0a4c505eacdrow24_col6\" class=\"data row24 col6\" >5.77%</td> \n",
       "        <td id=\"T_fcc8718a_b801_11e9_89c6_a0a4c505eacdrow24_col7\" class=\"data row24 col7\" >-10.74%</td> \n",
       "        <td id=\"T_fcc8718a_b801_11e9_89c6_a0a4c505eacdrow24_col8\" class=\"data row24 col8\" >10.34%</td> \n",
       "    </tr>    <tr> \n",
       "        <th id=\"T_fcc8718a_b801_11e9_89c6_a0a4c505eacdlevel0_row25\" class=\"row_heading level0 row25\" >MCD</th> \n",
       "        <td id=\"T_fcc8718a_b801_11e9_89c6_a0a4c505eacdrow25_col0\" class=\"data row25 col0\" >McDonald's</td> \n",
       "        <td id=\"T_fcc8718a_b801_11e9_89c6_a0a4c505eacdrow25_col1\" class=\"data row25 col1\" >Food</td> \n",
       "        <td id=\"T_fcc8718a_b801_11e9_89c6_a0a4c505eacdrow25_col2\" class=\"data row25 col2\" >19.18%</td> \n",
       "        <td id=\"T_fcc8718a_b801_11e9_89c6_a0a4c505eacdrow25_col3\" class=\"data row25 col3\" >0.17</td> \n",
       "        <td id=\"T_fcc8718a_b801_11e9_89c6_a0a4c505eacdrow25_col4\" class=\"data row25 col4\" >0.61</td> \n",
       "        <td id=\"T_fcc8718a_b801_11e9_89c6_a0a4c505eacdrow25_col5\" class=\"data row25 col5\" >4.02%</td> \n",
       "        <td id=\"T_fcc8718a_b801_11e9_89c6_a0a4c505eacdrow25_col6\" class=\"data row25 col6\" >15.16%</td> \n",
       "        <td id=\"T_fcc8718a_b801_11e9_89c6_a0a4c505eacdrow25_col7\" class=\"data row25 col7\" >-4.89%</td> \n",
       "        <td id=\"T_fcc8718a_b801_11e9_89c6_a0a4c505eacdrow25_col8\" class=\"data row25 col8\" >7.81%</td> \n",
       "    </tr>    <tr> \n",
       "        <th id=\"T_fcc8718a_b801_11e9_89c6_a0a4c505eacdlevel0_row26\" class=\"row_heading level0 row26\" >PG</th> \n",
       "        <td id=\"T_fcc8718a_b801_11e9_89c6_a0a4c505eacdrow26_col0\" class=\"data row26 col0\" >Procter & Gamble</td> \n",
       "        <td id=\"T_fcc8718a_b801_11e9_89c6_a0a4c505eacdrow26_col1\" class=\"data row26 col1\" >Consumer goods</td> \n",
       "        <td id=\"T_fcc8718a_b801_11e9_89c6_a0a4c505eacdrow26_col2\" class=\"data row26 col2\" >10.18%</td> \n",
       "        <td id=\"T_fcc8718a_b801_11e9_89c6_a0a4c505eacdrow26_col3\" class=\"data row26 col3\" >0.15</td> \n",
       "        <td id=\"T_fcc8718a_b801_11e9_89c6_a0a4c505eacdrow26_col4\" class=\"data row26 col4\" >0.57</td> \n",
       "        <td id=\"T_fcc8718a_b801_11e9_89c6_a0a4c505eacdrow26_col5\" class=\"data row26 col5\" >3.91%</td> \n",
       "        <td id=\"T_fcc8718a_b801_11e9_89c6_a0a4c505eacdrow26_col6\" class=\"data row26 col6\" >6.27%</td> \n",
       "        <td id=\"T_fcc8718a_b801_11e9_89c6_a0a4c505eacdrow26_col7\" class=\"data row26 col7\" >-4.09%</td> \n",
       "        <td id=\"T_fcc8718a_b801_11e9_89c6_a0a4c505eacdrow26_col8\" class=\"data row26 col8\" >8.43%</td> \n",
       "    </tr>    <tr> \n",
       "        <th id=\"T_fcc8718a_b801_11e9_89c6_a0a4c505eacdlevel0_row27\" class=\"row_heading level0 row27\" >VZ</th> \n",
       "        <td id=\"T_fcc8718a_b801_11e9_89c6_a0a4c505eacdrow27_col0\" class=\"data row27 col0\" >Verizon</td> \n",
       "        <td id=\"T_fcc8718a_b801_11e9_89c6_a0a4c505eacdrow27_col1\" class=\"data row27 col1\" >Telecommunication</td> \n",
       "        <td id=\"T_fcc8718a_b801_11e9_89c6_a0a4c505eacdrow27_col2\" class=\"data row27 col2\" >6.63%</td> \n",
       "        <td id=\"T_fcc8718a_b801_11e9_89c6_a0a4c505eacdrow27_col3\" class=\"data row27 col3\" >0.17</td> \n",
       "        <td id=\"T_fcc8718a_b801_11e9_89c6_a0a4c505eacdrow27_col4\" class=\"data row27 col4\" >0.56</td> \n",
       "        <td id=\"T_fcc8718a_b801_11e9_89c6_a0a4c505eacdrow27_col5\" class=\"data row27 col5\" >3.89%</td> \n",
       "        <td id=\"T_fcc8718a_b801_11e9_89c6_a0a4c505eacdrow27_col6\" class=\"data row27 col6\" >2.74%</td> \n",
       "        <td id=\"T_fcc8718a_b801_11e9_89c6_a0a4c505eacdrow27_col7\" class=\"data row27 col7\" >-4.79%</td> \n",
       "        <td id=\"T_fcc8718a_b801_11e9_89c6_a0a4c505eacdrow27_col8\" class=\"data row27 col8\" >7.40%</td> \n",
       "    </tr>    <tr> \n",
       "        <th id=\"T_fcc8718a_b801_11e9_89c6_a0a4c505eacdlevel0_row28\" class=\"row_heading level0 row28\" >KO</th> \n",
       "        <td id=\"T_fcc8718a_b801_11e9_89c6_a0a4c505eacdrow28_col0\" class=\"data row28 col0\" >Coca-Cola</td> \n",
       "        <td id=\"T_fcc8718a_b801_11e9_89c6_a0a4c505eacdrow28_col1\" class=\"data row28 col1\" >Food</td> \n",
       "        <td id=\"T_fcc8718a_b801_11e9_89c6_a0a4c505eacdrow28_col2\" class=\"data row28 col2\" >8.72%</td> \n",
       "        <td id=\"T_fcc8718a_b801_11e9_89c6_a0a4c505eacdrow28_col3\" class=\"data row28 col3\" >0.14</td> \n",
       "        <td id=\"T_fcc8718a_b801_11e9_89c6_a0a4c505eacdrow28_col4\" class=\"data row28 col4\" >0.51</td> \n",
       "        <td id=\"T_fcc8718a_b801_11e9_89c6_a0a4c505eacdrow28_col5\" class=\"data row28 col5\" >3.78%</td> \n",
       "        <td id=\"T_fcc8718a_b801_11e9_89c6_a0a4c505eacdrow28_col6\" class=\"data row28 col6\" >4.94%</td> \n",
       "        <td id=\"T_fcc8718a_b801_11e9_89c6_a0a4c505eacdrow28_col7\" class=\"data row28 col7\" >-8.81%</td> \n",
       "        <td id=\"T_fcc8718a_b801_11e9_89c6_a0a4c505eacdrow28_col8\" class=\"data row28 col8\" >5.89%</td> \n",
       "    </tr>    <tr> \n",
       "        <th id=\"T_fcc8718a_b801_11e9_89c6_a0a4c505eacdlevel0_row29\" class=\"row_heading level0 row29\" >DOW</th> \n",
       "        <td id=\"T_fcc8718a_b801_11e9_89c6_a0a4c505eacdrow29_col0\" class=\"data row29 col0\" >Dow Inc.</td> \n",
       "        <td id=\"T_fcc8718a_b801_11e9_89c6_a0a4c505eacdrow29_col1\" class=\"data row29 col1\" >Chemical industry</td> \n",
       "        <td id=\"T_fcc8718a_b801_11e9_89c6_a0a4c505eacdrow29_col2\" class=\"data row29 col2\" >-2.70%</td> \n",
       "        <td id=\"T_fcc8718a_b801_11e9_89c6_a0a4c505eacdrow29_col3\" class=\"data row29 col3\" >0.10</td> \n",
       "        <td id=\"T_fcc8718a_b801_11e9_89c6_a0a4c505eacdrow29_col4\" class=\"data row29 col4\" >0.07</td> \n",
       "        <td id=\"T_fcc8718a_b801_11e9_89c6_a0a4c505eacdrow29_col5\" class=\"data row29 col5\" >2.68%</td> \n",
       "        <td id=\"T_fcc8718a_b801_11e9_89c6_a0a4c505eacdrow29_col6\" class=\"data row29 col6\" >-5.38%</td> \n",
       "        <td id=\"T_fcc8718a_b801_11e9_89c6_a0a4c505eacdrow29_col7\" class=\"data row29 col7\" >-6.31%</td> \n",
       "        <td id=\"T_fcc8718a_b801_11e9_89c6_a0a4c505eacdrow29_col8\" class=\"data row29 col8\" >6.03%</td> \n",
       "    </tr></tbody> \n",
       "</table> "
      ],
      "text/plain": [
       "<pandas.io.formats.style.Styler at 0x1a3e09151d0>"
      ]
     },
     "execution_count": 22,
     "metadata": {},
     "output_type": "execute_result"
    }
   ],
   "source": [
    "# Dispaly Betas and Volatility as 2 decimals digits \n",
    "# Transform Realized Return and Expected Returns to 2 decimals percentages\n",
    "\n",
    "df.style.format({\n",
    "    'Beta': '{:,.2f}'.format,\n",
    "    'Volatility': '{:,.2f}'.format,\n",
    "    'Realized_Return': '{:,.2%}'.format,\n",
    "    'Expected_Return': '{:,.2%}'.format,\n",
    "    'Expected_Return': '{:,.2%}'.format,\n",
    "    'Alpha': '{:,.2%}'.format,\n",
    "    'Min_Return': '{:,.2%}'.format,\n",
    "    'Max_Return': '{:,.2%}'.format,\n",
    "})"
   ]
  },
  {
   "cell_type": "code",
   "execution_count": 23,
   "metadata": {},
   "outputs": [
    {
     "data": {
      "text/plain": [
       "0.07810753912016918"
      ]
     },
     "execution_count": 23,
     "metadata": {},
     "output_type": "execute_result"
    }
   ],
   "source": [
    "#Calculate the mean of S&P 500 return over the past 5 years\n",
    "log_returns['^GSPC'].mean()*250"
   ]
  },
  {
   "cell_type": "markdown",
   "metadata": {},
   "source": [
    "### Insights:\n",
    "Capital Asset Pricing Model serves as a benchmark for any asset we would need to have a vew of the \"fair\" return given the asset's risk\n",
    "\n",
    "1. Comparing the expected return with the realized return, it does not reflect the whole story behind the relationship between risk and returns. CAPM takes into account the asset's sensitivity to market risk (systemetic risk). \n",
    "2. The difference between an asset's actual returns and expected returns is alpha, which gauges the performance of an investment against a market index or benchmark. In this case, Boeing outperforms the market most. "
   ]
  },
  {
   "cell_type": "markdown",
   "metadata": {},
   "source": [
    "## Section III: Interpret and Visualize the Differences Across the 30 Companies\n",
    "### Data Visualizations of 30 Companies in Dow Jones List "
   ]
  },
  {
   "cell_type": "code",
   "execution_count": 24,
   "metadata": {},
   "outputs": [
    {
     "data": {
      "text/html": [
       "<script type=\"text/javascript\">window.PlotlyConfig = {MathJaxConfig: 'local'};</script><script type=\"text/javascript\">if (window.MathJax) {MathJax.Hub.Config({SVG: {font: \"STIX-Web\"}});}</script><script>requirejs.config({paths: { 'plotly': ['https://cdn.plot.ly/plotly-latest.min']},});if(!window._Plotly) {require(['plotly'],function(plotly) {window._Plotly=plotly;});}</script>"
      ],
      "text/vnd.plotly.v1+html": [
       "<script type=\"text/javascript\">window.PlotlyConfig = {MathJaxConfig: 'local'};</script><script type=\"text/javascript\">if (window.MathJax) {MathJax.Hub.Config({SVG: {font: \"STIX-Web\"}});}</script><script>requirejs.config({paths: { 'plotly': ['https://cdn.plot.ly/plotly-latest.min']},});if(!window._Plotly) {require(['plotly'],function(plotly) {window._Plotly=plotly;});}</script>"
      ]
     },
     "metadata": {},
     "output_type": "display_data"
    }
   ],
   "source": [
    "from plotly.graph_objs import Scatter, Layout\n",
    "import plotly\n",
    "import plotly.offline as py\n",
    "import plotly.graph_objs as go\n",
    "\n",
    "# setting offline\n",
    "plotly.offline.init_notebook_mode(connected=True)"
   ]
  },
  {
   "cell_type": "code",
   "execution_count": 25,
   "metadata": {},
   "outputs": [
    {
     "data": {
      "application/vnd.plotly.v1+json": {
       "config": {
        "linkText": "Export to plot.ly",
        "plotlyServerURL": "https://plot.ly",
        "showLink": false
       },
       "data": [
        {
         "marker": {
          "color": "rgb(49,130,189)"
         },
         "name": "Realized Return",
         "text": [
          "Caterpillar",
          "Microsoft",
          "Goldman Sachs",
          "Intel",
          "Apple",
          "JPMorgan Chase",
          "Cisco Systems",
          "Boeing",
          "Visa",
          "Chevron",
          "Nike",
          "3M",
          "American Express",
          "The Home Depot",
          "IBM",
          "United Technologies",
          "UnitedHealth Group",
          "Walgreens Boots Alliance",
          "ExxonMobil",
          "Walt Disney",
          "Merck & Company",
          "Pfizer",
          "Travelers",
          "Johnson & Johnson",
          "Walmart",
          "McDonald's",
          "Procter & Gamble",
          "Verizon",
          "Coca-Cola",
          "Dow Inc."
         ],
         "type": "bar",
         "uid": "5d0143f7-fcc1-4119-a15d-53f08cc02301",
         "x": [
          "CAT",
          "MSFT",
          "GS",
          "INTC",
          "AAPL",
          "JPM",
          "CSCO",
          "BA",
          "V",
          "CVX",
          "NKE",
          "MMM",
          "AXP",
          "HD",
          "IBM",
          "UTX",
          "UNH",
          "WBA",
          "XOM",
          "DIS",
          "MRK",
          "PFE",
          "TRV",
          "JNJ",
          "WMT",
          "MCD",
          "PG",
          "VZ",
          "KO",
          "DOW"
         ],
         "y": [
          0.06971059421857216,
          0.24542516469208628,
          0.04845867810413747,
          0.09783374531986383,
          0.158282495154012,
          0.16025024040602892,
          0.17462349959432028,
          0.22651467808766876,
          0.24247065681737331,
          0.030040194385855097,
          0.15629419225674757,
          0.05815698864711149,
          0.0818994702060834,
          0.2087915076801033,
          -0.015784837271981166,
          0.059291302562522234,
          0.23554130343005886,
          -0.03654510265860723,
          -0.030114863016054084,
          0.10800064249656662,
          0.10882470511679808,
          0.08787993863107979,
          0.11795824148344307,
          0.07979906952744723,
          0.09826436272923185,
          0.19176398380021892,
          0.1018298282429475,
          0.06634750418118691,
          0.08718681204353278,
          -0.026978366953505684
         ]
        },
        {
         "marker": {
          "color": "rgb(204,204,204)"
         },
         "name": "Expected Return",
         "type": "bar",
         "uid": "ad134170-3b85-4be0-ad59-cd56675cb1cf",
         "x": [
          "CAT",
          "MSFT",
          "GS",
          "INTC",
          "AAPL",
          "JPM",
          "CSCO",
          "BA",
          "V",
          "CVX",
          "NKE",
          "MMM",
          "AXP",
          "HD",
          "IBM",
          "UTX",
          "UNH",
          "WBA",
          "XOM",
          "DIS",
          "MRK",
          "PFE",
          "TRV",
          "JNJ",
          "WMT",
          "MCD",
          "PG",
          "VZ",
          "KO",
          "DOW"
         ],
         "y": [
          0.05805186681612208,
          0.05755786335328002,
          0.056853677064900826,
          0.05560216902713295,
          0.05536765967724944,
          0.05429451135622443,
          0.05414851693264002,
          0.05386707575455835,
          0.05382275065593644,
          0.050735970196847,
          0.049705231946997885,
          0.04929783248870975,
          0.04902215598956769,
          0.04877380774256807,
          0.04866469222741974,
          0.04863661986738204,
          0.04855887374088506,
          0.04825148955281848,
          0.047714892740509836,
          0.04634753114462126,
          0.04516291950380089,
          0.04485139803428603,
          0.044241558746078755,
          0.04294113585814101,
          0.04055226763186761,
          0.04015283881749928,
          0.039141063996572335,
          0.038928180714047696,
          0.03781572271108558,
          0.026833324296210312
         ]
        }
       ],
       "layout": {
        "shapes": [
         {
          "line": {
           "color": "red",
           "dash": "solid",
           "width": 1
          },
          "type": "line",
          "x0": 0,
          "x1": 1,
          "xref": "paper",
          "y0": 0.0797,
          "y1": 0.0797
         }
        ],
        "title": {
         "text": "Realized Returns vs. Expected Returns",
         "x": 0,
         "xref": "paper"
        },
        "xaxis": {
         "tickangle": 45,
         "title": {
          "font": {
           "color": "#7f7f7f",
           "family": "Courier New, monospace",
           "size": 18
          },
          "text": "Company Tickers"
         }
        },
        "yaxis": {
         "tickformat": "%",
         "title": {
          "font": {
           "color": "#7f7f7f",
           "family": "Courier New, monospace",
           "size": 18
          },
          "text": "Stock Returns"
         }
        }
       }
      },
      "text/html": [
       "<div id=\"0c3225d7-e7e6-4621-9680-04304719216b\" style=\"height: 525px; width: 100%;\" class=\"plotly-graph-div\"></div><script type=\"text/javascript\">require([\"plotly\"], function(Plotly) { window.PLOTLYENV=window.PLOTLYENV || {};window.PLOTLYENV.BASE_URL=\"https://plot.ly\";\n",
       "if (document.getElementById(\"0c3225d7-e7e6-4621-9680-04304719216b\")) {\n",
       "    Plotly.newPlot(\"0c3225d7-e7e6-4621-9680-04304719216b\", [{\"marker\": {\"color\": \"rgb(49,130,189)\"}, \"name\": \"Realized Return\", \"text\": [\"Caterpillar\", \"Microsoft\", \"Goldman Sachs\", \"Intel\", \"Apple\", \"JPMorgan Chase\", \"Cisco Systems\", \"Boeing\", \"Visa\", \"Chevron\", \"Nike\", \"3M\", \"American Express\", \"The Home Depot\", \"IBM\", \"United Technologies\", \"UnitedHealth Group\", \"Walgreens Boots Alliance\", \"ExxonMobil\", \"Walt Disney\", \"Merck & Company\", \"Pfizer\", \"Travelers\", \"Johnson & Johnson\", \"Walmart\", \"McDonald's\", \"Procter & Gamble\", \"Verizon\", \"Coca-Cola\", \"Dow Inc.\"], \"x\": [\"CAT\", \"MSFT\", \"GS\", \"INTC\", \"AAPL\", \"JPM\", \"CSCO\", \"BA\", \"V\", \"CVX\", \"NKE\", \"MMM\", \"AXP\", \"HD\", \"IBM\", \"UTX\", \"UNH\", \"WBA\", \"XOM\", \"DIS\", \"MRK\", \"PFE\", \"TRV\", \"JNJ\", \"WMT\", \"MCD\", \"PG\", \"VZ\", \"KO\", \"DOW\"], \"y\": [0.06971059421857216, 0.24542516469208628, 0.04845867810413747, 0.09783374531986383, 0.158282495154012, 0.16025024040602892, 0.17462349959432028, 0.22651467808766876, 0.24247065681737331, 0.030040194385855097, 0.15629419225674757, 0.05815698864711149, 0.0818994702060834, 0.2087915076801033, -0.015784837271981166, 0.059291302562522234, 0.23554130343005886, -0.03654510265860723, -0.030114863016054084, 0.10800064249656662, 0.10882470511679808, 0.08787993863107979, 0.11795824148344307, 0.07979906952744723, 0.09826436272923185, 0.19176398380021892, 0.1018298282429475, 0.06634750418118691, 0.08718681204353278, -0.026978366953505684], \"type\": \"bar\", \"uid\": \"5d0143f7-fcc1-4119-a15d-53f08cc02301\"}, {\"marker\": {\"color\": \"rgb(204,204,204)\"}, \"name\": \"Expected Return\", \"x\": [\"CAT\", \"MSFT\", \"GS\", \"INTC\", \"AAPL\", \"JPM\", \"CSCO\", \"BA\", \"V\", \"CVX\", \"NKE\", \"MMM\", \"AXP\", \"HD\", \"IBM\", \"UTX\", \"UNH\", \"WBA\", \"XOM\", \"DIS\", \"MRK\", \"PFE\", \"TRV\", \"JNJ\", \"WMT\", \"MCD\", \"PG\", \"VZ\", \"KO\", \"DOW\"], \"y\": [0.05805186681612208, 0.05755786335328002, 0.056853677064900826, 0.05560216902713295, 0.05536765967724944, 0.05429451135622443, 0.05414851693264002, 0.05386707575455835, 0.05382275065593644, 0.050735970196847, 0.049705231946997885, 0.04929783248870975, 0.04902215598956769, 0.04877380774256807, 0.04866469222741974, 0.04863661986738204, 0.04855887374088506, 0.04825148955281848, 0.047714892740509836, 0.04634753114462126, 0.04516291950380089, 0.04485139803428603, 0.044241558746078755, 0.04294113585814101, 0.04055226763186761, 0.04015283881749928, 0.039141063996572335, 0.038928180714047696, 0.03781572271108558, 0.026833324296210312], \"type\": \"bar\", \"uid\": \"ad134170-3b85-4be0-ad59-cd56675cb1cf\"}], {\"shapes\": [{\"line\": {\"color\": \"red\", \"dash\": \"solid\", \"width\": 1}, \"type\": \"line\", \"x0\": 0, \"x1\": 1, \"xref\": \"paper\", \"y0\": 0.0797, \"y1\": 0.0797}], \"title\": {\"text\": \"Realized Returns vs. Expected Returns\", \"x\": 0, \"xref\": \"paper\"}, \"xaxis\": {\"tickangle\": 45, \"title\": {\"font\": {\"color\": \"#7f7f7f\", \"family\": \"Courier New, monospace\", \"size\": 18}, \"text\": \"Company Tickers\"}}, \"yaxis\": {\"tickformat\": \"%\", \"title\": {\"font\": {\"color\": \"#7f7f7f\", \"family\": \"Courier New, monospace\", \"size\": 18}, \"text\": \"Stock Returns\"}}}, {\"showLink\": false, \"linkText\": \"Export to plot.ly\", \"plotlyServerURL\": \"https://plot.ly\"}); \n",
       "}\n",
       "});</script><script type=\"text/javascript\">window.addEventListener(\"resize\", function(){if (document.getElementById(\"0c3225d7-e7e6-4621-9680-04304719216b\")) {window._Plotly.Plots.resize(document.getElementById(\"0c3225d7-e7e6-4621-9680-04304719216b\"));};})</script>"
      ],
      "text/vnd.plotly.v1+html": [
       "<div id=\"0c3225d7-e7e6-4621-9680-04304719216b\" style=\"height: 525px; width: 100%;\" class=\"plotly-graph-div\"></div><script type=\"text/javascript\">require([\"plotly\"], function(Plotly) { window.PLOTLYENV=window.PLOTLYENV || {};window.PLOTLYENV.BASE_URL=\"https://plot.ly\";\n",
       "if (document.getElementById(\"0c3225d7-e7e6-4621-9680-04304719216b\")) {\n",
       "    Plotly.newPlot(\"0c3225d7-e7e6-4621-9680-04304719216b\", [{\"marker\": {\"color\": \"rgb(49,130,189)\"}, \"name\": \"Realized Return\", \"text\": [\"Caterpillar\", \"Microsoft\", \"Goldman Sachs\", \"Intel\", \"Apple\", \"JPMorgan Chase\", \"Cisco Systems\", \"Boeing\", \"Visa\", \"Chevron\", \"Nike\", \"3M\", \"American Express\", \"The Home Depot\", \"IBM\", \"United Technologies\", \"UnitedHealth Group\", \"Walgreens Boots Alliance\", \"ExxonMobil\", \"Walt Disney\", \"Merck & Company\", \"Pfizer\", \"Travelers\", \"Johnson & Johnson\", \"Walmart\", \"McDonald's\", \"Procter & Gamble\", \"Verizon\", \"Coca-Cola\", \"Dow Inc.\"], \"x\": [\"CAT\", \"MSFT\", \"GS\", \"INTC\", \"AAPL\", \"JPM\", \"CSCO\", \"BA\", \"V\", \"CVX\", \"NKE\", \"MMM\", \"AXP\", \"HD\", \"IBM\", \"UTX\", \"UNH\", \"WBA\", \"XOM\", \"DIS\", \"MRK\", \"PFE\", \"TRV\", \"JNJ\", \"WMT\", \"MCD\", \"PG\", \"VZ\", \"KO\", \"DOW\"], \"y\": [0.06971059421857216, 0.24542516469208628, 0.04845867810413747, 0.09783374531986383, 0.158282495154012, 0.16025024040602892, 0.17462349959432028, 0.22651467808766876, 0.24247065681737331, 0.030040194385855097, 0.15629419225674757, 0.05815698864711149, 0.0818994702060834, 0.2087915076801033, -0.015784837271981166, 0.059291302562522234, 0.23554130343005886, -0.03654510265860723, -0.030114863016054084, 0.10800064249656662, 0.10882470511679808, 0.08787993863107979, 0.11795824148344307, 0.07979906952744723, 0.09826436272923185, 0.19176398380021892, 0.1018298282429475, 0.06634750418118691, 0.08718681204353278, -0.026978366953505684], \"type\": \"bar\", \"uid\": \"5d0143f7-fcc1-4119-a15d-53f08cc02301\"}, {\"marker\": {\"color\": \"rgb(204,204,204)\"}, \"name\": \"Expected Return\", \"x\": [\"CAT\", \"MSFT\", \"GS\", \"INTC\", \"AAPL\", \"JPM\", \"CSCO\", \"BA\", \"V\", \"CVX\", \"NKE\", \"MMM\", \"AXP\", \"HD\", \"IBM\", \"UTX\", \"UNH\", \"WBA\", \"XOM\", \"DIS\", \"MRK\", \"PFE\", \"TRV\", \"JNJ\", \"WMT\", \"MCD\", \"PG\", \"VZ\", \"KO\", \"DOW\"], \"y\": [0.05805186681612208, 0.05755786335328002, 0.056853677064900826, 0.05560216902713295, 0.05536765967724944, 0.05429451135622443, 0.05414851693264002, 0.05386707575455835, 0.05382275065593644, 0.050735970196847, 0.049705231946997885, 0.04929783248870975, 0.04902215598956769, 0.04877380774256807, 0.04866469222741974, 0.04863661986738204, 0.04855887374088506, 0.04825148955281848, 0.047714892740509836, 0.04634753114462126, 0.04516291950380089, 0.04485139803428603, 0.044241558746078755, 0.04294113585814101, 0.04055226763186761, 0.04015283881749928, 0.039141063996572335, 0.038928180714047696, 0.03781572271108558, 0.026833324296210312], \"type\": \"bar\", \"uid\": \"ad134170-3b85-4be0-ad59-cd56675cb1cf\"}], {\"shapes\": [{\"line\": {\"color\": \"red\", \"dash\": \"solid\", \"width\": 1}, \"type\": \"line\", \"x0\": 0, \"x1\": 1, \"xref\": \"paper\", \"y0\": 0.0797, \"y1\": 0.0797}], \"title\": {\"text\": \"Realized Returns vs. Expected Returns\", \"x\": 0, \"xref\": \"paper\"}, \"xaxis\": {\"tickangle\": 45, \"title\": {\"font\": {\"color\": \"#7f7f7f\", \"family\": \"Courier New, monospace\", \"size\": 18}, \"text\": \"Company Tickers\"}}, \"yaxis\": {\"tickformat\": \"%\", \"title\": {\"font\": {\"color\": \"#7f7f7f\", \"family\": \"Courier New, monospace\", \"size\": 18}, \"text\": \"Stock Returns\"}}}, {\"showLink\": false, \"linkText\": \"Export to plot.ly\", \"plotlyServerURL\": \"https://plot.ly\"}); \n",
       "}\n",
       "});</script><script type=\"text/javascript\">window.addEventListener(\"resize\", function(){if (document.getElementById(\"0c3225d7-e7e6-4621-9680-04304719216b\")) {window._Plotly.Plots.resize(document.getElementById(\"0c3225d7-e7e6-4621-9680-04304719216b\"));};})</script>"
      ]
     },
     "metadata": {},
     "output_type": "display_data"
    }
   ],
   "source": [
    "# Compare the Expected Return and Realized Return\n",
    "\n",
    "trace0 = go.Bar(\n",
    "    x = df.index,\n",
    "    y = df['Realized_Return'],\n",
    "    name = 'Realized Return',\n",
    "    text = df['Company'],\n",
    "    marker = dict(\n",
    "        color='rgb(49,130,189)',\n",
    "    )\n",
    ")\n",
    "\n",
    "trace1 = go.Bar(\n",
    "    x = df.index,\n",
    "    y = df['Expected_Return'],\n",
    "    name = 'Expected Return',\n",
    "    marker = dict(\n",
    "        color='rgb(204,204,204)',\n",
    "    )\n",
    ")\n",
    "\n",
    "\n",
    "\n",
    "layout = go.Layout(\n",
    "    title=go.layout.Title(\n",
    "        text='Realized Returns vs. Expected Returns',\n",
    "        xref='paper',\n",
    "        x=0\n",
    "    ),\n",
    "    xaxis=go.layout.XAxis(\n",
    "        tickangle=45,\n",
    "        title=go.layout.xaxis.Title(\n",
    "            text='Company Tickers',\n",
    "            font=dict(\n",
    "                family='Courier New, monospace',\n",
    "                size=18,\n",
    "                color='#7f7f7f'\n",
    "            )\n",
    "        )\n",
    "    ),\n",
    "    yaxis=go.layout.YAxis(\n",
    "        tickformat = '%',\n",
    "        title=go.layout.yaxis.Title(\n",
    "            text='Stock Returns',\n",
    "            font=dict(\n",
    "                family='Courier New, monospace',\n",
    "                size=18,\n",
    "                color='#7f7f7f'\n",
    "            )\n",
    "        )\n",
    "    ),\n",
    "    shapes=[\n",
    "            {\n",
    "                'type': 'line',\n",
    "                'xref': 'paper',\n",
    "                'x0': 0,\n",
    "                'y0': 0.0797, # use absolute value or variable here\n",
    "                'x1': 1,\n",
    "                'y1': 0.0797, # ditto\n",
    "                'line': {\n",
    "                    'color': 'red',\n",
    "                    'width': 1,\n",
    "                    'dash': 'solid',\n",
    "                },\n",
    "            },\n",
    "        ],\n",
    "    \n",
    ")\n",
    "\n",
    "data = [trace0,trace1]\n",
    "fig = go.Figure(data=data, layout=layout)\n",
    "py.iplot(fig)"
   ]
  },
  {
   "cell_type": "code",
   "execution_count": 26,
   "metadata": {},
   "outputs": [
    {
     "data": {
      "application/vnd.plotly.v1+json": {
       "config": {
        "linkText": "Export to plot.ly",
        "plotlyServerURL": "https://plot.ly",
        "showLink": false
       },
       "data": [
        {
         "marker": {
          "color": "rgb(49,130,189)"
         },
         "name": "Alpha",
         "text": [
          "Visa",
          "Microsoft",
          "UnitedHealth Group",
          "Boeing",
          "The Home Depot",
          "McDonald's",
          "Cisco Systems",
          "Nike",
          "JPMorgan Chase",
          "Apple",
          "Travelers",
          "Merck & Company",
          "Procter & Gamble",
          "Walt Disney",
          "Walmart",
          "Coca-Cola",
          "Pfizer",
          "Intel",
          "Johnson & Johnson",
          "American Express",
          "Verizon",
          "Caterpillar",
          "United Technologies",
          "3M",
          "Goldman Sachs",
          "Chevron",
          "Dow Inc.",
          "IBM",
          "ExxonMobil",
          "Walgreens Boots Alliance"
         ],
         "type": "bar",
         "uid": "c9e18851-accb-4f1c-9af4-850391092a61",
         "x": [
          "V",
          "MSFT",
          "UNH",
          "BA",
          "HD",
          "MCD",
          "CSCO",
          "NKE",
          "JPM",
          "AAPL",
          "TRV",
          "MRK",
          "PG",
          "DIS",
          "WMT",
          "KO",
          "PFE",
          "INTC",
          "JNJ",
          "AXP",
          "VZ",
          "CAT",
          "UTX",
          "MMM",
          "GS",
          "CVX",
          "DOW",
          "IBM",
          "XOM",
          "WBA"
         ],
         "y": [
          0.18864790616143687,
          0.18786730133880625,
          0.1869824296891738,
          0.1726476023331104,
          0.16001769993753523,
          0.15161114498271963,
          0.12047498266168025,
          0.10658896030974968,
          0.10595572904980449,
          0.10291483547676256,
          0.07371668273736431,
          0.06366178561299718,
          0.06268876424637518,
          0.06165311135194536,
          0.05771209509736424,
          0.049371089332447195,
          0.04302854059679376,
          0.04223157629273088,
          0.03685793366930622,
          0.03287731421651571,
          0.02741932346713922,
          0.011658727402450081,
          0.010654682695140194,
          0.008859156158401736,
          -0.008394998960763358,
          -0.020695775810991905,
          -0.05381169124971599,
          -0.0644495294994009,
          -0.07782975575656392,
          -0.08479659221142571
         ]
        }
       ],
       "layout": {
        "title": {
         "text": "Comparison on Alpha (Difference in Returns) Across 30 Dow Jones Stocks",
         "x": 0,
         "xref": "paper"
        },
        "xaxis": {
         "tickangle": 45,
         "title": {
          "font": {
           "color": "#7f7f7f",
           "family": "Courier New, monospace",
           "size": 18
          },
          "text": "Company Tickers"
         }
        },
        "yaxis": {
         "tickformat": "%",
         "title": {
          "font": {
           "color": "#7f7f7f",
           "family": "Courier New, monospace",
           "size": 18
          },
          "text": "$\\Delta$"
         }
        }
       }
      },
      "text/html": [
       "<div id=\"e63fead9-fd07-4821-9fd5-9fa1eb141fb4\" style=\"height: 525px; width: 100%;\" class=\"plotly-graph-div\"></div><script type=\"text/javascript\">require([\"plotly\"], function(Plotly) { window.PLOTLYENV=window.PLOTLYENV || {};window.PLOTLYENV.BASE_URL=\"https://plot.ly\";\n",
       "if (document.getElementById(\"e63fead9-fd07-4821-9fd5-9fa1eb141fb4\")) {\n",
       "    Plotly.newPlot(\"e63fead9-fd07-4821-9fd5-9fa1eb141fb4\", [{\"marker\": {\"color\": \"rgb(49,130,189)\"}, \"name\": \"Alpha\", \"text\": [\"Visa\", \"Microsoft\", \"UnitedHealth Group\", \"Boeing\", \"The Home Depot\", \"McDonald's\", \"Cisco Systems\", \"Nike\", \"JPMorgan Chase\", \"Apple\", \"Travelers\", \"Merck & Company\", \"Procter & Gamble\", \"Walt Disney\", \"Walmart\", \"Coca-Cola\", \"Pfizer\", \"Intel\", \"Johnson & Johnson\", \"American Express\", \"Verizon\", \"Caterpillar\", \"United Technologies\", \"3M\", \"Goldman Sachs\", \"Chevron\", \"Dow Inc.\", \"IBM\", \"ExxonMobil\", \"Walgreens Boots Alliance\"], \"x\": [\"V\", \"MSFT\", \"UNH\", \"BA\", \"HD\", \"MCD\", \"CSCO\", \"NKE\", \"JPM\", \"AAPL\", \"TRV\", \"MRK\", \"PG\", \"DIS\", \"WMT\", \"KO\", \"PFE\", \"INTC\", \"JNJ\", \"AXP\", \"VZ\", \"CAT\", \"UTX\", \"MMM\", \"GS\", \"CVX\", \"DOW\", \"IBM\", \"XOM\", \"WBA\"], \"y\": [0.18864790616143687, 0.18786730133880625, 0.1869824296891738, 0.1726476023331104, 0.16001769993753523, 0.15161114498271963, 0.12047498266168025, 0.10658896030974968, 0.10595572904980449, 0.10291483547676256, 0.07371668273736431, 0.06366178561299718, 0.06268876424637518, 0.06165311135194536, 0.05771209509736424, 0.049371089332447195, 0.04302854059679376, 0.04223157629273088, 0.03685793366930622, 0.03287731421651571, 0.02741932346713922, 0.011658727402450081, 0.010654682695140194, 0.008859156158401736, -0.008394998960763358, -0.020695775810991905, -0.05381169124971599, -0.0644495294994009, -0.07782975575656392, -0.08479659221142571], \"type\": \"bar\", \"uid\": \"c9e18851-accb-4f1c-9af4-850391092a61\"}], {\"title\": {\"text\": \"Comparison on Alpha (Difference in Returns) Across 30 Dow Jones Stocks\", \"x\": 0, \"xref\": \"paper\"}, \"xaxis\": {\"tickangle\": 45, \"title\": {\"font\": {\"color\": \"#7f7f7f\", \"family\": \"Courier New, monospace\", \"size\": 18}, \"text\": \"Company Tickers\"}}, \"yaxis\": {\"tickformat\": \"%\", \"title\": {\"font\": {\"color\": \"#7f7f7f\", \"family\": \"Courier New, monospace\", \"size\": 18}, \"text\": \"$\\\\Delta$\"}}}, {\"showLink\": false, \"linkText\": \"Export to plot.ly\", \"plotlyServerURL\": \"https://plot.ly\"}); \n",
       "}\n",
       "});</script><script type=\"text/javascript\">window.addEventListener(\"resize\", function(){if (document.getElementById(\"e63fead9-fd07-4821-9fd5-9fa1eb141fb4\")) {window._Plotly.Plots.resize(document.getElementById(\"e63fead9-fd07-4821-9fd5-9fa1eb141fb4\"));};})</script>"
      ],
      "text/vnd.plotly.v1+html": [
       "<div id=\"e63fead9-fd07-4821-9fd5-9fa1eb141fb4\" style=\"height: 525px; width: 100%;\" class=\"plotly-graph-div\"></div><script type=\"text/javascript\">require([\"plotly\"], function(Plotly) { window.PLOTLYENV=window.PLOTLYENV || {};window.PLOTLYENV.BASE_URL=\"https://plot.ly\";\n",
       "if (document.getElementById(\"e63fead9-fd07-4821-9fd5-9fa1eb141fb4\")) {\n",
       "    Plotly.newPlot(\"e63fead9-fd07-4821-9fd5-9fa1eb141fb4\", [{\"marker\": {\"color\": \"rgb(49,130,189)\"}, \"name\": \"Alpha\", \"text\": [\"Visa\", \"Microsoft\", \"UnitedHealth Group\", \"Boeing\", \"The Home Depot\", \"McDonald's\", \"Cisco Systems\", \"Nike\", \"JPMorgan Chase\", \"Apple\", \"Travelers\", \"Merck & Company\", \"Procter & Gamble\", \"Walt Disney\", \"Walmart\", \"Coca-Cola\", \"Pfizer\", \"Intel\", \"Johnson & Johnson\", \"American Express\", \"Verizon\", \"Caterpillar\", \"United Technologies\", \"3M\", \"Goldman Sachs\", \"Chevron\", \"Dow Inc.\", \"IBM\", \"ExxonMobil\", \"Walgreens Boots Alliance\"], \"x\": [\"V\", \"MSFT\", \"UNH\", \"BA\", \"HD\", \"MCD\", \"CSCO\", \"NKE\", \"JPM\", \"AAPL\", \"TRV\", \"MRK\", \"PG\", \"DIS\", \"WMT\", \"KO\", \"PFE\", \"INTC\", \"JNJ\", \"AXP\", \"VZ\", \"CAT\", \"UTX\", \"MMM\", \"GS\", \"CVX\", \"DOW\", \"IBM\", \"XOM\", \"WBA\"], \"y\": [0.18864790616143687, 0.18786730133880625, 0.1869824296891738, 0.1726476023331104, 0.16001769993753523, 0.15161114498271963, 0.12047498266168025, 0.10658896030974968, 0.10595572904980449, 0.10291483547676256, 0.07371668273736431, 0.06366178561299718, 0.06268876424637518, 0.06165311135194536, 0.05771209509736424, 0.049371089332447195, 0.04302854059679376, 0.04223157629273088, 0.03685793366930622, 0.03287731421651571, 0.02741932346713922, 0.011658727402450081, 0.010654682695140194, 0.008859156158401736, -0.008394998960763358, -0.020695775810991905, -0.05381169124971599, -0.0644495294994009, -0.07782975575656392, -0.08479659221142571], \"type\": \"bar\", \"uid\": \"c9e18851-accb-4f1c-9af4-850391092a61\"}], {\"title\": {\"text\": \"Comparison on Alpha (Difference in Returns) Across 30 Dow Jones Stocks\", \"x\": 0, \"xref\": \"paper\"}, \"xaxis\": {\"tickangle\": 45, \"title\": {\"font\": {\"color\": \"#7f7f7f\", \"family\": \"Courier New, monospace\", \"size\": 18}, \"text\": \"Company Tickers\"}}, \"yaxis\": {\"tickformat\": \"%\", \"title\": {\"font\": {\"color\": \"#7f7f7f\", \"family\": \"Courier New, monospace\", \"size\": 18}, \"text\": \"$\\\\Delta$\"}}}, {\"showLink\": false, \"linkText\": \"Export to plot.ly\", \"plotlyServerURL\": \"https://plot.ly\"}); \n",
       "}\n",
       "});</script><script type=\"text/javascript\">window.addEventListener(\"resize\", function(){if (document.getElementById(\"e63fead9-fd07-4821-9fd5-9fa1eb141fb4\")) {window._Plotly.Plots.resize(document.getElementById(\"e63fead9-fd07-4821-9fd5-9fa1eb141fb4\"));};})</script>"
      ]
     },
     "metadata": {},
     "output_type": "display_data"
    }
   ],
   "source": [
    "\n",
    "df = df.sort_values('Alpha',ascending = False)\n",
    "\n",
    "trace0 = go.Bar(\n",
    "    x = df.index,\n",
    "    y = df['Alpha'],\n",
    "    name = 'Alpha',\n",
    "    text = df['Company'],\n",
    "    marker = dict(\n",
    "        color='rgb(49,130,189)',\n",
    "    )\n",
    ")\n",
    "\n",
    "layout = go.Layout(\n",
    "    title=go.layout.Title(\n",
    "        text='Comparison on Alpha (Difference in Returns) Across 30 Dow Jones Stocks',\n",
    "        xref='paper',\n",
    "        x=0\n",
    "    ),\n",
    "    xaxis=go.layout.XAxis(\n",
    "        tickangle=45,\n",
    "        title=go.layout.xaxis.Title(\n",
    "            text='Company Tickers',\n",
    "            font=dict(\n",
    "                family='Courier New, monospace',\n",
    "                size=18,\n",
    "                color='#7f7f7f'\n",
    "            )\n",
    "        )\n",
    "    ),\n",
    "    yaxis=go.layout.YAxis(\n",
    "        tickformat = '%',\n",
    "        title=go.layout.yaxis.Title(\n",
    "            text='$\\Delta$',\n",
    "            font=dict(\n",
    "                family='Courier New, monospace',\n",
    "                size=18,\n",
    "                color='#7f7f7f'\n",
    "            )\n",
    "        )\n",
    "    )\n",
    ")\n",
    "\n",
    "data = [trace0]\n",
    "fig = go.Figure(data=data, layout=layout)\n",
    "py.iplot(fig)"
   ]
  },
  {
   "cell_type": "code",
   "execution_count": 27,
   "metadata": {},
   "outputs": [
    {
     "data": {
      "application/vnd.plotly.v1+json": {
       "config": {
        "linkText": "Export to plot.ly",
        "plotlyServerURL": "https://plot.ly",
        "showLink": false
       },
       "data": [
        {
         "marker": {
          "color": "rgb(49,130,189)"
         },
         "name": "Realized Return",
         "text": "Stock Returns",
         "type": "bar",
         "uid": "59b9ed9d-7b72-47e2-9a0f-80ed89650f38",
         "x": [
          "Managed health care",
          "Aerospace and defense",
          "Apparel",
          "Food",
          "Information technologies",
          "Financial services",
          "Broadcasting and entertainment",
          "Consumer goods",
          "Pharmaceuticals",
          "Retail",
          "Construction and mining equipment",
          "Telecommunication",
          "Conglomerate",
          "Oil & gas",
          "Chemical industry"
         ],
         "y": [
          0.23554130343005886,
          0.22651467808766876,
          0.15629419225674757,
          0.13947539792187585,
          0.13207601349766024,
          0.13020745740341322,
          0.10800064249656662,
          0.1018298282429475,
          0.09216790442510836,
          0.0901702559169093,
          0.06971059421857216,
          0.06634750418118691,
          0.05872414560481686,
          -3.733431509949335e-05,
          -0.026978366953505684
         ]
        }
       ],
       "layout": {
        "autosize": false,
        "height": 1000,
        "margin": {
         "b": 300,
         "l": 50,
         "pad": 4,
         "r": 50,
         "t": 100
        },
        "title": {
         "text": "Realized Returns by Industry",
         "x": 0,
         "xref": "paper"
        },
        "width": 800,
        "xaxis": {
         "tickangle": 30,
         "title": {
          "font": {
           "color": "#7f7f7f",
           "family": "Courier New, monospace",
           "size": 18
          },
          "text": "Industry"
         }
        },
        "yaxis": {
         "tickformat": "%",
         "title": {
          "font": {
           "color": "#7f7f7f",
           "family": "Courier New, monospace",
           "size": 18
          },
          "text": "Stock Returns"
         }
        }
       }
      },
      "text/html": [
       "<div id=\"a49cc21f-559e-443b-a515-8323fd003af8\" style=\"height: 1000px; width: 800px;\" class=\"plotly-graph-div\"></div><script type=\"text/javascript\">require([\"plotly\"], function(Plotly) { window.PLOTLYENV=window.PLOTLYENV || {};window.PLOTLYENV.BASE_URL=\"https://plot.ly\";\n",
       "if (document.getElementById(\"a49cc21f-559e-443b-a515-8323fd003af8\")) {\n",
       "    Plotly.newPlot(\"a49cc21f-559e-443b-a515-8323fd003af8\", [{\"marker\": {\"color\": \"rgb(49,130,189)\"}, \"name\": \"Realized Return\", \"text\": \"Stock Returns\", \"x\": [\"Managed health care\", \"Aerospace and defense\", \"Apparel\", \"Food\", \"Information technologies\", \"Financial services\", \"Broadcasting and entertainment\", \"Consumer goods\", \"Pharmaceuticals\", \"Retail\", \"Construction and mining equipment\", \"Telecommunication\", \"Conglomerate\", \"Oil & gas\", \"Chemical industry\"], \"y\": [0.23554130343005886, 0.22651467808766876, 0.15629419225674757, 0.13947539792187585, 0.13207601349766024, 0.13020745740341322, 0.10800064249656662, 0.1018298282429475, 0.09216790442510836, 0.0901702559169093, 0.06971059421857216, 0.06634750418118691, 0.05872414560481686, -3.733431509949335e-05, -0.026978366953505684], \"type\": \"bar\", \"uid\": \"59b9ed9d-7b72-47e2-9a0f-80ed89650f38\"}], {\"autosize\": false, \"height\": 1000, \"margin\": {\"b\": 300, \"l\": 50, \"pad\": 4, \"r\": 50, \"t\": 100}, \"title\": {\"text\": \"Realized Returns by Industry\", \"x\": 0, \"xref\": \"paper\"}, \"width\": 800, \"xaxis\": {\"tickangle\": 30, \"title\": {\"font\": {\"color\": \"#7f7f7f\", \"family\": \"Courier New, monospace\", \"size\": 18}, \"text\": \"Industry\"}}, \"yaxis\": {\"tickformat\": \"%\", \"title\": {\"font\": {\"color\": \"#7f7f7f\", \"family\": \"Courier New, monospace\", \"size\": 18}, \"text\": \"Stock Returns\"}}}, {\"showLink\": false, \"linkText\": \"Export to plot.ly\", \"plotlyServerURL\": \"https://plot.ly\"}); \n",
       "}\n",
       "});</script>"
      ],
      "text/vnd.plotly.v1+html": [
       "<div id=\"a49cc21f-559e-443b-a515-8323fd003af8\" style=\"height: 1000px; width: 800px;\" class=\"plotly-graph-div\"></div><script type=\"text/javascript\">require([\"plotly\"], function(Plotly) { window.PLOTLYENV=window.PLOTLYENV || {};window.PLOTLYENV.BASE_URL=\"https://plot.ly\";\n",
       "if (document.getElementById(\"a49cc21f-559e-443b-a515-8323fd003af8\")) {\n",
       "    Plotly.newPlot(\"a49cc21f-559e-443b-a515-8323fd003af8\", [{\"marker\": {\"color\": \"rgb(49,130,189)\"}, \"name\": \"Realized Return\", \"text\": \"Stock Returns\", \"x\": [\"Managed health care\", \"Aerospace and defense\", \"Apparel\", \"Food\", \"Information technologies\", \"Financial services\", \"Broadcasting and entertainment\", \"Consumer goods\", \"Pharmaceuticals\", \"Retail\", \"Construction and mining equipment\", \"Telecommunication\", \"Conglomerate\", \"Oil & gas\", \"Chemical industry\"], \"y\": [0.23554130343005886, 0.22651467808766876, 0.15629419225674757, 0.13947539792187585, 0.13207601349766024, 0.13020745740341322, 0.10800064249656662, 0.1018298282429475, 0.09216790442510836, 0.0901702559169093, 0.06971059421857216, 0.06634750418118691, 0.05872414560481686, -3.733431509949335e-05, -0.026978366953505684], \"type\": \"bar\", \"uid\": \"59b9ed9d-7b72-47e2-9a0f-80ed89650f38\"}], {\"autosize\": false, \"height\": 1000, \"margin\": {\"b\": 300, \"l\": 50, \"pad\": 4, \"r\": 50, \"t\": 100}, \"title\": {\"text\": \"Realized Returns by Industry\", \"x\": 0, \"xref\": \"paper\"}, \"width\": 800, \"xaxis\": {\"tickangle\": 30, \"title\": {\"font\": {\"color\": \"#7f7f7f\", \"family\": \"Courier New, monospace\", \"size\": 18}, \"text\": \"Industry\"}}, \"yaxis\": {\"tickformat\": \"%\", \"title\": {\"font\": {\"color\": \"#7f7f7f\", \"family\": \"Courier New, monospace\", \"size\": 18}, \"text\": \"Stock Returns\"}}}, {\"showLink\": false, \"linkText\": \"Export to plot.ly\", \"plotlyServerURL\": \"https://plot.ly\"}); \n",
       "}\n",
       "});</script>"
      ]
     },
     "metadata": {},
     "output_type": "display_data"
    }
   ],
   "source": [
    "# Compare the realized returns by industry\n",
    "df_industry = df.groupby('Industry', as_index=False)['Realized_Return'].mean()\n",
    "df_industry = df_industry.sort_values('Realized_Return',ascending = False)\n",
    "\n",
    "trace0 = go.Bar(\n",
    "    x = df_industry['Industry'],\n",
    "    y = df_industry['Realized_Return'],\n",
    "    name = 'Realized Return',\n",
    "    text = 'Stock Returns',\n",
    "    marker = dict(\n",
    "        color='rgb(49,130,189)',\n",
    "    )\n",
    ")\n",
    "\n",
    "layout = go.Layout(\n",
    "     autosize=False,\n",
    "     width = 800,\n",
    "     height = 1000,\n",
    "     margin=go.layout.Margin(\n",
    "        l=50,\n",
    "        r=50,\n",
    "        b=300,\n",
    "        t=100,\n",
    "        pad=4\n",
    "    ),\n",
    "    title=go.layout.Title(\n",
    "        text='Realized Returns by Industry',\n",
    "        xref='paper',\n",
    "        x=0\n",
    "    ),\n",
    "    xaxis=go.layout.XAxis(\n",
    "        tickangle=30,\n",
    "        title=go.layout.xaxis.Title(\n",
    "            text='Industry',\n",
    "            font=dict(\n",
    "                family='Courier New, monospace',\n",
    "                size=18,\n",
    "                color='#7f7f7f'\n",
    "            )\n",
    "        )\n",
    "    ),\n",
    "    yaxis=go.layout.YAxis(\n",
    "        tickformat = '%',\n",
    "        title=go.layout.yaxis.Title(\n",
    "            text='Stock Returns',\n",
    "            font=dict(\n",
    "                family='Courier New, monospace',\n",
    "                size=18,\n",
    "                color='#7f7f7f'\n",
    "            )\n",
    "        )\n",
    "    )\n",
    ")\n",
    "\n",
    "data = [trace0]\n",
    "fig = go.Figure(data=data, layout=layout)\n",
    "py.iplot(fig)"
   ]
  },
  {
   "cell_type": "markdown",
   "metadata": {},
   "source": [
    "## Section IV: Construct and Visualize the Efficient Froniter\n",
    "### Select the Top Three Performers on Stock Returns and Construct the Efficient Froniter \n",
    "1. Build a portfolio composed of 30 companies from the Dow Jones list\n",
    "2. Assign random weights to each stock in the portfolio\n",
    "3. Calculate the expected portfolio return and exptected portfolio volatility\n",
    "4. Generate 1000 random portfoilos and construct a new data frame \n",
    "5. Plot the result from the simulation"
   ]
  },
  {
   "cell_type": "code",
   "execution_count": 41,
   "metadata": {},
   "outputs": [
    {
     "data": {
      "text/html": [
       "<div>\n",
       "<style scoped>\n",
       "    .dataframe tbody tr th:only-of-type {\n",
       "        vertical-align: middle;\n",
       "    }\n",
       "\n",
       "    .dataframe tbody tr th {\n",
       "        vertical-align: top;\n",
       "    }\n",
       "\n",
       "    .dataframe thead th {\n",
       "        text-align: right;\n",
       "    }\n",
       "</style>\n",
       "<table border=\"1\" class=\"dataframe\">\n",
       "  <thead>\n",
       "    <tr style=\"text-align: right;\">\n",
       "      <th></th>\n",
       "      <th>BA</th>\n",
       "      <th>MSFT</th>\n",
       "      <th>UNH</th>\n",
       "    </tr>\n",
       "  </thead>\n",
       "  <tbody>\n",
       "    <tr>\n",
       "      <th>BA</th>\n",
       "      <td>0.000241</td>\n",
       "      <td>0.000099</td>\n",
       "      <td>0.000075</td>\n",
       "    </tr>\n",
       "    <tr>\n",
       "      <th>MSFT</th>\n",
       "      <td>0.000099</td>\n",
       "      <td>0.000216</td>\n",
       "      <td>0.000084</td>\n",
       "    </tr>\n",
       "    <tr>\n",
       "      <th>UNH</th>\n",
       "      <td>0.000075</td>\n",
       "      <td>0.000084</td>\n",
       "      <td>0.000181</td>\n",
       "    </tr>\n",
       "  </tbody>\n",
       "</table>\n",
       "</div>"
      ],
      "text/plain": [
       "            BA      MSFT       UNH\n",
       "BA    0.000241  0.000099  0.000075\n",
       "MSFT  0.000099  0.000216  0.000084\n",
       "UNH   0.000075  0.000084  0.000181"
      ]
     },
     "execution_count": 41,
     "metadata": {},
     "output_type": "execute_result"
    }
   ],
   "source": [
    "# Select Top Three Performers\n",
    "top_performers = ['BA','MSFT','UNH']\n",
    "top_returns = sec_returns[top_performers]"
   ]
  },
  {
   "cell_type": "code",
   "execution_count": 29,
   "metadata": {},
   "outputs": [],
   "source": [
    "#Set the figure sizes\n",
    "plt.rcParams['figure.figsize'] = (10,8)"
   ]
  },
  {
   "cell_type": "code",
   "execution_count": 30,
   "metadata": {},
   "outputs": [
    {
     "data": {
      "image/png": "[encoded data removed]",
      "text/plain": [
       "<Figure size 720x576 with 1 Axes>"
      ]
     },
     "metadata": {
      "needs_background": "light"
     },
     "output_type": "display_data"
    }
   ],
   "source": [
    "# Plot stock price movements over the past 5 years\n",
    "(sec_data[top_performers]/sec_data[top_performers].iloc[0]*100).plot();\n",
    "plt.ylabel('Stock Prices');\n",
    "plt.title('Price Movements of Top Three Performers');"
   ]
  },
  {
   "cell_type": "code",
   "execution_count": 31,
   "metadata": {},
   "outputs": [
    {
     "data": {
      "text/plain": [
       "array([[0., 0., 0., ..., 0., 0., 0.],\n",
       "       [0., 0., 0., ..., 0., 0., 0.],\n",
       "       [0., 0., 0., ..., 0., 0., 0.]])"
      ]
     },
     "execution_count": 31,
     "metadata": {},
     "output_type": "execute_result"
    }
   ],
   "source": [
    "# Set the number of assets to assign weights\n",
    "num_assets = 3\n",
    "\n",
    "# Set the number of runs of random portfolio weights\n",
    "num_portfolios = 1000\n",
    "\n",
    "# Set up array to hold results\n",
    "results = np.zeros((num_assets,num_portfolios))\n",
    "results"
   ]
  },
  {
   "cell_type": "code",
   "execution_count": 33,
   "metadata": {},
   "outputs": [
    {
     "data": {
      "text/plain": [
       "(array([0.35226511, 0.54491812, 0.10281677]), 1.0)"
      ]
     },
     "execution_count": 33,
     "metadata": {},
     "output_type": "execute_result"
    }
   ],
   "source": [
    "#Generate the random weights for each company \n",
    "weights = np.random.random(num_assets)\n",
    "weights /= np.sum(weights)\n",
    "weights,sum(weights)"
   ]
  },
  {
   "cell_type": "code",
   "execution_count": 36,
   "metadata": {},
   "outputs": [
    {
     "data": {
      "text/plain": [
       "pandas.core.series.Series"
      ]
     },
     "execution_count": 36,
     "metadata": {},
     "output_type": "execute_result"
    }
   ],
   "source": [
    "top_returns.mean()"
   ]
  },
  {
   "cell_type": "code",
   "execution_count": 38,
   "metadata": {},
   "outputs": [
    {
     "data": {
      "text/plain": [
       "BA      0.079793\n",
       "MSFT    0.133737\n",
       "UNH     0.024218\n",
       "dtype: float64"
      ]
     },
     "execution_count": 38,
     "metadata": {},
     "output_type": "execute_result"
    }
   ],
   "source": [
    "# Test the calculation of portfolio returns with random weights \n",
    "top_returns.mean()*250*weights"
   ]
  },
  {
   "cell_type": "code",
   "execution_count": 39,
   "metadata": {},
   "outputs": [
    {
     "data": {
      "text/plain": [
       "0.237747433405155"
      ]
     },
     "execution_count": 39,
     "metadata": {},
     "output_type": "execute_result"
    }
   ],
   "source": [
    "# Expected Portfolio Return\n",
    "np.sum(weights*top_returns.mean()*250)"
   ]
  },
  {
   "cell_type": "code",
   "execution_count": 42,
   "metadata": {},
   "outputs": [
    {
     "data": {
      "text/plain": [
       "0.1928033663084819"
      ]
     },
     "execution_count": 42,
     "metadata": {},
     "output_type": "execute_result"
    }
   ],
   "source": [
    "# Expected Portfolio Volatility\n",
    "np.sqrt(np.dot(weights.T,np.dot(top_returns.cov()*250, weights)))"
   ]
  },
  {
   "cell_type": "code",
   "execution_count": 45,
   "metadata": {},
   "outputs": [
    {
     "name": "stdout",
     "output_type": "stream",
     "text": [
      "[0.74423288 0.20216428 0.05360283]\n"
     ]
    }
   ],
   "source": [
    "import copy\n",
    "\n",
    "pfolio_returns = []\n",
    "pfolio_volatilities = []\n",
    "\n",
    "min = float(\"inf\")\n",
    "min_weights = []\n",
    "\n",
    "for x in range (num_portfolios):\n",
    "    \n",
    "    weights = np.random.random(num_assets)\n",
    "    weights /= np.sum(weights)\n",
    "    pfolio_returns = np.sum(weights * top_returns.mean()) * 250\n",
    "    pfolio_volatilities = np.sqrt(np.dot(weights.T,np.dot(top_returns.cov() * 250, weights)))\n",
    "    \n",
    "    if pfolio_volatilities < min:\n",
    "        min_weights = copy.deepcopy(weights)\n",
    "        \n",
    "    # Store results in results array\n",
    "    results[0,x] = pfolio_returns\n",
    "    results[1,x] = pfolio_volatilities\n",
    "    # Store Sharpe Ratio(return/volatility) - risk free rate \n",
    "    results[2,x] = (results[0,x]- rf)/results[1,x]\n",
    "    \n",
    "print (min_weights)    \n",
    "# convert results array to Pandas DataFrame\n",
    "results_frame = pd.DataFrame(results.T,columns =['Return','Volatility','Sharpe'])\n",
    "\n",
    "#locate position of portfolio with highest Sharpe Ratio\n",
    "max_sharpe_port = results_frame.iloc[results_frame['Sharpe'].idxmax()]\n",
    "#locate positon of portfolio with minimum standard deviation\n",
    "min_vol_port = results_frame.iloc[results_frame['Volatility'].idxmin()]"
   ]
  },
  {
   "cell_type": "code",
   "execution_count": 44,
   "metadata": {},
   "outputs": [
    {
     "data": {
      "text/plain": [
       "0.24522189726504118"
      ]
     },
     "execution_count": 44,
     "metadata": {},
     "output_type": "execute_result"
    }
   ],
   "source": [
    "results_frame.Return.max()"
   ]
  },
  {
   "cell_type": "code",
   "execution_count": 79,
   "metadata": {},
   "outputs": [
    {
     "data": {
      "image/png": "[encoded data removed]",
      "text/plain": [
       "<Figure size 720x576 with 2 Axes>"
      ]
     },
     "metadata": {
      "needs_background": "light"
     },
     "output_type": "display_data"
    }
   ],
   "source": [
    "# # Visualize the effecient froniter from 1000 times simulations \n",
    "plt.scatter(results_frame.Volatility,results_frame.Return,c=results_frame.Sharpe,cmap='RdYlBu')\n",
    "plt.colorbar()\n",
    "plt.xlabel('Expected Volatility')\n",
    "plt.ylabel('Expected Return')\n",
    "plt.title('Efficient Frontier')\n",
    "plt.ylim((0.23,0.25)) \n",
    "plt.grid(True)\n",
    "\n",
    "#plot red star to highlight position of portfolio with highest Sharpe Ratio\n",
    "plt.scatter(max_sharpe_port[1],max_sharpe_port[0],marker=(5,1,0),color='r',s=800)\n",
    "#plot green star to highlight position of minimum variance portfolio\n",
    "plt.scatter(min_vol_port[1],min_vol_port[0],marker=(5,1,0),color='g',s=800)\n",
    "\n",
    "plt.show()"
   ]
  },
  {
   "cell_type": "markdown",
   "metadata": {},
   "source": [
    "### Insights: \n",
    "Markowitz proved the existence of an efficient set of portfolios that opimize investors' return for the aount of risk they are willing to accept. \n",
    "\n",
    "Here, I constructed the efficient froniter by building a promising portfolio of three stocks with highest expected returns. I labeled the minimum variance portfolio with green for the investors who want to optimize the portfolio return without assuming additional risk. \n",
    "\n",
    "The portfolio with highest Sharpe Ratio labeled as a red start, is intended for investors who want to pursue the highest return for a given amout of risk. Sharpe ratio is a great way to make a proper compaison beween stocks and portfolios and decide which one is preferable interms of risk and returns.\n"
   ]
  },
  {
   "cell_type": "markdown",
   "metadata": {},
   "source": [
    "## Section V: Regression Analysis on the Correlation Between the Minimum Variance Portfolio and S&P 500 Index"
   ]
  },
  {
   "cell_type": "code",
   "execution_count": 80,
   "metadata": {},
   "outputs": [],
   "source": [
    "min_port_returns = np.sum(min_weights * top_returns)\n",
    "market_data = wb.DataReader(['^DJI','^GSPC'],data_source='yahoo',start=start,end=end)['Adj Close']"
   ]
  },
  {
   "cell_type": "code",
   "execution_count": 81,
   "metadata": {},
   "outputs": [],
   "source": [
    "top_returns = min_weights*top_returns\n",
    "top_returns['Total']=top_returns['BA'] + top_returns['MSFT'] + top_returns['UNH']"
   ]
  },
  {
   "cell_type": "code",
   "execution_count": 82,
   "metadata": {},
   "outputs": [
    {
     "data": {
      "image/png": "[encoded data removed]",
      "text/plain": [
       "<Figure size 720x576 with 1 Axes>"
      ]
     },
     "metadata": {
      "needs_background": "light"
     },
     "output_type": "display_data"
    }
   ],
   "source": [
    "#Plot the portfolio performance over the past 5 years\n",
    "\n",
    "graph = top_returns['Total'].plot();\n",
    "plt.ylabel('Returns');\n",
    "plt.xlabel('Year')\n",
    "plt.title('Minimum Variance Portfolio Performance over Past 5 Years');\n",
    "\n",
    "graph.axhline(y=top_returns['Total'].mean(),c=\"red\",linewidth=2,zorder=0);\n",
    "graph.axhline(y=top_returns['Total'].mean()+top_returns['Total'].std(),c=\"red\",linewidth=1,zorder=0);\n",
    "graph.axhline(y=top_returns['Total'].mean()-top_returns['Total'].std(),c=\"red\",linewidth=1,zorder=0);"
   ]
  },
  {
   "cell_type": "code",
   "execution_count": 83,
   "metadata": {},
   "outputs": [
    {
     "data": {
      "image/png": "[encoded data removed]",
      "text/plain": [
       "<Figure size 720x576 with 1 Axes>"
      ]
     },
     "metadata": {
      "needs_background": "light"
     },
     "output_type": "display_data"
    }
   ],
   "source": [
    "#Draw the scatter plot with minimum variance portfolio returns as an independent variable and SP500 market index as a dependent variable\n",
    "\n",
    "X1 = top_returns['Total'][1:]\n",
    "Y1 = log_returns['^GSPC'][1:]\n",
    "plt.scatter(X1,Y1);\n",
    "\n",
    "#Draw the trend line\n",
    "z = np.polyfit(X1,Y1,1)\n",
    "p = np.poly1d(z)\n",
    "plt.plot(X1,p(X1),\"r\")\n",
    "plt.show();"
   ]
  },
  {
   "cell_type": "code",
   "execution_count": 43,
   "metadata": {},
   "outputs": [],
   "source": [
    "#Apply statsmodel to run regression and conclude detailed stats\n",
    "x_hat = sm.add_constant(X1)\n",
    "reg = sm.OLS(Y1, x_hat).fit()"
   ]
  },
  {
   "cell_type": "code",
   "execution_count": 44,
   "metadata": {},
   "outputs": [
    {
     "data": {
      "text/html": [
       "<table class=\"simpletable\">\n",
       "<caption>OLS Regression Results</caption>\n",
       "<tr>\n",
       "  <th>Dep. Variable:</th>          <td>^GSPC</td>      <th>  R-squared:         </th> <td>   0.657</td> \n",
       "</tr>\n",
       "<tr>\n",
       "  <th>Model:</th>                   <td>OLS</td>       <th>  Adj. R-squared:    </th> <td>   0.657</td> \n",
       "</tr>\n",
       "<tr>\n",
       "  <th>Method:</th>             <td>Least Squares</td>  <th>  F-statistic:       </th> <td>   2405.</td> \n",
       "</tr>\n",
       "<tr>\n",
       "  <th>Date:</th>             <td>Thu, 18 Apr 2019</td> <th>  Prob (F-statistic):</th> <td>4.37e-294</td>\n",
       "</tr>\n",
       "<tr>\n",
       "  <th>Time:</th>                 <td>17:24:02</td>     <th>  Log-Likelihood:    </th> <td>  4908.2</td> \n",
       "</tr>\n",
       "<tr>\n",
       "  <th>No. Observations:</th>      <td>  1258</td>      <th>  AIC:               </th> <td>  -9812.</td> \n",
       "</tr>\n",
       "<tr>\n",
       "  <th>Df Residuals:</th>          <td>  1256</td>      <th>  BIC:               </th> <td>  -9802.</td> \n",
       "</tr>\n",
       "<tr>\n",
       "  <th>Df Model:</th>              <td>     1</td>      <th>                     </th>     <td> </td>    \n",
       "</tr>\n",
       "<tr>\n",
       "  <th>Covariance Type:</th>      <td>nonrobust</td>    <th>                     </th>     <td> </td>    \n",
       "</tr>\n",
       "</table>\n",
       "<table class=\"simpletable\">\n",
       "<tr>\n",
       "    <td></td>       <th>coef</th>     <th>std err</th>      <th>t</th>      <th>P>|t|</th>  <th>[0.025</th>    <th>0.975]</th>  \n",
       "</tr>\n",
       "<tr>\n",
       "  <th>const</th> <td>   -0.0002</td> <td>    0.000</td> <td>   -1.357</td> <td> 0.175</td> <td>   -0.000</td> <td> 8.37e-05</td>\n",
       "</tr>\n",
       "<tr>\n",
       "  <th>Total</th> <td>    0.5667</td> <td>    0.012</td> <td>   49.045</td> <td> 0.000</td> <td>    0.544</td> <td>    0.589</td>\n",
       "</tr>\n",
       "</table>\n",
       "<table class=\"simpletable\">\n",
       "<tr>\n",
       "  <th>Omnibus:</th>       <td>143.002</td> <th>  Durbin-Watson:     </th> <td>   2.060</td> \n",
       "</tr>\n",
       "<tr>\n",
       "  <th>Prob(Omnibus):</th> <td> 0.000</td>  <th>  Jarque-Bera (JB):  </th> <td> 938.221</td> \n",
       "</tr>\n",
       "<tr>\n",
       "  <th>Skew:</th>          <td>-0.285</td>  <th>  Prob(JB):          </th> <td>1.85e-204</td>\n",
       "</tr>\n",
       "<tr>\n",
       "  <th>Kurtosis:</th>      <td> 7.192</td>  <th>  Cond. No.          </th> <td>    83.7</td> \n",
       "</tr>\n",
       "</table><br/><br/>Warnings:<br/>[1] Standard Errors assume that the covariance matrix of the errors is correctly specified."
      ],
      "text/plain": [
       "<class 'statsmodels.iolib.summary.Summary'>\n",
       "\"\"\"\n",
       "                            OLS Regression Results                            \n",
       "==============================================================================\n",
       "Dep. Variable:                  ^GSPC   R-squared:                       0.657\n",
       "Model:                            OLS   Adj. R-squared:                  0.657\n",
       "Method:                 Least Squares   F-statistic:                     2405.\n",
       "Date:                Thu, 18 Apr 2019   Prob (F-statistic):          4.37e-294\n",
       "Time:                        17:24:02   Log-Likelihood:                 4908.2\n",
       "No. Observations:                1258   AIC:                            -9812.\n",
       "Df Residuals:                    1256   BIC:                            -9802.\n",
       "Df Model:                           1                                         \n",
       "Covariance Type:            nonrobust                                         \n",
       "==============================================================================\n",
       "                 coef    std err          t      P>|t|      [0.025      0.975]\n",
       "------------------------------------------------------------------------------\n",
       "const         -0.0002      0.000     -1.357      0.175      -0.000    8.37e-05\n",
       "Total          0.5667      0.012     49.045      0.000       0.544       0.589\n",
       "==============================================================================\n",
       "Omnibus:                      143.002   Durbin-Watson:                   2.060\n",
       "Prob(Omnibus):                  0.000   Jarque-Bera (JB):              938.221\n",
       "Skew:                          -0.285   Prob(JB):                    1.85e-204\n",
       "Kurtosis:                       7.192   Cond. No.                         83.7\n",
       "==============================================================================\n",
       "\n",
       "Warnings:\n",
       "[1] Standard Errors assume that the covariance matrix of the errors is correctly specified.\n",
       "\"\"\""
      ]
     },
     "execution_count": 44,
     "metadata": {},
     "output_type": "execute_result"
    }
   ],
   "source": [
    "reg.summary()"
   ]
  },
  {
   "cell_type": "code",
   "execution_count": 45,
   "metadata": {},
   "outputs": [
    {
     "data": {
      "text/html": [
       "<style  type=\"text/css\" >\n",
       "</style>  \n",
       "<table id=\"T_49c8e00c_6220_11e9_a3b5_a0a4c505eacd\" > \n",
       "<thead>    <tr> \n",
       "        <th class=\"blank level0\" ></th> \n",
       "        <th class=\"col_heading level0 col0\" >Minimum Portfoilo Returns</th> \n",
       "        <th class=\"col_heading level0 col1\" >S&P 500 Returns</th> \n",
       "    </tr></thead> \n",
       "<tbody>    <tr> \n",
       "        <th id=\"T_49c8e00c_6220_11e9_a3b5_a0a4c505eacdlevel0_row0\" class=\"row_heading level0 row0\" >0</th> \n",
       "        <td id=\"T_49c8e00c_6220_11e9_a3b5_a0a4c505eacdrow0_col0\" class=\"data row0 col0\" >23.70%</td> \n",
       "        <td id=\"T_49c8e00c_6220_11e9_a3b5_a0a4c505eacdrow0_col1\" class=\"data row0 col1\" >8.73%</td> \n",
       "    </tr></tbody> \n",
       "</table> "
      ],
      "text/plain": [
       "<pandas.io.formats.style.Styler at 0x24137eb4f28>"
      ]
     },
     "execution_count": 45,
     "metadata": {},
     "output_type": "execute_result"
    }
   ],
   "source": [
    "comparison = {'Minimum Portfoilo Returns':[top_returns['Total'].mean()*250], 'S&P 500 Returns':[log_returns['^GSPC'].mean()*250]}\n",
    "comparison = pd.DataFrame(comparison)\n",
    "comparison.style.format({\n",
    "    'Minimum Portfoilo Returns': '{:,.2%}'.format,\n",
    "    'S&P 500 Returns': '{:,.2%}'.format,\n",
    "})"
   ]
  },
  {
   "cell_type": "markdown",
   "metadata": {},
   "source": [
    "## Section VI:Conclude Insights from Previous Analysis"
   ]
  },
  {
   "cell_type": "markdown",
   "metadata": {},
   "source": [
    "1. From the regression above, 69.9% of the portfolio returns is explained by the S&P 500 returns. Portfolio performance is generally aligned with the market. \n",
    "2. By comparing the average returns over the past 5 years, the minimum variance portfolio has achieven 24.27% returns by overperforming the market by a factor of 1.5."
   ]
  },
  {
   "cell_type": "markdown",
   "metadata": {},
   "source": [
    "## Section VII: Additional Analysis on Coorelation between Google Trends and Stock Returns"
   ]
  },
  {
   "cell_type": "code",
   "execution_count": 84,
   "metadata": {},
   "outputs": [],
   "source": [
    "from pytrends.request import TrendReq\n",
    "pytrends = TrendReq(hl='en-US', tz=360)\n",
    "kw_list = ['Boeing','Software','Healthcare']"
   ]
  },
  {
   "cell_type": "code",
   "execution_count": 85,
   "metadata": {},
   "outputs": [
    {
     "data": {
      "text/html": [
       "<div>\n",
       "<style scoped>\n",
       "    .dataframe tbody tr th:only-of-type {\n",
       "        vertical-align: middle;\n",
       "    }\n",
       "\n",
       "    .dataframe tbody tr th {\n",
       "        vertical-align: top;\n",
       "    }\n",
       "\n",
       "    .dataframe thead th {\n",
       "        text-align: right;\n",
       "    }\n",
       "</style>\n",
       "<table border=\"1\" class=\"dataframe\">\n",
       "  <thead>\n",
       "    <tr style=\"text-align: right;\">\n",
       "      <th></th>\n",
       "      <th>Boeing</th>\n",
       "      <th>Software</th>\n",
       "      <th>Healthcare</th>\n",
       "      <th>isPartial</th>\n",
       "    </tr>\n",
       "    <tr>\n",
       "      <th>date</th>\n",
       "      <th></th>\n",
       "      <th></th>\n",
       "      <th></th>\n",
       "      <th></th>\n",
       "    </tr>\n",
       "  </thead>\n",
       "  <tbody>\n",
       "    <tr>\n",
       "      <th>2014-04-27</th>\n",
       "      <td>6</td>\n",
       "      <td>93</td>\n",
       "      <td>15</td>\n",
       "      <td>False</td>\n",
       "    </tr>\n",
       "    <tr>\n",
       "      <th>2014-05-04</th>\n",
       "      <td>6</td>\n",
       "      <td>93</td>\n",
       "      <td>15</td>\n",
       "      <td>False</td>\n",
       "    </tr>\n",
       "    <tr>\n",
       "      <th>2014-05-11</th>\n",
       "      <td>5</td>\n",
       "      <td>93</td>\n",
       "      <td>15</td>\n",
       "      <td>False</td>\n",
       "    </tr>\n",
       "    <tr>\n",
       "      <th>2014-05-18</th>\n",
       "      <td>6</td>\n",
       "      <td>94</td>\n",
       "      <td>15</td>\n",
       "      <td>False</td>\n",
       "    </tr>\n",
       "    <tr>\n",
       "      <th>2014-05-25</th>\n",
       "      <td>5</td>\n",
       "      <td>92</td>\n",
       "      <td>14</td>\n",
       "      <td>False</td>\n",
       "    </tr>\n",
       "    <tr>\n",
       "      <th>2014-06-01</th>\n",
       "      <td>6</td>\n",
       "      <td>91</td>\n",
       "      <td>15</td>\n",
       "      <td>False</td>\n",
       "    </tr>\n",
       "    <tr>\n",
       "      <th>2014-06-08</th>\n",
       "      <td>6</td>\n",
       "      <td>89</td>\n",
       "      <td>15</td>\n",
       "      <td>False</td>\n",
       "    </tr>\n",
       "    <tr>\n",
       "      <th>2014-06-15</th>\n",
       "      <td>5</td>\n",
       "      <td>92</td>\n",
       "      <td>15</td>\n",
       "      <td>False</td>\n",
       "    </tr>\n",
       "    <tr>\n",
       "      <th>2014-06-22</th>\n",
       "      <td>5</td>\n",
       "      <td>91</td>\n",
       "      <td>14</td>\n",
       "      <td>False</td>\n",
       "    </tr>\n",
       "    <tr>\n",
       "      <th>2014-06-29</th>\n",
       "      <td>5</td>\n",
       "      <td>88</td>\n",
       "      <td>13</td>\n",
       "      <td>False</td>\n",
       "    </tr>\n",
       "    <tr>\n",
       "      <th>...</th>\n",
       "      <td>...</td>\n",
       "      <td>...</td>\n",
       "      <td>...</td>\n",
       "      <td>...</td>\n",
       "    </tr>\n",
       "    <tr>\n",
       "      <th>2019-02-10</th>\n",
       "      <td>6</td>\n",
       "      <td>61</td>\n",
       "      <td>17</td>\n",
       "      <td>False</td>\n",
       "    </tr>\n",
       "    <tr>\n",
       "      <th>2019-02-17</th>\n",
       "      <td>6</td>\n",
       "      <td>61</td>\n",
       "      <td>17</td>\n",
       "      <td>False</td>\n",
       "    </tr>\n",
       "    <tr>\n",
       "      <th>2019-02-24</th>\n",
       "      <td>7</td>\n",
       "      <td>59</td>\n",
       "      <td>18</td>\n",
       "      <td>False</td>\n",
       "    </tr>\n",
       "    <tr>\n",
       "      <th>2019-03-03</th>\n",
       "      <td>6</td>\n",
       "      <td>61</td>\n",
       "      <td>18</td>\n",
       "      <td>False</td>\n",
       "    </tr>\n",
       "    <tr>\n",
       "      <th>2019-03-10</th>\n",
       "      <td>75</td>\n",
       "      <td>59</td>\n",
       "      <td>17</td>\n",
       "      <td>False</td>\n",
       "    </tr>\n",
       "    <tr>\n",
       "      <th>2019-03-17</th>\n",
       "      <td>21</td>\n",
       "      <td>57</td>\n",
       "      <td>17</td>\n",
       "      <td>False</td>\n",
       "    </tr>\n",
       "    <tr>\n",
       "      <th>2019-03-24</th>\n",
       "      <td>15</td>\n",
       "      <td>60</td>\n",
       "      <td>17</td>\n",
       "      <td>False</td>\n",
       "    </tr>\n",
       "    <tr>\n",
       "      <th>2019-03-31</th>\n",
       "      <td>13</td>\n",
       "      <td>59</td>\n",
       "      <td>18</td>\n",
       "      <td>False</td>\n",
       "    </tr>\n",
       "    <tr>\n",
       "      <th>2019-04-07</th>\n",
       "      <td>11</td>\n",
       "      <td>58</td>\n",
       "      <td>17</td>\n",
       "      <td>False</td>\n",
       "    </tr>\n",
       "    <tr>\n",
       "      <th>2019-04-14</th>\n",
       "      <td>9</td>\n",
       "      <td>53</td>\n",
       "      <td>17</td>\n",
       "      <td>True</td>\n",
       "    </tr>\n",
       "  </tbody>\n",
       "</table>\n",
       "<p>260 rows × 4 columns</p>\n",
       "</div>"
      ],
      "text/plain": [
       "            Boeing  Software  Healthcare isPartial\n",
       "date                                              \n",
       "2014-04-27       6        93          15     False\n",
       "2014-05-04       6        93          15     False\n",
       "2014-05-11       5        93          15     False\n",
       "2014-05-18       6        94          15     False\n",
       "2014-05-25       5        92          14     False\n",
       "2014-06-01       6        91          15     False\n",
       "2014-06-08       6        89          15     False\n",
       "2014-06-15       5        92          15     False\n",
       "2014-06-22       5        91          14     False\n",
       "2014-06-29       5        88          13     False\n",
       "...            ...       ...         ...       ...\n",
       "2019-02-10       6        61          17     False\n",
       "2019-02-17       6        61          17     False\n",
       "2019-02-24       7        59          18     False\n",
       "2019-03-03       6        61          18     False\n",
       "2019-03-10      75        59          17     False\n",
       "2019-03-17      21        57          17     False\n",
       "2019-03-24      15        60          17     False\n",
       "2019-03-31      13        59          18     False\n",
       "2019-04-07      11        58          17     False\n",
       "2019-04-14       9        53          17      True\n",
       "\n",
       "[260 rows x 4 columns]"
      ]
     },
     "execution_count": 85,
     "metadata": {},
     "output_type": "execute_result"
    }
   ],
   "source": [
    "pytrends.build_payload(kw_list, cat=0, timeframe='today 5-y', geo='', gprop='')\n",
    "\n",
    "kw_searches = pytrends.interest_over_time()\n",
    "kw_searches = kw_searches.iloc[1:]\n",
    "kw_searches"
   ]
  },
  {
   "cell_type": "code",
   "execution_count": 88,
   "metadata": {},
   "outputs": [],
   "source": [
    "top_prices_weekly = sec_data[['BA','MSFT','V']].resample('W').mean()\n",
    "top_prices_weekly = top_prices_weekly.iloc[1:-1]\n",
    "top_prices_weekly['Searches'] = kw_searches['Boeing'] + kw_searches['Software'] + kw_searches['Healthcare']\n",
    "top_prices_weekly['Total'] = top_prices_weekly['BA']+top_prices_weekly['MSFT']+top_prices_weekly['V']"
   ]
  },
  {
   "cell_type": "code",
   "execution_count": 89,
   "metadata": {},
   "outputs": [
    {
     "data": {
      "image/png": "[encoded data removed]",
      "text/plain": [
       "<Figure size 720x576 with 1 Axes>"
      ]
     },
     "metadata": {
      "needs_background": "light"
     },
     "output_type": "display_data"
    }
   ],
   "source": [
    "X1 = top_prices_weekly['Searches']\n",
    "Y1 = top_prices_weekly['Total']\n",
    "plt.scatter(X1,Y1);\n",
    "\n",
    "#Draw the trend line\n",
    "z = np.polyfit(X1,Y1,1)\n",
    "p = np.poly1d(z)\n",
    "plt.plot(X1,p(X1),\"r\")\n",
    "plt.show();"
   ]
  },
  {
   "cell_type": "code",
   "execution_count": 91,
   "metadata": {},
   "outputs": [],
   "source": [
    "#Apply statsmodel to run regression and conclude detailed stats\n",
    "x_hat = sm.add_constant(X1)\n",
    "reg = sm.OLS(Y1, x_hat).fit()"
   ]
  },
  {
   "cell_type": "code",
   "execution_count": 92,
   "metadata": {},
   "outputs": [
    {
     "data": {
      "text/html": [
       "<table class=\"simpletable\">\n",
       "<caption>OLS Regression Results</caption>\n",
       "<tr>\n",
       "  <th>Dep. Variable:</th>          <td>Total</td>      <th>  R-squared:         </th> <td>   0.406</td>\n",
       "</tr>\n",
       "<tr>\n",
       "  <th>Model:</th>                   <td>OLS</td>       <th>  Adj. R-squared:    </th> <td>   0.404</td>\n",
       "</tr>\n",
       "<tr>\n",
       "  <th>Method:</th>             <td>Least Squares</td>  <th>  F-statistic:       </th> <td>   175.9</td>\n",
       "</tr>\n",
       "<tr>\n",
       "  <th>Date:</th>             <td>Thu, 18 Apr 2019</td> <th>  Prob (F-statistic):</th> <td>6.18e-31</td>\n",
       "</tr>\n",
       "<tr>\n",
       "  <th>Time:</th>                 <td>17:42:45</td>     <th>  Log-Likelihood:    </th> <td> -1600.1</td>\n",
       "</tr>\n",
       "<tr>\n",
       "  <th>No. Observations:</th>      <td>   259</td>      <th>  AIC:               </th> <td>   3204.</td>\n",
       "</tr>\n",
       "<tr>\n",
       "  <th>Df Residuals:</th>          <td>   257</td>      <th>  BIC:               </th> <td>   3211.</td>\n",
       "</tr>\n",
       "<tr>\n",
       "  <th>Df Model:</th>              <td>     1</td>      <th>                     </th>     <td> </td>   \n",
       "</tr>\n",
       "<tr>\n",
       "  <th>Covariance Type:</th>      <td>nonrobust</td>    <th>                     </th>     <td> </td>   \n",
       "</tr>\n",
       "</table>\n",
       "<table class=\"simpletable\">\n",
       "<tr>\n",
       "      <td></td>        <th>coef</th>     <th>std err</th>      <th>t</th>      <th>P>|t|</th>  <th>[0.025</th>    <th>0.975]</th>  \n",
       "</tr>\n",
       "<tr>\n",
       "  <th>const</th>    <td> 1069.2481</td> <td>   54.390</td> <td>   19.659</td> <td> 0.000</td> <td>  962.141</td> <td> 1176.355</td>\n",
       "</tr>\n",
       "<tr>\n",
       "  <th>Searches</th> <td>   -7.6034</td> <td>    0.573</td> <td>  -13.262</td> <td> 0.000</td> <td>   -8.732</td> <td>   -6.474</td>\n",
       "</tr>\n",
       "</table>\n",
       "<table class=\"simpletable\">\n",
       "<tr>\n",
       "  <th>Omnibus:</th>       <td>94.604</td> <th>  Durbin-Watson:     </th> <td>   0.206</td> \n",
       "</tr>\n",
       "<tr>\n",
       "  <th>Prob(Omnibus):</th> <td> 0.000</td> <th>  Jarque-Bera (JB):  </th> <td> 465.229</td> \n",
       "</tr>\n",
       "<tr>\n",
       "  <th>Skew:</th>          <td> 1.398</td> <th>  Prob(JB):          </th> <td>9.48e-102</td>\n",
       "</tr>\n",
       "<tr>\n",
       "  <th>Kurtosis:</th>      <td> 8.941</td> <th>  Cond. No.          </th> <td>    709.</td> \n",
       "</tr>\n",
       "</table><br/><br/>Warnings:<br/>[1] Standard Errors assume that the covariance matrix of the errors is correctly specified."
      ],
      "text/plain": [
       "<class 'statsmodels.iolib.summary.Summary'>\n",
       "\"\"\"\n",
       "                            OLS Regression Results                            \n",
       "==============================================================================\n",
       "Dep. Variable:                  Total   R-squared:                       0.406\n",
       "Model:                            OLS   Adj. R-squared:                  0.404\n",
       "Method:                 Least Squares   F-statistic:                     175.9\n",
       "Date:                Thu, 18 Apr 2019   Prob (F-statistic):           6.18e-31\n",
       "Time:                        17:42:45   Log-Likelihood:                -1600.1\n",
       "No. Observations:                 259   AIC:                             3204.\n",
       "Df Residuals:                     257   BIC:                             3211.\n",
       "Df Model:                           1                                         \n",
       "Covariance Type:            nonrobust                                         \n",
       "==============================================================================\n",
       "                 coef    std err          t      P>|t|      [0.025      0.975]\n",
       "------------------------------------------------------------------------------\n",
       "const       1069.2481     54.390     19.659      0.000     962.141    1176.355\n",
       "Searches      -7.6034      0.573    -13.262      0.000      -8.732      -6.474\n",
       "==============================================================================\n",
       "Omnibus:                       94.604   Durbin-Watson:                   0.206\n",
       "Prob(Omnibus):                  0.000   Jarque-Bera (JB):              465.229\n",
       "Skew:                           1.398   Prob(JB):                    9.48e-102\n",
       "Kurtosis:                       8.941   Cond. No.                         709.\n",
       "==============================================================================\n",
       "\n",
       "Warnings:\n",
       "[1] Standard Errors assume that the covariance matrix of the errors is correctly specified.\n",
       "\"\"\""
      ]
     },
     "execution_count": 92,
     "metadata": {},
     "output_type": "execute_result"
    }
   ],
   "source": [
    "reg.summary()"
   ]
  },
  {
   "cell_type": "code",
   "execution_count": null,
   "metadata": {},
   "outputs": [],
   "source": []
  }
 ],
 "metadata": {
  "kernelspec": {
   "display_name": "Python 3",
   "language": "python",
   "name": "python3"
  },
  "language_info": {
   "codemirror_mode": {
    "name": "ipython",
    "version": 3
   },
   "file_extension": ".py",
   "mimetype": "text/x-python",
   "name": "python",
   "nbconvert_exporter": "python",
   "pygments_lexer": "ipython3",
   "version": "3.7.1"
  }
 },
 "nbformat": 4,
 "nbformat_minor": 2
}
